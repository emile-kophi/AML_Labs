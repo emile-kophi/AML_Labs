{
 "cells": [
  {
   "cell_type": "markdown",
   "id": "d97f7c5d-46f3-4cbd-80ad-f1e50cd65096",
   "metadata": {},
   "source": [
    "# Deep Learning Applications: Laboratory #1\n",
    "\n",
    "In this first laboratory we will work relatively simple architectures to get a feel for working with Deep Models. This notebook is designed to work with PyTorch, but as I said in the introductory lecture: please feel free to use and experiment with whatever tools you like.\n",
    "\n",
    "**Important Notes**:\n",
    "1. Be sure to **document** all of your decisions, as well as your intermediate and final results. Make sure your conclusions and analyses are clearly presented. Don't make us dig into your code or walls of printed results to try to draw conclusions from your code.\n",
    "2. If you use code from someone else (e.g. Github, Stack Overflow, ChatGPT, etc) you **must be transparent about it**. Document your sources and explain how you adapted any partial solutions to creat **your** solution.\n",
    "\n"
   ]
  },
  {
   "cell_type": "markdown",
   "id": "17ed8906-bd19-4b4f-8b79-4feae355ffd6",
   "metadata": {},
   "source": [
    "## Exercise 1: Warming Up\n",
    "In this series of exercises I want you to try to duplicate (on a small scale) the results of the ResNet paper:\n",
    "\n",
    "> [Deep Residual Learning for Image Recognition](https://arxiv.org/abs/1512.03385), Kaiming He, Xiangyu Zhang, Shaoqing Ren, Jian Sun, CVPR 2016.\n",
    "\n",
    "We will do this in steps using a Multilayer Perceptron on MNIST.\n",
    "\n",
    "Recall that the main message of the ResNet paper is that **deeper** networks do not **guarantee** more reduction in training loss (or in validation accuracy). Below you will incrementally build a sequence of experiments to verify this for an MLP. A few guidelines:\n",
    "\n",
    "+ I have provided some **starter** code at the beginning. **NONE** of this code should survive in your solutions. Not only is it **very** badly written, it is also written in my functional style that also obfuscates what it's doing (in part to **discourage** your reuse!). It's just to get you *started*.\n",
    "+ These exercises ask you to compare **multiple** training runs, so it is **really** important that you factor this into your **pipeline**. Using [Tensorboard](https://pytorch.org/tutorials/recipes/recipes/tensorboard_with_pytorch.html) is a **very** good idea -- or, even better [Weights and Biases](https://wandb.ai/site).\n",
    "+ You may work and submit your solutions in **groups of at most two**. Share your ideas with everyone, but the solutions you submit *must be your own*.\n",
    "\n",
    "First some boilerplate to get you started, then on to the actual exercises!"
   ]
  },
  {
   "cell_type": "markdown",
   "id": "edb2b6d1-3df0-464c-9a5f-8c611257a971",
   "metadata": {},
   "source": [
    "### Preface: Some code to get you started\n",
    "\n",
    "What follows is some **very simple** code for training an MLP on MNIST. The point of this code is to get you up and running (and to verify that your Python environment has all needed dependencies).\n",
    "\n",
    "**Note**: As you read through my code and execute it, this would be a good time to think about *abstracting* **your** model definition, and training and evaluation pipelines in order to make it easier to compare performance of different models."
   ]
  },
  {
   "cell_type": "markdown",
   "id": "e9b98e27",
   "metadata": {},
   "source": [
    "## **Import**"
   ]
  },
  {
   "cell_type": "code",
   "execution_count": 1,
   "id": "ab3a8282-2322-4dca-b76e-2f3863bc75fb",
   "metadata": {
    "tags": []
   },
   "outputs": [],
   "source": [
    "# Import standard libraries\n",
    "import numpy as np\n",
    "import matplotlib.pyplot as plt\n",
    "from functools import reduce\n",
    "import wandb\n",
    "from sklearn.metrics import accuracy_score, precision_score\n",
    "import matplotlib.pyplot as plt\n",
    "\n",
    "#import models\n",
    "from sklearn.svm import SVC\n",
    "from sklearn.neighbors import KNeighborsClassifier\n",
    "\n",
    "# Import PyTorch and Torchvion\n",
    "import torch\n",
    "from torch.utils.data import DataLoader, random_split\n",
    "import torch.nn as nn\n",
    "import torch.nn.functional as F\n",
    "import torchvision.transforms as transforms\n",
    "from torchvision.models.resnet import BasicBlock\n",
    "\n",
    "#import Datasets\n",
    "from torchvision.datasets import MNIST\n",
    "from torchvision.datasets import CIFAR10\n",
    "from torchvision.datasets import CIFAR100"
   ]
  },
  {
   "cell_type": "markdown",
   "id": "2f821098",
   "metadata": {},
   "source": [
    "\n",
    "### ***Further settings***"
   ]
  },
  {
   "cell_type": "code",
   "execution_count": 2,
   "id": "555086a9",
   "metadata": {},
   "outputs": [
    {
     "data": {
      "text/plain": [
       "<torch._C.Generator at 0x2a3f23ee550>"
      ]
     },
     "execution_count": 2,
     "metadata": {},
     "output_type": "execute_result"
    }
   ],
   "source": [
    "# Set device (GPU if available)\n",
    "device = torch.device(\"cuda\" if torch.cuda.is_available() else \"cpu\")\n",
    "\n",
    "# fix random seed for reproducibility\n",
    "torch.manual_seed(808)"
   ]
  },
  {
   "cell_type": "markdown",
   "id": "875008c3-306c-4e39-a845-d7bda7862621",
   "metadata": {},
   "source": [
    "#### A basic, parameterized MLP\n",
    "\n",
    "This is a very basic implementation of a Multilayer Perceptron. Don't waste too much time trying to figure out how it works -- the important detail is that it allows you to pass in a list of input, hidden layer, and output *widths*. **Your** implementation should also support this for the exercises to come."
   ]
  },
  {
   "cell_type": "markdown",
   "id": "de2cad13-ee2c-4e43-b5c7-31760da8c2df",
   "metadata": {},
   "source": [
    "# *Exercise 1.1: A baseline MLP*\n",
    "\n",
    "Implement a *simple* Multilayer Perceptron to classify the 10 digits of MNIST (e.g. two *narrow* layers). Use my code above as inspiration, but implement your own training pipeline -- you will need it later. Train this model to convergence, monitoring (at least) the loss and accuracy on the training and validation sets for every epoch. Below I include a basic implementation to get you started -- remember that you should write your *own* pipeline!\n",
    "\n",
    "**Note**: This would be a good time to think about *abstracting* your model definition, and training and evaluation pipelines in order to make it easier to compare performance of different models.\n",
    "\n",
    "**Important**: Given the *many* runs you will need to do, and the need to *compare* performance between them, this would **also** be a great point to study how **Tensorboard** or **Weights and Biases** can be used for performance monitoring."
   ]
  },
  {
   "cell_type": "markdown",
   "id": "d4eb421a",
   "metadata": {},
   "source": [
    "###  **Model architecure**"
   ]
  },
  {
   "cell_type": "code",
   "execution_count": 3,
   "id": "ce58203c",
   "metadata": {},
   "outputs": [],
   "source": [
    "# Model with 2 hidden layer \n",
    "class MLP(nn.Module):\n",
    "    def __init__(self, input_size, hidden_size1,hidden_size2, output_size,dropout_rate):\n",
    "        super().__init__()\n",
    "        self.fc1 = nn.Linear(input_size, hidden_size1)\n",
    "        self.fc2 = nn.Linear(hidden_size1, hidden_size2)\n",
    "        self.dropout = nn.Dropout(p=dropout_rate)  \n",
    "        self.out = nn.Linear(hidden_size2, output_size)\n",
    "\n",
    "    def forward(self, x):\n",
    "        x = x.view(x.size(0), -1)  # Flatten\n",
    "        x = F.relu(self.fc1(x))        \n",
    "        x = F.relu(self.fc2(x))\n",
    "        x = self.dropout(x)          \n",
    "        return self.out(x)\n"
   ]
  },
  {
   "cell_type": "markdown",
   "id": "157a67f6",
   "metadata": {},
   "source": [
    "### **Data preparation**"
   ]
  },
  {
   "cell_type": "code",
   "execution_count": 3,
   "id": "8bac6d93",
   "metadata": {},
   "outputs": [],
   "source": [
    "\n",
    "# Data parameters\n",
    "batch_size = 128\n",
    "val_fraction=0.1\n",
    "\n",
    "# Load the MNIST dataset with standard normalization, and split the training set into training and validation subsets\n",
    "def load_mnist_datasets(data_dir='./data', val_fraction=val_fraction, download=True):\n",
    "    transform = transforms.Compose([\n",
    "        transforms.ToTensor(),\n",
    "        transforms.Normalize((0.1307,), (0.3081,))\n",
    "    ])\n",
    "\n",
    "    full_dataset = MNIST(root=data_dir, train=True, download=download, transform=transform)\n",
    "    test = MNIST(root=data_dir, train=False, download=download, transform=transform)\n",
    "\n",
    "    total_train = len(full_dataset)\n",
    "    val_size = int(total_train * val_fraction)\n",
    "    train_size = total_train - val_size\n",
    "\n",
    "    train, val = torch.utils.data.random_split(full_dataset, [train_size, val_size]) \n",
    "    # Create DataLoaders\n",
    "    train_loader = DataLoader(train, batch_size=batch_size, shuffle=True)\n",
    "    val_loader = DataLoader(val, batch_size=batch_size, shuffle=False)\n",
    "    test_loader = DataLoader(test, batch_size=batch_size, shuffle=False)\n",
    "    return train_loader, val_loader, test_loader\n",
    "train_loader, val_loader, test_loader = load_mnist_datasets()\n"
   ]
  },
  {
   "cell_type": "markdown",
   "id": "44222001",
   "metadata": {},
   "source": [
    "## **TRANING CONFIGURATION**"
   ]
  },
  {
   "cell_type": "code",
   "execution_count": 4,
   "id": "6ca369d2",
   "metadata": {},
   "outputs": [],
   "source": [
    "def train_model(model, train_loader, val_loader, optimizer, criterion, num_epochs, device,\n",
    "                patience, min_delta,\n",
    "                delta_overfit, overfit_patience,\n",
    "                wandb_project=None, wandb_run_name=None):\n",
    "    device = torch.device('cuda' if torch.cuda.is_available() else 'cpu')\n",
    "    model.to(device)\n",
    "    print(f\"Device: {device}\")\n",
    "\n",
    "    train_losses = []\n",
    "    val_losses = []\n",
    "\n",
    "    best_val_loss = float('inf')\n",
    "    overfit_epochs = 0\n",
    "    insufficient_change_epochs = 0\n",
    "    prev_val_loss = None\n",
    "    actual_epochs = num_epochs  # Default: all epochs completed\n",
    "\n",
    "    # Initialize Weights & Biases\n",
    "    if wandb_project is not None:\n",
    "        wandb.init(project=wandb_project, name=wandb_run_name, reinit=True)\n",
    "\n",
    "    for epoch in range(num_epochs):\n",
    "        model.train()\n",
    "        running_loss = 0\n",
    "        correct = 0\n",
    "        total = 0\n",
    "\n",
    "        # Training loop\n",
    "        for inputs, labels in train_loader:\n",
    "            inputs, labels = inputs.to(device), labels.to(device)\n",
    "            optimizer.zero_grad()\n",
    "            outputs = model(inputs)\n",
    "            loss = criterion(outputs, labels)\n",
    "            loss.backward()\n",
    "            optimizer.step()\n",
    "\n",
    "            running_loss += loss.item() * inputs.size(0)\n",
    "            _, predicted = torch.max(outputs, 1)\n",
    "            correct += (predicted == labels).sum().item()\n",
    "            total += labels.size(0)\n",
    "\n",
    "        train_loss = running_loss / total\n",
    "        train_acc = correct / total\n",
    "        train_losses.append(train_loss)\n",
    "\n",
    "        # Validation loop\n",
    "        model.eval()\n",
    "        val_loss, val_acc = 0, 0\n",
    "        val_correct, val_total = 0, 0\n",
    "        with torch.no_grad():\n",
    "            for inputs, labels in val_loader:\n",
    "                inputs, labels = inputs.to(device), labels.to(device)\n",
    "                outputs = model(inputs)\n",
    "                loss = criterion(outputs, labels)\n",
    "                val_loss += loss.item() * inputs.size(0)\n",
    "                _, predicted = torch.max(outputs, 1)\n",
    "                val_correct += (predicted == labels).sum().item()\n",
    "                val_total += labels.size(0)\n",
    "            val_loss /= val_total\n",
    "            val_acc = val_correct / val_total\n",
    "            val_losses.append(val_loss)\n",
    "\n",
    "        # Print training progress\n",
    "        print(f\"Epoch {epoch+1}/{num_epochs}\")\n",
    "        print(f\"  Train_Loss: {train_loss:.4f} | Train_Acc: {train_acc:.4f}\")\n",
    "        print(f\"  Val_Loss: {val_loss:.4f} | Val_Acc: {val_acc:.4f}\\n\")\n",
    "\n",
    "        # Log metrics to wandb\n",
    "        if wandb_project is not None:\n",
    "            wandb.log({\n",
    "                \"epoch\": epoch + 1,\n",
    "                \"train_loss\": train_loss,\n",
    "                \"train_acc\": train_acc,\n",
    "                \"val_loss\": val_loss,\n",
    "                \"val_acc\": val_acc\n",
    "            })\n",
    "\n",
    "        # Save best model and reset overfitting counter\n",
    "        if val_loss < best_val_loss:\n",
    "            best_val_loss = val_loss\n",
    "            overfit_epochs = 0\n",
    "            torch.save(model.state_dict(), 'best_model.pth')\n",
    "        else:\n",
    "            # If validation loss increases, count as potential overfitting\n",
    "            if val_loss > best_val_loss + delta_overfit:\n",
    "                overfit_epochs += 1\n",
    "                print(f\"⚠️WARNING:Change in the trend of value  val_loss: best value= {best_val_loss:.4f} | current value= {val_loss:.4f}\")\n",
    "                if overfit_epochs >= overfit_patience: \n",
    "                    print(f\"🛑Early stopping due to high risk of OVERFITTING\\nEpoch {epoch+1}: val_loss is INCREASING for {overfit_patience} epochs\")\n",
    "                    actual_epochs = epoch + 1\n",
    "                    break\n",
    "            else:\n",
    "                overfit_epochs = 0\n",
    "\n",
    "        # Check for stagnation\n",
    "        if prev_val_loss is None:\n",
    "            prev_val_loss = val_loss\n",
    "            continue\n",
    "\n",
    "        delta = abs(prev_val_loss - val_loss)\n",
    "        if delta >= min_delta:\n",
    "            insufficient_change_epochs = 0\n",
    "        else:\n",
    "            insufficient_change_epochs += 1\n",
    "            print(f\"⚠️Δ(val_loss) < {min_delta} for {insufficient_change_epochs} consecutive epoch(s)\")\n",
    "            if insufficient_change_epochs >= patience:\n",
    "                print(f\"🛑Early stopping due to STAGNATION\\nEpoch {epoch+1}: No significant change (|Δ| < {min_delta}) for {patience} consecutive epochs.\")\n",
    "                actual_epochs = epoch + 1\n",
    "                break\n",
    "\n",
    "        prev_val_loss = val_loss\n",
    "\n",
    "    if wandb_project is not None:\n",
    "        wandb.finish()\n",
    "\n",
    "    return train_losses, val_losses, actual_epochs\n"
   ]
  },
  {
   "cell_type": "markdown",
   "id": "378e9010",
   "metadata": {},
   "source": [
    "### **Evaluation configuration**"
   ]
  },
  {
   "cell_type": "code",
   "execution_count": 5,
   "id": "bab95338",
   "metadata": {},
   "outputs": [],
   "source": [
    "def evaluate(model, data_loader, criterion, device):\n",
    "    model.eval()\n",
    "    running_loss = 0\n",
    "    all_preds = []\n",
    "    all_labels = []\n",
    "    total = 0\n",
    "\n",
    "    with torch.no_grad():\n",
    "        for inputs, labels in data_loader:\n",
    "            inputs, labels = inputs.to(device), labels.to(device)\n",
    "            outputs = model(inputs)\n",
    "            loss = criterion(outputs, labels)\n",
    "\n",
    "            running_loss += loss.item() * inputs.size(0)\n",
    "            _, predicted = torch.max(outputs, 1)\n",
    "            all_preds.extend(predicted.cpu().numpy())\n",
    "            all_labels.extend(labels.cpu().numpy())\n",
    "            total += labels.size(0)\n",
    "\n",
    "    avg_loss = running_loss / total\n",
    "    accuracy = accuracy_score(all_labels, all_preds)\n",
    "    precision = precision_score(all_labels, all_preds, average='weighted')\n",
    "\n",
    "    return avg_loss, accuracy, precision\n"
   ]
  },
  {
   "cell_type": "markdown",
   "id": "b4512abe",
   "metadata": {},
   "source": [
    "## ***Model Traning*** "
   ]
  },
  {
   "cell_type": "code",
   "execution_count": 9,
   "id": "1625bc2f",
   "metadata": {},
   "outputs": [
    {
     "name": "stdout",
     "output_type": "stream",
     "text": [
      "Device: cuda\n"
     ]
    },
    {
     "name": "stderr",
     "output_type": "stream",
     "text": [
      "wandb: Using wandb-core as the SDK backend.  Please refer to https://wandb.me/wandb-core for more information.\n",
      "wandb: Currently logged in as: emile-agbedanu (emile-agbedanu-none) to https://api.wandb.ai. Use `wandb login --relogin` to force relogin\n"
     ]
    },
    {
     "data": {
      "text/html": [],
      "text/plain": [
       "<IPython.core.display.HTML object>"
      ]
     },
     "metadata": {},
     "output_type": "display_data"
    },
    {
     "data": {
      "text/html": [
       "Tracking run with wandb version 0.19.8"
      ],
      "text/plain": [
       "<IPython.core.display.HTML object>"
      ]
     },
     "metadata": {},
     "output_type": "display_data"
    },
    {
     "data": {
      "text/html": [
       "Run data is saved locally in <code>c:\\UNIFI\\LM Bio UniFi\\II ANNO\\SECONDO SEMESTRE\\APPLI OF MACHINE LEARNING\\AML_Labs\\Exercise\\wandb\\run-20250805_144059-yd0svuzk</code>"
      ],
      "text/plain": [
       "<IPython.core.display.HTML object>"
      ]
     },
     "metadata": {},
     "output_type": "display_data"
    },
    {
     "data": {
      "text/html": [
       "Syncing run <strong><a href='https://wandb.ai/emile-agbedanu-none/AML_MLP/runs/yd0svuzk' target=\"_blank\">2lp_run</a></strong> to <a href='https://wandb.ai/emile-agbedanu-none/AML_MLP' target=\"_blank\">Weights & Biases</a> (<a href='https://wandb.me/developer-guide' target=\"_blank\">docs</a>)<br>"
      ],
      "text/plain": [
       "<IPython.core.display.HTML object>"
      ]
     },
     "metadata": {},
     "output_type": "display_data"
    },
    {
     "data": {
      "text/html": [
       " View project at <a href='https://wandb.ai/emile-agbedanu-none/AML_MLP' target=\"_blank\">https://wandb.ai/emile-agbedanu-none/AML_MLP</a>"
      ],
      "text/plain": [
       "<IPython.core.display.HTML object>"
      ]
     },
     "metadata": {},
     "output_type": "display_data"
    },
    {
     "data": {
      "text/html": [
       " View run at <a href='https://wandb.ai/emile-agbedanu-none/AML_MLP/runs/yd0svuzk' target=\"_blank\">https://wandb.ai/emile-agbedanu-none/AML_MLP/runs/yd0svuzk</a>"
      ],
      "text/plain": [
       "<IPython.core.display.HTML object>"
      ]
     },
     "metadata": {},
     "output_type": "display_data"
    },
    {
     "name": "stdout",
     "output_type": "stream",
     "text": [
      "Epoch 1/50\n",
      "  Train_Loss: 0.3937 | Train_Acc: 0.8839\n",
      "  Val_Loss: 0.1732 | Val_Acc: 0.9472\n",
      "\n",
      "Epoch 2/50\n",
      "  Train_Loss: 0.1674 | Train_Acc: 0.9504\n",
      "  Val_Loss: 0.1312 | Val_Acc: 0.9577\n",
      "\n",
      "Epoch 3/50\n",
      "  Train_Loss: 0.1196 | Train_Acc: 0.9635\n",
      "  Val_Loss: 0.1022 | Val_Acc: 0.9680\n",
      "\n",
      "Epoch 4/50\n",
      "  Train_Loss: 0.0929 | Train_Acc: 0.9717\n",
      "  Val_Loss: 0.0968 | Val_Acc: 0.9708\n",
      "\n",
      "Epoch 5/50\n",
      "  Train_Loss: 0.0763 | Train_Acc: 0.9764\n",
      "  Val_Loss: 0.0909 | Val_Acc: 0.9720\n",
      "\n",
      "Epoch 6/50\n",
      "  Train_Loss: 0.0646 | Train_Acc: 0.9792\n",
      "  Val_Loss: 0.0852 | Val_Acc: 0.9713\n",
      "\n",
      "Epoch 7/50\n",
      "  Train_Loss: 0.0564 | Train_Acc: 0.9822\n",
      "  Val_Loss: 0.0768 | Val_Acc: 0.9777\n",
      "\n",
      "Epoch 8/50\n",
      "  Train_Loss: 0.0470 | Train_Acc: 0.9852\n",
      "  Val_Loss: 0.0828 | Val_Acc: 0.9740\n",
      "\n",
      "Epoch 9/50\n",
      "  Train_Loss: 0.0422 | Train_Acc: 0.9856\n",
      "  Val_Loss: 0.0785 | Val_Acc: 0.9743\n",
      "\n",
      "Epoch 10/50\n",
      "  Train_Loss: 0.0366 | Train_Acc: 0.9878\n",
      "  Val_Loss: 0.0838 | Val_Acc: 0.9767\n",
      "\n",
      "Epoch 11/50\n",
      "  Train_Loss: 0.0334 | Train_Acc: 0.9890\n",
      "  Val_Loss: 0.0824 | Val_Acc: 0.9762\n",
      "\n",
      "Epoch 12/50\n",
      "  Train_Loss: 0.0294 | Train_Acc: 0.9899\n",
      "  Val_Loss: 0.0809 | Val_Acc: 0.9775\n",
      "\n",
      "Epoch 13/50\n",
      "  Train_Loss: 0.0272 | Train_Acc: 0.9906\n",
      "  Val_Loss: 0.0915 | Val_Acc: 0.9785\n",
      "\n",
      "⚠️WARNING:Change in the trend of value  val_loss: best value= 0.0768 | current value= 0.0915\n",
      "Epoch 14/50\n",
      "  Train_Loss: 0.0254 | Train_Acc: 0.9912\n",
      "  Val_Loss: 0.0891 | Val_Acc: 0.9788\n",
      "\n",
      "⚠️WARNING:Change in the trend of value  val_loss: best value= 0.0768 | current value= 0.0891\n",
      "Epoch 15/50\n",
      "  Train_Loss: 0.0213 | Train_Acc: 0.9927\n",
      "  Val_Loss: 0.0900 | Val_Acc: 0.9773\n",
      "\n",
      "⚠️WARNING:Change in the trend of value  val_loss: best value= 0.0768 | current value= 0.0900\n",
      "⚠️Δ(val_loss) < 0.001 for 1 consecutive epoch(s)\n",
      "Epoch 16/50\n",
      "  Train_Loss: 0.0219 | Train_Acc: 0.9927\n",
      "  Val_Loss: 0.0927 | Val_Acc: 0.9785\n",
      "\n",
      "⚠️WARNING:Change in the trend of value  val_loss: best value= 0.0768 | current value= 0.0927\n",
      "Epoch 17/50\n",
      "  Train_Loss: 0.0205 | Train_Acc: 0.9926\n",
      "  Val_Loss: 0.1058 | Val_Acc: 0.9753\n",
      "\n",
      "⚠️WARNING:Change in the trend of value  val_loss: best value= 0.0768 | current value= 0.1058\n",
      "🛑Early stopping due to high risk of OVERFITTING\n",
      "Epoch 17: val_loss is INCREASING for 5 epochs\n"
     ]
    },
    {
     "data": {
      "text/html": [],
      "text/plain": [
       "<IPython.core.display.HTML object>"
      ]
     },
     "metadata": {},
     "output_type": "display_data"
    },
    {
     "data": {
      "text/html": [
       "<br>    <style><br>        .wandb-row {<br>            display: flex;<br>            flex-direction: row;<br>            flex-wrap: wrap;<br>            justify-content: flex-start;<br>            width: 100%;<br>        }<br>        .wandb-col {<br>            display: flex;<br>            flex-direction: column;<br>            flex-basis: 100%;<br>            flex: 1;<br>            padding: 10px;<br>        }<br>    </style><br><div class=\"wandb-row\"><div class=\"wandb-col\"><h3>Run history:</h3><br/><table class=\"wandb\"><tr><td>epoch</td><td>▁▁▂▂▃▃▄▄▅▅▅▆▆▇▇██</td></tr><tr><td>train_acc</td><td>▁▅▆▇▇▇▇██████████</td></tr><tr><td>train_loss</td><td>█▄▃▂▂▂▂▁▁▁▁▁▁▁▁▁▁</td></tr><tr><td>val_acc</td><td>▁▃▆▆▆▆█▇▇█▇█████▇</td></tr><tr><td>val_loss</td><td>█▅▃▂▂▂▁▁▁▂▁▁▂▂▂▂▃</td></tr></table><br/></div><div class=\"wandb-col\"><h3>Run summary:</h3><br/><table class=\"wandb\"><tr><td>epoch</td><td>17</td></tr><tr><td>train_acc</td><td>0.99265</td></tr><tr><td>train_loss</td><td>0.02053</td></tr><tr><td>val_acc</td><td>0.97533</td></tr><tr><td>val_loss</td><td>0.10577</td></tr></table><br/></div></div>"
      ],
      "text/plain": [
       "<IPython.core.display.HTML object>"
      ]
     },
     "metadata": {},
     "output_type": "display_data"
    },
    {
     "data": {
      "text/html": [
       " View run <strong style=\"color:#cdcd00\">2lp_run</strong> at: <a href='https://wandb.ai/emile-agbedanu-none/AML_MLP/runs/yd0svuzk' target=\"_blank\">https://wandb.ai/emile-agbedanu-none/AML_MLP/runs/yd0svuzk</a><br> View project at: <a href='https://wandb.ai/emile-agbedanu-none/AML_MLP' target=\"_blank\">https://wandb.ai/emile-agbedanu-none/AML_MLP</a><br>Synced 5 W&B file(s), 0 media file(s), 0 artifact file(s) and 0 other file(s)"
      ],
      "text/plain": [
       "<IPython.core.display.HTML object>"
      ]
     },
     "metadata": {},
     "output_type": "display_data"
    },
    {
     "data": {
      "text/html": [
       "Find logs at: <code>.\\wandb\\run-20250805_144059-yd0svuzk\\logs</code>"
      ],
      "text/plain": [
       "<IPython.core.display.HTML object>"
      ]
     },
     "metadata": {},
     "output_type": "display_data"
    }
   ],
   "source": [
    "# Hyperparameters of a standard MLP\n",
    "input_size = 28 * 28\n",
    "hidden_size1 = 128\n",
    "hidden_size2 = 64\n",
    "output_size = 10\n",
    "dropout_rate = 0.2\n",
    "num_epochs = 50\n",
    "learning_rate = 0.001\n",
    "\n",
    "# Parameters for early stopping and overfitting detection\n",
    "patience = 5\n",
    "min_delta = 0.001\n",
    "delta_overfit = 0.01\n",
    "overfit_patience = 5\n",
    "\n",
    "# WandB configuration\n",
    "wandb_project = None\n",
    "wandb_run_name = None\n",
    "\n",
    "# Creation and traning of MLP\n",
    "mlp_model = MLP(input_size, hidden_size1, hidden_size2, output_size, dropout_rate)\n",
    "mlp_optimizer = torch.optim.Adam(mlp_model.parameters(), lr=learning_rate)\n",
    "criterion = nn.CrossEntropyLoss()\n",
    "\n",
    "train_losses, val_losses, mlp_epoch = train_model(\n",
    "    mlp_model, train_loader, val_loader, mlp_optimizer, criterion, num_epochs, device,\n",
    "    patience, min_delta, delta_overfit, overfit_patience,\n",
    "    wandb_project=\"AML_MLP\", wandb_run_name=\"2lp_run\"\n",
    ")\n"
   ]
  },
  {
   "cell_type": "markdown",
   "id": "dac16cc1",
   "metadata": {},
   "source": [
    "### **Model Evalation**"
   ]
  },
  {
   "cell_type": "code",
   "execution_count": 37,
   "id": "4090f198",
   "metadata": {},
   "outputs": [
    {
     "name": "stdout",
     "output_type": "stream",
     "text": [
      "\n",
      "--------------------------------------------------------------------------------\n",
      "Test Loss: 0.1053 | Test Accuracy: 0.9739 | Test Precision: 0.9743\n",
      "--------------------------------------------------------------------------------\n",
      "\n"
     ]
    },
    {
     "data": {
      "image/png": "[encoded data removed]",
      "text/plain": [
       "<Figure size 640x480 with 1 Axes>"
      ]
     },
     "metadata": {},
     "output_type": "display_data"
    }
   ],
   "source": [
    "# Evaluation on test set\n",
    "mlp_test_loss, mlp_test_acc, mlp_precision = evaluate(mlp_model, test_loader, criterion, device)\n",
    "print(f\"\\n{'-'*80}\")\n",
    "print(f\"Test Loss: {mlp_test_loss:.4f} | Test Accuracy: {mlp_test_acc:.4f} | Test Precision: {mlp_precision:.4f}\")\n",
    "print(f\"{'-'*80}\\n\")\n",
    "\n",
    "# Plot learning curves\n",
    "plt.plot(train_losses, label='Train Loss')\n",
    "plt.plot(val_losses, label='Validation Loss')\n",
    "plt.xlabel('Epoch')\n",
    "plt.ylabel('Loss')\n",
    "plt.title('Learning Curve')\n",
    "plt.legend()\n",
    "plt.show()\n"
   ]
  },
  {
   "cell_type": "markdown",
   "id": "0fb8ad9b-e3ae-4c49-9bec-35aaea149b08",
   "metadata": {},
   "source": [
    "# *Exercise 1.2: Adding Residual Connections*\n",
    "\n",
    "Implement a variant of your parameterized MLP network to support **residual** connections. Your network should be defined as a composition of **residual MLP** blocks that have one or more linear layers and add a skip connection from the block input to the output of the final linear layer.\n",
    "\n",
    "**Compare** the performance (in training/validation loss and test accuracy) of your MLP and ResidualMLP for a range of depths. Verify that deeper networks **with** residual connections are easier to train than a network of the same depth **without** residual connections.\n",
    "\n",
    "**For extra style points**: See if you can explain by analyzing the gradient magnitudes on a single training batch *why* this is the case. "
   ]
  },
  {
   "cell_type": "markdown",
   "id": "099bda56",
   "metadata": {},
   "source": [
    "###  **Model architecure**"
   ]
  },
  {
   "cell_type": "code",
   "execution_count": 6,
   "id": "90bcff82-756a-4ffa-92ae-a939fa21f5fd",
   "metadata": {
    "tags": []
   },
   "outputs": [],
   "source": [
    "# Define a residual block\n",
    "class ResidualBlock(nn.Module):\n",
    "    def __init__(self, input_size, hidden_size, dropout_rate):\n",
    "        super(ResidualBlock, self).__init__()\n",
    "        self.fc1 = nn.Linear(input_size, hidden_size)\n",
    "        self.fc2 = nn.Linear(hidden_size, input_size)\n",
    "        self.dropout = nn.Dropout(dropout_rate)\n",
    "\n",
    "    def forward(self, x):\n",
    "        identity = x\n",
    "        out = F.relu(self.fc1(x))\n",
    "        out = self.fc2(out)\n",
    "        out = self.dropout(out)\n",
    "        out += identity\n",
    "        out = F.relu(out)\n",
    "        return out\n",
    "\n",
    "# Residual MLP with stacked residual blocks\n",
    "class ResidualMLP(nn.Module):\n",
    "    def __init__(self, input_size, hidden_size, output_size, num_blocks, dropout_rate):\n",
    "        super(ResidualMLP, self).__init__()\n",
    "        self.fc1 = nn.Linear(input_size, hidden_size)\n",
    "        self.blocks = nn.Sequential(*[\n",
    "            ResidualBlock(hidden_size, hidden_size, dropout_rate) for _ in range(num_blocks)\n",
    "        ])\n",
    "        self.fc2 = nn.Linear(hidden_size, output_size)\n",
    "\n",
    "    def forward(self, x):\n",
    "        x = x.view(-1, self.fc1.in_features) \n",
    "        x = F.relu(self.fc1(x))\n",
    "        x = self.blocks(x)\n",
    "        x = self.fc2(x)\n",
    "        return x\n"
   ]
  },
  {
   "cell_type": "markdown",
   "id": "3529aea2",
   "metadata": {},
   "source": [
    "###    **ResMLP traning**"
   ]
  },
  {
   "cell_type": "code",
   "execution_count": 9,
   "id": "1ac2ac79",
   "metadata": {},
   "outputs": [
    {
     "name": "stdout",
     "output_type": "stream",
     "text": [
      "Device: cuda\n"
     ]
    },
    {
     "name": "stderr",
     "output_type": "stream",
     "text": [
      "wandb: Using wandb-core as the SDK backend.  Please refer to https://wandb.me/wandb-core for more information.\n",
      "wandb: Currently logged in as: emile-agbedanu (emile-agbedanu-none) to https://api.wandb.ai. Use `wandb login --relogin` to force relogin\n"
     ]
    },
    {
     "data": {
      "text/html": [
       "Tracking run with wandb version 0.19.8"
      ],
      "text/plain": [
       "<IPython.core.display.HTML object>"
      ]
     },
     "metadata": {},
     "output_type": "display_data"
    },
    {
     "data": {
      "text/html": [
       "Run data is saved locally in <code>c:\\UNIFI\\LM Bio UniFi\\II ANNO\\SECONDO SEMESTRE\\APPLI OF MACHINE LEARNING\\AML_Labs\\Exercise\\wandb\\run-20250805_195003-2a1f40jc</code>"
      ],
      "text/plain": [
       "<IPython.core.display.HTML object>"
      ]
     },
     "metadata": {},
     "output_type": "display_data"
    },
    {
     "data": {
      "text/html": [
       "Syncing run <strong><a href='https://wandb.ai/emile-agbedanu-none/AML_ResMLP/runs/2a1f40jc' target=\"_blank\">ResidualMLP</a></strong> to <a href='https://wandb.ai/emile-agbedanu-none/AML_ResMLP' target=\"_blank\">Weights & Biases</a> (<a href='https://wandb.me/developer-guide' target=\"_blank\">docs</a>)<br>"
      ],
      "text/plain": [
       "<IPython.core.display.HTML object>"
      ]
     },
     "metadata": {},
     "output_type": "display_data"
    },
    {
     "data": {
      "text/html": [
       " View project at <a href='https://wandb.ai/emile-agbedanu-none/AML_ResMLP' target=\"_blank\">https://wandb.ai/emile-agbedanu-none/AML_ResMLP</a>"
      ],
      "text/plain": [
       "<IPython.core.display.HTML object>"
      ]
     },
     "metadata": {},
     "output_type": "display_data"
    },
    {
     "data": {
      "text/html": [
       " View run at <a href='https://wandb.ai/emile-agbedanu-none/AML_ResMLP/runs/2a1f40jc' target=\"_blank\">https://wandb.ai/emile-agbedanu-none/AML_ResMLP/runs/2a1f40jc</a>"
      ],
      "text/plain": [
       "<IPython.core.display.HTML object>"
      ]
     },
     "metadata": {},
     "output_type": "display_data"
    },
    {
     "name": "stdout",
     "output_type": "stream",
     "text": [
      "Epoch 1/50\n",
      "  Train_Loss: 0.2812 | Train_Acc: 0.9159\n",
      "  Val_Loss: 0.1367 | Val_Acc: 0.9565\n",
      "\n",
      "Epoch 2/50\n",
      "  Train_Loss: 0.1149 | Train_Acc: 0.9644\n",
      "  Val_Loss: 0.1185 | Val_Acc: 0.9632\n",
      "\n",
      "Epoch 3/50\n",
      "  Train_Loss: 0.0828 | Train_Acc: 0.9745\n",
      "  Val_Loss: 0.0866 | Val_Acc: 0.9722\n",
      "\n",
      "Epoch 4/50\n",
      "  Train_Loss: 0.0635 | Train_Acc: 0.9800\n",
      "  Val_Loss: 0.0828 | Val_Acc: 0.9750\n",
      "\n",
      "Epoch 5/50\n",
      "  Train_Loss: 0.0524 | Train_Acc: 0.9829\n",
      "  Val_Loss: 0.0879 | Val_Acc: 0.9730\n",
      "\n",
      "Epoch 6/50\n",
      "  Train_Loss: 0.0421 | Train_Acc: 0.9864\n",
      "  Val_Loss: 0.0911 | Val_Acc: 0.9770\n",
      "\n",
      "Epoch 7/50\n",
      "  Train_Loss: 0.0396 | Train_Acc: 0.9875\n",
      "  Val_Loss: 0.0750 | Val_Acc: 0.9783\n",
      "\n",
      "Epoch 8/50\n",
      "  Train_Loss: 0.0298 | Train_Acc: 0.9905\n",
      "  Val_Loss: 0.0878 | Val_Acc: 0.9758\n",
      "\n",
      "⚠️WARNING:Change in the trend of value  val_loss: best value= 0.0750 | current value= 0.0878\n",
      "Epoch 9/50\n",
      "  Train_Loss: 0.0270 | Train_Acc: 0.9909\n",
      "  Val_Loss: 0.0784 | Val_Acc: 0.9773\n",
      "\n",
      "Epoch 10/50\n",
      "  Train_Loss: 0.0275 | Train_Acc: 0.9909\n",
      "  Val_Loss: 0.0867 | Val_Acc: 0.9760\n",
      "\n",
      "⚠️WARNING:Change in the trend of value  val_loss: best value= 0.0750 | current value= 0.0867\n",
      "Epoch 11/50\n",
      "  Train_Loss: 0.0216 | Train_Acc: 0.9928\n",
      "  Val_Loss: 0.0919 | Val_Acc: 0.9777\n",
      "\n",
      "⚠️WARNING:Change in the trend of value  val_loss: best value= 0.0750 | current value= 0.0919\n",
      "Epoch 12/50\n",
      "  Train_Loss: 0.0229 | Train_Acc: 0.9926\n",
      "  Val_Loss: 0.0991 | Val_Acc: 0.9748\n",
      "\n",
      "⚠️WARNING:Change in the trend of value  val_loss: best value= 0.0750 | current value= 0.0991\n",
      "Epoch 13/50\n",
      "  Train_Loss: 0.0203 | Train_Acc: 0.9931\n",
      "  Val_Loss: 0.0969 | Val_Acc: 0.9760\n",
      "\n",
      "⚠️WARNING:Change in the trend of value  val_loss: best value= 0.0750 | current value= 0.0969\n",
      "Epoch 14/50\n",
      "  Train_Loss: 0.0194 | Train_Acc: 0.9934\n",
      "  Val_Loss: 0.1136 | Val_Acc: 0.9738\n",
      "\n",
      "⚠️WARNING:Change in the trend of value  val_loss: best value= 0.0750 | current value= 0.1136\n",
      "🛑Early stopping due to high risk of OVERFITTING\n",
      "Epoch 14: val_loss is INCREASING for 5 epochs\n"
     ]
    },
    {
     "data": {
      "text/html": [],
      "text/plain": [
       "<IPython.core.display.HTML object>"
      ]
     },
     "metadata": {},
     "output_type": "display_data"
    },
    {
     "data": {
      "text/html": [
       "<br>    <style><br>        .wandb-row {<br>            display: flex;<br>            flex-direction: row;<br>            flex-wrap: wrap;<br>            justify-content: flex-start;<br>            width: 100%;<br>        }<br>        .wandb-col {<br>            display: flex;<br>            flex-direction: column;<br>            flex-basis: 100%;<br>            flex: 1;<br>            padding: 10px;<br>        }<br>    </style><br><div class=\"wandb-row\"><div class=\"wandb-col\"><h3>Run history:</h3><br/><table class=\"wandb\"><tr><td>epoch</td><td>▁▂▂▃▃▄▄▅▅▆▆▇▇█</td></tr><tr><td>train_acc</td><td>▁▅▆▇▇▇▇███████</td></tr><tr><td>train_loss</td><td>█▄▃▂▂▂▂▁▁▁▁▁▁▁</td></tr><tr><td>val_acc</td><td>▁▃▆▇▆██▇█▇█▇▇▇</td></tr><tr><td>val_loss</td><td>█▆▂▂▂▃▁▂▁▂▃▄▃▅</td></tr></table><br/></div><div class=\"wandb-col\"><h3>Run summary:</h3><br/><table class=\"wandb\"><tr><td>epoch</td><td>14</td></tr><tr><td>train_acc</td><td>0.99339</td></tr><tr><td>train_loss</td><td>0.01943</td></tr><tr><td>val_acc</td><td>0.97383</td></tr><tr><td>val_loss</td><td>0.11359</td></tr></table><br/></div></div>"
      ],
      "text/plain": [
       "<IPython.core.display.HTML object>"
      ]
     },
     "metadata": {},
     "output_type": "display_data"
    },
    {
     "data": {
      "text/html": [
       " View run <strong style=\"color:#cdcd00\">ResidualMLP</strong> at: <a href='https://wandb.ai/emile-agbedanu-none/AML_ResMLP/runs/2a1f40jc' target=\"_blank\">https://wandb.ai/emile-agbedanu-none/AML_ResMLP/runs/2a1f40jc</a><br> View project at: <a href='https://wandb.ai/emile-agbedanu-none/AML_ResMLP' target=\"_blank\">https://wandb.ai/emile-agbedanu-none/AML_ResMLP</a><br>Synced 5 W&B file(s), 0 media file(s), 0 artifact file(s) and 0 other file(s)"
      ],
      "text/plain": [
       "<IPython.core.display.HTML object>"
      ]
     },
     "metadata": {},
     "output_type": "display_data"
    },
    {
     "data": {
      "text/html": [
       "Find logs at: <code>.\\wandb\\run-20250805_195003-2a1f40jc\\logs</code>"
      ],
      "text/plain": [
       "<IPython.core.display.HTML object>"
      ]
     },
     "metadata": {},
     "output_type": "display_data"
    }
   ],
   "source": [
    "#  Hyperparameters of a \n",
    "input_size = 28 * 28\n",
    "hidden_size = 110\n",
    "num_blocks = 2\n",
    "dropout_rate = 0.2\n",
    "\n",
    "# Creation and traning of ResidualMLP\n",
    "res_model = ResidualMLP(input_size, hidden_size, output_size, num_blocks, dropout_rate)\n",
    "res_optimizer = torch.optim.Adam(res_model.parameters(), lr=learning_rate)\n",
    "criterion = nn.CrossEntropyLoss()\n",
    "\n",
    "train_losses, val_losses, res_epoch = train_model(\n",
    "    res_model, train_loader, val_loader, res_optimizer, criterion, num_epochs, device,\n",
    "    patience, min_delta, delta_overfit, overfit_patience,\n",
    "    wandb_project=\"AML_ResMLP\", wandb_run_name=\"ResidualMLP\"\n",
    ")\n"
   ]
  },
  {
   "cell_type": "markdown",
   "id": "986fdd05",
   "metadata": {},
   "source": [
    "### **ResMLP evaluation**"
   ]
  },
  {
   "cell_type": "code",
   "execution_count": 38,
   "id": "6b5be087",
   "metadata": {},
   "outputs": [
    {
     "name": "stdout",
     "output_type": "stream",
     "text": [
      "\n",
      "--------------------------------------------------------------------------------\n",
      "Test Loss: 0.0975 | Test Accuracy: 0.9773 | Test Precision: 0.9775\n",
      "--------------------------------------------------------------------------------\n",
      "\n"
     ]
    },
    {
     "data": {
      "image/png": "[encoded data removed]",
      "text/plain": [
       "<Figure size 640x480 with 1 Axes>"
      ]
     },
     "metadata": {},
     "output_type": "display_data"
    }
   ],
   "source": [
    "# Evaluation on test set\n",
    "res_test_loss, res_test_acc, res_precision = evaluate(res_model, test_loader, criterion, device)\n",
    "print(f\"\\n{'-'*80}\")\n",
    "print(f\"Test Loss: {res_test_loss:.4f} | Test Accuracy: {res_test_acc:.4f} | Test Precision: {res_precision:.4f}\")\n",
    "print(f\"{'-'*80}\\n\")\n",
    "# Plot learning curves\n",
    "plt.plot(train_losses, label='Train Loss')\n",
    "plt.plot(val_losses, label='Validation Loss')\n",
    "plt.xlabel('Epoch')\n",
    "plt.ylabel('Loss')\n",
    "plt.title('Learning Curve')\n",
    "plt.legend()\n",
    "plt.show()\n"
   ]
  },
  {
   "cell_type": "markdown",
   "id": "335de10b",
   "metadata": {},
   "source": [
    "### **Comparison Summary**"
   ]
  },
  {
   "cell_type": "code",
   "execution_count": 50,
   "id": "0c4ca332",
   "metadata": {},
   "outputs": [
    {
     "name": "stdout",
     "output_type": "stream",
     "text": [
      "-----------------------------------------------------------------\n",
      "     ***** Comparison MLP vs ResidualMLP on TEST SET*****\n",
      "-----------------------------------------------------------------\n",
      "                | Epochs  | Loss       | Accuracy   | Precision \n",
      "-----------------------------------------------------------------\n",
      "MLP             | 17      | 0.1053     | 0.9739     | 0.9743    \n",
      "ResidualMLP     | 11      | 0.0975     | 0.9773     | 0.9775    \n",
      "\n",
      "**** MLP****\n",
      "\n",
      "fc1.weight grad norm: 0.1896\n",
      "fc2.weight grad norm: 0.1646\n",
      "out.weight grad norm: 0.1414\n",
      "\n",
      "**** ResidualMLP****\n",
      "\n",
      "fc1.weight grad norm: 0.4660\n",
      "blocks.0.fc1.weight grad norm: 0.3709\n",
      "blocks.0.fc2.weight grad norm: 0.1751\n",
      "blocks.1.fc1.weight grad norm: 0.2910\n",
      "blocks.1.fc2.weight grad norm: 0.1330\n",
      "fc2.weight grad norm: 0.4143\n"
     ]
    }
   ],
   "source": [
    "# Final performance comparison between MLP and ResidualMLP\n",
    "print(\"-\" * 65)\n",
    "\n",
    "print(f\"{' '*5}{'*'*5} Comparison MLP vs ResidualMLP on TEST SET{'*'*5}\")\n",
    "print(\"-\" * 65)\n",
    "print(f\"{'':<15} | {'Epochs':<7} | {'Loss':<10} | {'Accuracy':<10} | {'Precision':<10}\")\n",
    "print(\"-\" * 65)\n",
    "print(f\"{'MLP':<15} | {mlp_epoch:<7} | {mlp_test_loss:<10.4f} | {mlp_test_acc:<10.4f} | {mlp_precision:<10.4f}\")\n",
    "print(f\"{'ResidualMLP':<15} | {res_epoch:<7} | {res_test_loss:<10.4f} | {res_test_acc:<10.4f} | {res_precision:<10.4f}\\n\")\n",
    "\n",
    "# Printing of L2 norm of gradients for each layer (MLP) \n",
    "print(f\"{'*'*4} MLP{'*'*4}\\n\")\n",
    "for name, param in mlp_model.named_parameters():\n",
    "    if param.requires_grad and 'weight' in name:\n",
    "        print(f\"{name} grad norm: {param.grad.norm().item():.4f}\")\n",
    "\n",
    "# Printing of L2 norm of gradients for each layer (ResidualMLP) \n",
    "print(f\"\\n{'*'*4} ResidualMLP{'*'*4}\\n\")\n",
    "for name, param in res_model.named_parameters():\n",
    "    if param.requires_grad and 'weight' in name:\n",
    "        print(f\"{name} grad norm: {param.grad.norm().item():.4f}\")\n"
   ]
  },
  {
   "cell_type": "markdown",
   "id": "3c59bdd8-3377-4311-b45f-511c2fb0b53e",
   "metadata": {},
   "source": [
    "### Exercise 1.3: Rinse and Repeat (but with a CNN)\n",
    "\n",
    "Repeat the verification you did above, but with **Convolutional** Neural Networks. If you were careful about abstracting your model and training code, this should be a simple exercise. Show that **deeper** CNNs *without* residual connections do not always work better and **even deeper** ones *with* residual connections.\n",
    "\n",
    "**Hint**: You probably should do this exercise using CIFAR-10, since MNIST is *very* easy (at least up to about 99% accuracy).\n",
    "\n",
    "**Tip**: Feel free to reuse the ResNet building blocks defined in `torchvision.models.resnet` (e.g. [BasicBlock](https://github.com/pytorch/vision/blob/main/torchvision/models/resnet.py#L59) which handles the cascade of 3x3 convolutions, skip connections, and optional downsampling). This is an excellent exercise in code diving. \n",
    "\n",
    "**Spoiler**: Depending on the optional exercises you plan to do below, you should think *very* carefully about the architectures of your CNNs here (so you can reuse them!)."
   ]
  },
  {
   "cell_type": "markdown",
   "id": "b745752c",
   "metadata": {},
   "source": [
    "### **CIFAR-10 Data preparation**"
   ]
  },
  {
   "cell_type": "code",
   "execution_count": 6,
   "id": "3c8baa0e-b17f-4a77-8a88-dadfdc6763ea",
   "metadata": {},
   "outputs": [
    {
     "name": "stdout",
     "output_type": "stream",
     "text": [
      "Files already downloaded and verified\n",
      "Files already downloaded and verified\n"
     ]
    }
   ],
   "source": [
    "batch_size = 128\n",
    "val_fraction=0.1\n",
    "\n",
    "def get_cifar10_transforms(train: bool = True):\n",
    "    # CIFAR-10 statistics (mean and std for RGB channels)\n",
    "    mean = (0.4914, 0.4822, 0.4465)\n",
    "    std =  (0.2023, 0.1994, 0.2010)\n",
    "    \n",
    "\n",
    "    if train:\n",
    "        return transforms.Compose([\n",
    "            transforms.RandomCrop(32, padding=4),      \n",
    "            transforms.RandomHorizontalFlip(),         # Flip with p=0.5\n",
    "            transforms.ToTensor(),                     \n",
    "            transforms.Normalize(mean, std)            \n",
    "        ])\n",
    "    else:\n",
    "        return transforms.Compose([\n",
    "            transforms.ToTensor(),\n",
    "            transforms.Normalize(mean, std)\n",
    "        ])\n",
    "\n",
    "def load_cifar10_dataloaders(root='./data', val_fraction=val_fraction, batch_size=batch_size):\n",
    "    # Load datasets with correct transforms\n",
    "    train_val_dataset = CIFAR10(root=root, train=True, download=True, transform=get_cifar10_transforms(train=True))\n",
    "    test_dataset = CIFAR10(root=root, train=False, download=True, transform=get_cifar10_transforms(train=False))\n",
    "\n",
    "    # Split into train and validation\n",
    "    total_train = len(train_val_dataset)\n",
    "    val_size = int(total_train * val_fraction)\n",
    "    train_size = total_train - val_size\n",
    "\n",
    "    train_dataset, val_dataset = random_split(train_val_dataset, [train_size, val_size])\n",
    "\n",
    "    # Replace transform for validation set\n",
    "    val_dataset.dataset.transform = get_cifar10_transforms(train=False)\n",
    "\n",
    "    # Dataloaders\n",
    "    train_loader = DataLoader(train_dataset, batch_size=batch_size, shuffle=True, num_workers=2, pin_memory=True)\n",
    "    val_loader = DataLoader(val_dataset, batch_size=batch_size, shuffle=False, num_workers=2, pin_memory=True)\n",
    "    test_loader = DataLoader(test_dataset, batch_size=batch_size, shuffle=False, num_workers=2, pin_memory=True)\n",
    "\n",
    "    return train_loader, val_loader, test_loader\n",
    "\n",
    "train_loader, val_loader, test_loader = load_cifar10_dataloaders()\n"
   ]
  },
  {
   "cell_type": "markdown",
   "id": "768417ee",
   "metadata": {},
   "source": [
    "## **SimpleCNN Model architecture**"
   ]
  },
  {
   "cell_type": "code",
   "execution_count": 11,
   "id": "ef9e1bda",
   "metadata": {},
   "outputs": [],
   "source": [
    "\n",
    "class VariableDepthCNN(nn.Module):\n",
    "    def __init__(self, num_layers, num_classes, base_channels, dropout_rate,in_channels,padding):\n",
    "        super().__init__()\n",
    "        layers = []\n",
    "\n",
    "        # First conv layer: from 3 channels (RGB) to base_channels\n",
    "        out_channels = base_channels\n",
    "\n",
    "        for i in range(num_layers):\n",
    "            layers.append(nn.Conv2d(in_channels, out_channels, kernel_size=3,padding=padding))\n",
    "            layers.append(nn.ReLU(inplace=True))\n",
    "            if i % 2 == 1:  # Every 2 layers, add max pooling\n",
    "                layers.append(nn.MaxPool2d(2))\n",
    "            in_channels = out_channels\n",
    "            out_channels *= 2  # Double channels after each layer\n",
    "\n",
    "        self.conv_layers = nn.Sequential(*layers)\n",
    "\n",
    "        # Compute the final output size\n",
    "        num_pools = num_layers // 2\n",
    "        final_feat_size = 32 // (2 ** num_pools)\n",
    "        final_channels = in_channels\n",
    "\n",
    "        self.fc1 = nn.Linear(final_channels * final_feat_size * final_feat_size, 128)\n",
    "        self.dropout = nn.Dropout(dropout_rate)\n",
    "        self.fc2 = nn.Linear(128, num_classes)\n",
    "\n",
    "    def forward(self, x):\n",
    "        x = self.conv_layers(x)\n",
    "        x = x.view(x.size(0), -1)\n",
    "        x = self.dropout(F.relu(self.fc1(x)))\n",
    "        return self.fc2(x)\n"
   ]
  },
  {
   "cell_type": "markdown",
   "id": "3e74a1d5",
   "metadata": {},
   "source": [
    "### ***SimpleCNN traning and evalution***"
   ]
  },
  {
   "cell_type": "code",
   "execution_count": null,
   "id": "c95684c8",
   "metadata": {},
   "outputs": [
    {
     "name": "stdout",
     "output_type": "stream",
     "text": [
      "Device: cuda\n"
     ]
    },
    {
     "data": {
      "text/html": [
       "Tracking run with wandb version 0.19.8"
      ],
      "text/plain": [
       "<IPython.core.display.HTML object>"
      ]
     },
     "metadata": {},
     "output_type": "display_data"
    },
    {
     "data": {
      "text/html": [
       "Run data is saved locally in <code>c:\\UNIFI\\LM Bio UniFi\\II ANNO\\SECONDO SEMESTRE\\APPLI OF MACHINE LEARNING\\AML_Labs\\Exercise\\wandb\\run-20250805_144454-7ai0bu4w</code>"
      ],
      "text/plain": [
       "<IPython.core.display.HTML object>"
      ]
     },
     "metadata": {},
     "output_type": "display_data"
    },
    {
     "data": {
      "text/html": [
       "Syncing run <strong><a href='https://wandb.ai/emile-agbedanu-none/AMLP_SimpleCNN/runs/7ai0bu4w' target=\"_blank\">SimpleCNN</a></strong> to <a href='https://wandb.ai/emile-agbedanu-none/AMLP_SimpleCNN' target=\"_blank\">Weights & Biases</a> (<a href='https://wandb.me/developer-guide' target=\"_blank\">docs</a>)<br>"
      ],
      "text/plain": [
       "<IPython.core.display.HTML object>"
      ]
     },
     "metadata": {},
     "output_type": "display_data"
    },
    {
     "data": {
      "text/html": [
       " View project at <a href='https://wandb.ai/emile-agbedanu-none/AMLP_SimpleCNN' target=\"_blank\">https://wandb.ai/emile-agbedanu-none/AMLP_SimpleCNN</a>"
      ],
      "text/plain": [
       "<IPython.core.display.HTML object>"
      ]
     },
     "metadata": {},
     "output_type": "display_data"
    },
    {
     "data": {
      "text/html": [
       " View run at <a href='https://wandb.ai/emile-agbedanu-none/AMLP_SimpleCNN/runs/7ai0bu4w' target=\"_blank\">https://wandb.ai/emile-agbedanu-none/AMLP_SimpleCNN/runs/7ai0bu4w</a>"
      ],
      "text/plain": [
       "<IPython.core.display.HTML object>"
      ]
     },
     "metadata": {},
     "output_type": "display_data"
    },
    {
     "name": "stdout",
     "output_type": "stream",
     "text": [
      "Epoch 1/50\n",
      "  Train_Loss: 1.4391 | Train_Acc: 0.4801\n",
      "  Val_Loss: 1.0289 | Val_Acc: 0.6284\n",
      "\n",
      "Epoch 2/50\n",
      "  Train_Loss: 0.9214 | Train_Acc: 0.6754\n",
      "  Val_Loss: 0.7848 | Val_Acc: 0.7150\n",
      "\n",
      "Epoch 3/50\n",
      "  Train_Loss: 0.7165 | Train_Acc: 0.7507\n",
      "  Val_Loss: 0.6905 | Val_Acc: 0.7586\n",
      "\n",
      "Epoch 4/50\n",
      "  Train_Loss: 0.5628 | Train_Acc: 0.8036\n",
      "  Val_Loss: 0.6531 | Val_Acc: 0.7714\n",
      "\n",
      "Epoch 5/50\n",
      "  Train_Loss: 0.4387 | Train_Acc: 0.8440\n",
      "  Val_Loss: 0.6552 | Val_Acc: 0.7792\n",
      "\n",
      "Epoch 6/50\n",
      "  Train_Loss: 0.3362 | Train_Acc: 0.8826\n",
      "  Val_Loss: 0.6966 | Val_Acc: 0.7764\n",
      "\n",
      "⚠️WARNING:Change in the trend of value  val_loss: best value= 0.6531 | current value= 0.6966\n",
      "Epoch 7/50\n",
      "  Train_Loss: 0.2526 | Train_Acc: 0.9094\n",
      "  Val_Loss: 0.7268 | Val_Acc: 0.7836\n",
      "\n",
      "⚠️WARNING:Change in the trend of value  val_loss: best value= 0.6531 | current value= 0.7268\n",
      "Epoch 8/50\n",
      "  Train_Loss: 0.1986 | Train_Acc: 0.9296\n",
      "  Val_Loss: 0.8021 | Val_Acc: 0.7872\n",
      "\n",
      "⚠️WARNING:Change in the trend of value  val_loss: best value= 0.6531 | current value= 0.8021\n",
      "Epoch 9/50\n",
      "  Train_Loss: 0.1588 | Train_Acc: 0.9440\n",
      "  Val_Loss: 0.8372 | Val_Acc: 0.7952\n",
      "\n",
      "⚠️WARNING:Change in the trend of value  val_loss: best value= 0.6531 | current value= 0.8372\n",
      "Epoch 10/50\n",
      "  Train_Loss: 0.1319 | Train_Acc: 0.9538\n",
      "  Val_Loss: 0.9448 | Val_Acc: 0.7850\n",
      "\n",
      "⚠️WARNING:Change in the trend of value  val_loss: best value= 0.6531 | current value= 0.9448\n",
      "🛑Early stopping due to high risk of OVERFITTING\n",
      "Epoch 10: val_loss is INCREASING for 5 epochs\n"
     ]
    },
    {
     "data": {
      "text/html": [],
      "text/plain": [
       "<IPython.core.display.HTML object>"
      ]
     },
     "metadata": {},
     "output_type": "display_data"
    },
    {
     "data": {
      "text/html": [
       "<br>    <style><br>        .wandb-row {<br>            display: flex;<br>            flex-direction: row;<br>            flex-wrap: wrap;<br>            justify-content: flex-start;<br>            width: 100%;<br>        }<br>        .wandb-col {<br>            display: flex;<br>            flex-direction: column;<br>            flex-basis: 100%;<br>            flex: 1;<br>            padding: 10px;<br>        }<br>    </style><br><div class=\"wandb-row\"><div class=\"wandb-col\"><h3>Run history:</h3><br/><table class=\"wandb\"><tr><td>epoch</td><td>▁▂▃▃▄▅▆▆▇█</td></tr><tr><td>train_acc</td><td>▁▄▅▆▆▇▇███</td></tr><tr><td>train_loss</td><td>█▅▄▃▃▂▂▁▁▁</td></tr><tr><td>val_acc</td><td>▁▅▆▇▇▇████</td></tr><tr><td>val_loss</td><td>█▃▂▁▁▂▂▄▄▆</td></tr></table><br/></div><div class=\"wandb-col\"><h3>Run summary:</h3><br/><table class=\"wandb\"><tr><td>epoch</td><td>10</td></tr><tr><td>train_acc</td><td>0.95382</td></tr><tr><td>train_loss</td><td>0.13188</td></tr><tr><td>val_acc</td><td>0.785</td></tr><tr><td>val_loss</td><td>0.94481</td></tr></table><br/></div></div>"
      ],
      "text/plain": [
       "<IPython.core.display.HTML object>"
      ]
     },
     "metadata": {},
     "output_type": "display_data"
    },
    {
     "data": {
      "text/html": [
       " View run <strong style=\"color:#cdcd00\">SimpleCNN</strong> at: <a href='https://wandb.ai/emile-agbedanu-none/AMLP_SimpleCNN/runs/7ai0bu4w' target=\"_blank\">https://wandb.ai/emile-agbedanu-none/AMLP_SimpleCNN/runs/7ai0bu4w</a><br> View project at: <a href='https://wandb.ai/emile-agbedanu-none/AMLP_SimpleCNN' target=\"_blank\">https://wandb.ai/emile-agbedanu-none/AMLP_SimpleCNN</a><br>Synced 5 W&B file(s), 0 media file(s), 0 artifact file(s) and 0 other file(s)"
      ],
      "text/plain": [
       "<IPython.core.display.HTML object>"
      ]
     },
     "metadata": {},
     "output_type": "display_data"
    },
    {
     "data": {
      "text/html": [
       "Find logs at: <code>.\\wandb\\run-20250805_144454-7ai0bu4w\\logs</code>"
      ],
      "text/plain": [
       "<IPython.core.display.HTML object>"
      ]
     },
     "metadata": {},
     "output_type": "display_data"
    },
    {
     "name": "stdout",
     "output_type": "stream",
     "text": [
      "SimpleCNN performance on TEST SET\n",
      "----------------------------------------------------------------------\n",
      "|Model              | Epochs  | Loss       | Accuracy   | Precision |\n",
      "----------------------------------------------------------------------\n",
      "|SimpleCNN [4Layer] | 10      | 1.0038     | 0.7766     | 0.7842    |\n"
     ]
    }
   ],
   "source": [
    "# Hyperparameters and configuration\n",
    "num_layers = 4    \n",
    "      \n",
    "num_classes = 10         \n",
    "base_channels = 32       \n",
    "dropout_rate = 0.2\n",
    "\n",
    "in_channels = 3   # Input channels (RGB images → 3 channels)\n",
    "\n",
    "padding = 1              \n",
    "learning_rate = 0.001   \n",
    "num_epochs = 50        \n",
    "patience = 5           \n",
    "min_delta = 0.001        \n",
    "delta_overfit = 0.01  \n",
    "overfit_patience = 5   \n",
    "\n",
    "# Instantiate CNN model\n",
    "cnn_model = VariableDepthCNN(\n",
    "    num_layers, num_classes, base_channels, dropout_rate, in_channels, padding\n",
    ").to(device)\n",
    "\n",
    "# optimizer and loss function\n",
    "cnn_optimizer = torch.optim.Adam(cnn_model.parameters(), lr=learning_rate)\n",
    "criterion = nn.CrossEntropyLoss() \n",
    "\n",
    "# Train the CNN\n",
    "train_losses_cnn, val_losses_cnn, epochs_cnn = train_model(\n",
    "    cnn_model,\n",
    "    train_loader,\n",
    "    val_loader,\n",
    "    cnn_optimizer,\n",
    "    criterion,\n",
    "    num_epochs,\n",
    "    device,\n",
    "    patience,\n",
    "    min_delta,\n",
    "    delta_overfit,\n",
    "    overfit_patience,\n",
    "    wandb_project=\"AMLP_SimpleCNN\",        \n",
    "    wandb_run_name=\"SimpleCNN\"\n",
    ")\n",
    "\n",
    "# Evaluation \n",
    "test_loss_cnn, test_acc_cnn, test_prec_cnn = evaluate(\n",
    "    cnn_model,\n",
    "    test_loader,\n",
    "    criterion,\n",
    "    device\n",
    ")\n",
    "\n",
    "\n",
    "#print results\n",
    "print(\"SimpleCNN performance on TEST SET\")\n",
    "print(\"-\" * 70)\n",
    "print(f\"|{'Model':<18} | {'Epochs':<7} | {'Loss':<10} | {'Accuracy':<10} | {'Precision':<10}|\")\n",
    "print(\"-\" * 70)\n",
    "print(f\"|{f'SimpleCNN [{num_layers}Layer]':<15} | {epochs_cnn:<7} | {test_loss_cnn:<10.4f} | {test_acc_cnn:<10.4f} | {test_prec_cnn:<10.4f}|\")\n",
    "\n"
   ]
  },
  {
   "cell_type": "markdown",
   "id": "f66a82e0",
   "metadata": {},
   "source": [
    "## **ResidualCNN architecture**"
   ]
  },
  {
   "cell_type": "code",
   "execution_count": 8,
   "id": "3b494bf1",
   "metadata": {},
   "outputs": [],
   "source": [
    "\n",
    "class VariableDepthResNet(nn.Module):\n",
    "    def __init__(self, num_blocks, num_classes, base_channels, dropout_rate, in_channels, padding):\n",
    "        super().__init__()\n",
    "        # Initial convolution + batch norm + activation\n",
    "        self.conv1 = nn.Conv2d(in_channels, base_channels, kernel_size=3, padding=padding, bias=False)\n",
    "        self.bn1 = nn.BatchNorm2d(base_channels)\n",
    "        self.relu = nn.ReLU(inplace=True)\n",
    "\n",
    "        # Stack residual blocks\n",
    "        layers = []\n",
    "        for _ in range(num_blocks):\n",
    "            layers.append(BasicBlock(base_channels, base_channels))\n",
    "        self.res_blocks = nn.Sequential(*layers)\n",
    "\n",
    "        # Global average pooling\n",
    "        self.pool = nn.AdaptiveAvgPool2d((1, 1))\n",
    "\n",
    "        # Dropout + final classifier\n",
    "        self.dropout = nn.Dropout(dropout_rate)\n",
    "        self.fc = nn.Linear(base_channels, num_classes)\n",
    "\n",
    "    def forward(self, x):\n",
    "        x = self.relu(self.bn1(self.conv1(x)))  \n",
    "        x = self.res_blocks(x)                  \n",
    "        x = self.pool(x)                       \n",
    "        x = torch.flatten(x, 1)                  \n",
    "        x = self.dropout(x)                     \n",
    "        return self.fc(x)                        \n"
   ]
  },
  {
   "cell_type": "markdown",
   "id": "4baa43a1",
   "metadata": {},
   "source": [
    "### ***ResidualCNN traning e evaluation***"
   ]
  },
  {
   "cell_type": "code",
   "execution_count": 9,
   "id": "b8a3df05",
   "metadata": {},
   "outputs": [
    {
     "name": "stdout",
     "output_type": "stream",
     "text": [
      "Device: cuda\n"
     ]
    },
    {
     "name": "stderr",
     "output_type": "stream",
     "text": [
      "wandb: Using wandb-core as the SDK backend.  Please refer to https://wandb.me/wandb-core for more information.\n",
      "wandb: Currently logged in as: emile-agbedanu (emile-agbedanu-none) to https://api.wandb.ai. Use `wandb login --relogin` to force relogin\n"
     ]
    },
    {
     "data": {
      "text/html": [
       "Tracking run with wandb version 0.19.8"
      ],
      "text/plain": [
       "<IPython.core.display.HTML object>"
      ]
     },
     "metadata": {},
     "output_type": "display_data"
    },
    {
     "data": {
      "text/html": [
       "Run data is saved locally in <code>c:\\UNIFI\\LM Bio UniFi\\II ANNO\\SECONDO SEMESTRE\\APPLI OF MACHINE LEARNING\\AML_Labs\\Exercise_1\\wandb\\run-20250805_195920-h4m0v6l5</code>"
      ],
      "text/plain": [
       "<IPython.core.display.HTML object>"
      ]
     },
     "metadata": {},
     "output_type": "display_data"
    },
    {
     "data": {
      "text/html": [
       "Syncing run <strong><a href='https://wandb.ai/emile-agbedanu-none/AML_ResCNN/runs/h4m0v6l5' target=\"_blank\">ResidualCNN</a></strong> to <a href='https://wandb.ai/emile-agbedanu-none/AML_ResCNN' target=\"_blank\">Weights & Biases</a> (<a href='https://wandb.me/developer-guide' target=\"_blank\">docs</a>)<br>"
      ],
      "text/plain": [
       "<IPython.core.display.HTML object>"
      ]
     },
     "metadata": {},
     "output_type": "display_data"
    },
    {
     "data": {
      "text/html": [
       " View project at <a href='https://wandb.ai/emile-agbedanu-none/AML_ResCNN' target=\"_blank\">https://wandb.ai/emile-agbedanu-none/AML_ResCNN</a>"
      ],
      "text/plain": [
       "<IPython.core.display.HTML object>"
      ]
     },
     "metadata": {},
     "output_type": "display_data"
    },
    {
     "data": {
      "text/html": [
       " View run at <a href='https://wandb.ai/emile-agbedanu-none/AML_ResCNN/runs/h4m0v6l5' target=\"_blank\">https://wandb.ai/emile-agbedanu-none/AML_ResCNN/runs/h4m0v6l5</a>"
      ],
      "text/plain": [
       "<IPython.core.display.HTML object>"
      ]
     },
     "metadata": {},
     "output_type": "display_data"
    },
    {
     "name": "stdout",
     "output_type": "stream",
     "text": [
      "Epoch 1/50\n",
      "  Train_Loss: 1.6395 | Train_Acc: 0.3917\n",
      "  Val_Loss: 1.4263 | Val_Acc: 0.4738\n",
      "\n",
      "Epoch 2/50\n",
      "  Train_Loss: 1.3020 | Train_Acc: 0.5264\n",
      "  Val_Loss: 1.3643 | Val_Acc: 0.4990\n",
      "\n",
      "Epoch 3/50\n",
      "  Train_Loss: 1.1631 | Train_Acc: 0.5822\n",
      "  Val_Loss: 1.2331 | Val_Acc: 0.5458\n",
      "\n",
      "Epoch 4/50\n",
      "  Train_Loss: 1.0848 | Train_Acc: 0.6083\n",
      "  Val_Loss: 1.1895 | Val_Acc: 0.5686\n",
      "\n",
      "Epoch 5/50\n",
      "  Train_Loss: 1.0186 | Train_Acc: 0.6316\n",
      "  Val_Loss: 1.1264 | Val_Acc: 0.5910\n",
      "\n",
      "Epoch 6/50\n",
      "  Train_Loss: 0.9740 | Train_Acc: 0.6516\n",
      "  Val_Loss: 1.0677 | Val_Acc: 0.6124\n",
      "\n",
      "Epoch 7/50\n",
      "  Train_Loss: 0.9324 | Train_Acc: 0.6638\n",
      "  Val_Loss: 1.2286 | Val_Acc: 0.5600\n",
      "\n",
      "⚠️WARNING:Change in the trend of value  val_loss: best value= 1.0677 | current value= 1.2286\n",
      "Epoch 8/50\n",
      "  Train_Loss: 0.8955 | Train_Acc: 0.6778\n",
      "  Val_Loss: 1.1036 | Val_Acc: 0.6298\n",
      "\n",
      "⚠️WARNING:Change in the trend of value  val_loss: best value= 1.0677 | current value= 1.1036\n",
      "Epoch 9/50\n",
      "  Train_Loss: 0.8685 | Train_Acc: 0.6898\n",
      "  Val_Loss: 0.9184 | Val_Acc: 0.6724\n",
      "\n",
      "Epoch 10/50\n",
      "  Train_Loss: 0.8418 | Train_Acc: 0.6991\n",
      "  Val_Loss: 0.8629 | Val_Acc: 0.6980\n",
      "\n",
      "Epoch 11/50\n",
      "  Train_Loss: 0.8172 | Train_Acc: 0.7075\n",
      "  Val_Loss: 1.0043 | Val_Acc: 0.6412\n",
      "\n",
      "⚠️WARNING:Change in the trend of value  val_loss: best value= 0.8629 | current value= 1.0043\n",
      "Epoch 12/50\n",
      "  Train_Loss: 0.7922 | Train_Acc: 0.7194\n",
      "  Val_Loss: 0.8410 | Val_Acc: 0.7108\n",
      "\n",
      "Epoch 13/50\n",
      "  Train_Loss: 0.7653 | Train_Acc: 0.7274\n",
      "  Val_Loss: 1.1204 | Val_Acc: 0.6410\n",
      "\n",
      "⚠️WARNING:Change in the trend of value  val_loss: best value= 0.8410 | current value= 1.1204\n",
      "Epoch 14/50\n",
      "  Train_Loss: 0.7526 | Train_Acc: 0.7337\n",
      "  Val_Loss: 0.7680 | Val_Acc: 0.7320\n",
      "\n",
      "Epoch 15/50\n",
      "  Train_Loss: 0.7318 | Train_Acc: 0.7383\n",
      "  Val_Loss: 0.8326 | Val_Acc: 0.7122\n",
      "\n",
      "⚠️WARNING:Change in the trend of value  val_loss: best value= 0.7680 | current value= 0.8326\n",
      "Epoch 16/50\n",
      "  Train_Loss: 0.7234 | Train_Acc: 0.7403\n",
      "  Val_Loss: 0.7622 | Val_Acc: 0.7352\n",
      "\n",
      "Epoch 17/50\n",
      "  Train_Loss: 0.7011 | Train_Acc: 0.7502\n",
      "  Val_Loss: 0.9410 | Val_Acc: 0.6916\n",
      "\n",
      "⚠️WARNING:Change in the trend of value  val_loss: best value= 0.7622 | current value= 0.9410\n",
      "Epoch 18/50\n",
      "  Train_Loss: 0.6899 | Train_Acc: 0.7545\n",
      "  Val_Loss: 0.8877 | Val_Acc: 0.7080\n",
      "\n",
      "⚠️WARNING:Change in the trend of value  val_loss: best value= 0.7622 | current value= 0.8877\n",
      "Epoch 19/50\n",
      "  Train_Loss: 0.6772 | Train_Acc: 0.7585\n",
      "  Val_Loss: 0.7856 | Val_Acc: 0.7254\n",
      "\n",
      "⚠️WARNING:Change in the trend of value  val_loss: best value= 0.7622 | current value= 0.7856\n",
      "Epoch 20/50\n",
      "  Train_Loss: 0.6592 | Train_Acc: 0.7675\n",
      "  Val_Loss: 0.7579 | Val_Acc: 0.7382\n",
      "\n",
      "Epoch 21/50\n",
      "  Train_Loss: 0.6485 | Train_Acc: 0.7686\n",
      "  Val_Loss: 0.8232 | Val_Acc: 0.7258\n",
      "\n",
      "⚠️WARNING:Change in the trend of value  val_loss: best value= 0.7579 | current value= 0.8232\n",
      "Epoch 22/50\n",
      "  Train_Loss: 0.6302 | Train_Acc: 0.7782\n",
      "  Val_Loss: 0.7763 | Val_Acc: 0.7328\n",
      "\n",
      "⚠️WARNING:Change in the trend of value  val_loss: best value= 0.7579 | current value= 0.7763\n",
      "Epoch 23/50\n",
      "  Train_Loss: 0.6228 | Train_Acc: 0.7792\n",
      "  Val_Loss: 0.8349 | Val_Acc: 0.7064\n",
      "\n",
      "⚠️WARNING:Change in the trend of value  val_loss: best value= 0.7579 | current value= 0.8349\n",
      "Epoch 24/50\n",
      "  Train_Loss: 0.6161 | Train_Acc: 0.7815\n",
      "  Val_Loss: 1.0024 | Val_Acc: 0.6832\n",
      "\n",
      "⚠️WARNING:Change in the trend of value  val_loss: best value= 0.7579 | current value= 1.0024\n",
      "Epoch 25/50\n",
      "  Train_Loss: 0.5951 | Train_Acc: 0.7888\n",
      "  Val_Loss: 0.9612 | Val_Acc: 0.6852\n",
      "\n",
      "⚠️WARNING:Change in the trend of value  val_loss: best value= 0.7579 | current value= 0.9612\n",
      "🛑Early stopping due to high risk of OVERFITTING\n",
      "Epoch 25: val_loss is INCREASING for 5 epochs\n"
     ]
    },
    {
     "data": {
      "text/html": [],
      "text/plain": [
       "<IPython.core.display.HTML object>"
      ]
     },
     "metadata": {},
     "output_type": "display_data"
    },
    {
     "data": {
      "text/html": [
       "<br>    <style><br>        .wandb-row {<br>            display: flex;<br>            flex-direction: row;<br>            flex-wrap: wrap;<br>            justify-content: flex-start;<br>            width: 100%;<br>        }<br>        .wandb-col {<br>            display: flex;<br>            flex-direction: column;<br>            flex-basis: 100%;<br>            flex: 1;<br>            padding: 10px;<br>        }<br>    </style><br><div class=\"wandb-row\"><div class=\"wandb-col\"><h3>Run history:</h3><br/><table class=\"wandb\"><tr><td>epoch</td><td>▁▁▂▂▂▂▃▃▃▄▄▄▅▅▅▅▆▆▆▇▇▇▇██</td></tr><tr><td>train_acc</td><td>▁▃▄▅▅▆▆▆▆▆▇▇▇▇▇▇▇▇▇██████</td></tr><tr><td>train_loss</td><td>█▆▅▄▄▄▃▃▃▃▂▂▂▂▂▂▂▂▂▁▁▁▁▁▁</td></tr><tr><td>val_acc</td><td>▁▂▃▄▄▅▃▅▆▇▅▇▅█▇█▇▇████▇▇▇</td></tr><tr><td>val_loss</td><td>█▇▆▆▅▄▆▅▃▂▄▂▅▁▂▁▃▂▁▁▂▁▂▄▃</td></tr></table><br/></div><div class=\"wandb-col\"><h3>Run summary:</h3><br/><table class=\"wandb\"><tr><td>epoch</td><td>25</td></tr><tr><td>train_acc</td><td>0.7888</td></tr><tr><td>train_loss</td><td>0.59514</td></tr><tr><td>val_acc</td><td>0.6852</td></tr><tr><td>val_loss</td><td>0.96124</td></tr></table><br/></div></div>"
      ],
      "text/plain": [
       "<IPython.core.display.HTML object>"
      ]
     },
     "metadata": {},
     "output_type": "display_data"
    },
    {
     "data": {
      "text/html": [
       " View run <strong style=\"color:#cdcd00\">ResidualCNN</strong> at: <a href='https://wandb.ai/emile-agbedanu-none/AML_ResCNN/runs/h4m0v6l5' target=\"_blank\">https://wandb.ai/emile-agbedanu-none/AML_ResCNN/runs/h4m0v6l5</a><br> View project at: <a href='https://wandb.ai/emile-agbedanu-none/AML_ResCNN' target=\"_blank\">https://wandb.ai/emile-agbedanu-none/AML_ResCNN</a><br>Synced 5 W&B file(s), 0 media file(s), 0 artifact file(s) and 0 other file(s)"
      ],
      "text/plain": [
       "<IPython.core.display.HTML object>"
      ]
     },
     "metadata": {},
     "output_type": "display_data"
    },
    {
     "data": {
      "text/html": [
       "Find logs at: <code>.\\wandb\\run-20250805_195920-h4m0v6l5\\logs</code>"
      ],
      "text/plain": [
       "<IPython.core.display.HTML object>"
      ]
     },
     "metadata": {},
     "output_type": "display_data"
    },
    {
     "name": "stdout",
     "output_type": "stream",
     "text": [
      "ResidualCNN performance on TEST SET\n",
      "----------------------------------------------------------------------\n",
      "|Model              | Epochs  | Loss       | Accuracy   | Precision |\n",
      "----------------------------------------------------------------------\n",
      "|ResidualCNN [4Layer] | 25      | 0.9730     | 0.6787     | 0.7416    |\n"
     ]
    }
   ],
   "source": [
    "\n",
    "# Hyperparameters \n",
    "num_blocks=4    \n",
    "\n",
    "# Instantiate Residual CNN model\n",
    "ResCnn_model = VariableDepthResNet(\n",
    "    num_blocks, num_classes, base_channels, dropout_rate, in_channels, padding\n",
    ").to(device)\n",
    "\n",
    "\n",
    "ResCnn_optimizer = torch.optim.Adam(ResCnn_model.parameters(), lr=learning_rate)\n",
    "criterion = nn.CrossEntropyLoss() \n",
    "\n",
    "# Train \n",
    "train_losses_rescnn, val_losses_rescnn, epochs_rescnn = train_model(\n",
    "    ResCnn_model,\n",
    "    train_loader,\n",
    "    val_loader,\n",
    "    ResCnn_optimizer,\n",
    "    criterion,\n",
    "    num_epochs,\n",
    "    device,\n",
    "    patience,\n",
    "    min_delta,\n",
    "    delta_overfit,\n",
    "    overfit_patience,\n",
    "    wandb_project=\"AML_ResCNN\",        \n",
    "    wandb_run_name=\"ResidualCNN\"\n",
    ")\n",
    "\n",
    "# Evaluate\n",
    "test_loss_rescnn, test_acc_rescnn, test_prec_rescnn = evaluate(\n",
    "    ResCnn_model,\n",
    "    test_loader,\n",
    "    criterion,\n",
    "    device\n",
    ")\n",
    "\n",
    "\n",
    "#print results\n",
    "print(\"ResidualCNN performance on TEST SET\")\n",
    "print(\"-\" * 70)\n",
    "print(f\"|{'Model':<18} | {'Epochs':<7} | {'Loss':<10} | {'Accuracy':<10} | {'Precision':<10}|\")\n",
    "print(\"-\" * 70)\n",
    "print(f\"|{f'ResidualCNN [{num_blocks}Layer]':<15} | {epochs_rescnn:<7} | {test_loss_rescnn:<10.4f} | {test_acc_rescnn:<10.4f} | {test_prec_rescnn:<10.4f}|\")\n"
   ]
  },
  {
   "cell_type": "markdown",
   "id": "3809140f",
   "metadata": {},
   "source": [
    "### **Comparison SimpleCNN and ResidualCNN for different depth**"
   ]
  },
  {
   "cell_type": "code",
   "execution_count": null,
   "id": "b9a9635e",
   "metadata": {},
   "outputs": [
    {
     "name": "stdout",
     "output_type": "stream",
     "text": [
      "\n",
      "=== Testing depth = 2 ===\n"
     ]
    },
    {
     "data": {
      "text/html": [
       "Tracking run with wandb version 0.19.8"
      ],
      "text/plain": [
       "<IPython.core.display.HTML object>"
      ]
     },
     "metadata": {},
     "output_type": "display_data"
    },
    {
     "data": {
      "text/html": [
       "Run data is saved locally in <code>c:\\UNIFI\\LM Bio UniFi\\II ANNO\\SECONDO SEMESTRE\\APPLI OF MACHINE LEARNING\\AML_Labs\\Exercise\\wandb\\run-20250805_094714-elor89fr</code>"
      ],
      "text/plain": [
       "<IPython.core.display.HTML object>"
      ]
     },
     "metadata": {},
     "output_type": "display_data"
    },
    {
     "data": {
      "text/html": [
       "Syncing run <strong><a href='https://wandb.ai/emile-agbedanu-none/SimpleCNN%20Vs%20ResCNN/runs/elor89fr' target=\"_blank\">SimpleCNN_2Layers</a></strong> to <a href='https://wandb.ai/emile-agbedanu-none/SimpleCNN%20Vs%20ResCNN' target=\"_blank\">Weights & Biases</a> (<a href='https://wandb.me/developer-guide' target=\"_blank\">docs</a>)<br>"
      ],
      "text/plain": [
       "<IPython.core.display.HTML object>"
      ]
     },
     "metadata": {},
     "output_type": "display_data"
    },
    {
     "data": {
      "text/html": [
       " View project at <a href='https://wandb.ai/emile-agbedanu-none/SimpleCNN%20Vs%20ResCNN' target=\"_blank\">https://wandb.ai/emile-agbedanu-none/SimpleCNN%20Vs%20ResCNN</a>"
      ],
      "text/plain": [
       "<IPython.core.display.HTML object>"
      ]
     },
     "metadata": {},
     "output_type": "display_data"
    },
    {
     "data": {
      "text/html": [
       " View run at <a href='https://wandb.ai/emile-agbedanu-none/SimpleCNN%20Vs%20ResCNN/runs/elor89fr' target=\"_blank\">https://wandb.ai/emile-agbedanu-none/SimpleCNN%20Vs%20ResCNN/runs/elor89fr</a>"
      ],
      "text/plain": [
       "<IPython.core.display.HTML object>"
      ]
     },
     "metadata": {},
     "output_type": "display_data"
    },
    {
     "name": "stdout",
     "output_type": "stream",
     "text": [
      "Epoch 1/30\n",
      "  Train_Loss: 1.4238 | Train_Acc: 0.4909\n",
      "  Val_Loss: 1.0581 | Val_Acc: 0.6194\n",
      "\n",
      "Epoch 2/30\n",
      "  Train_Loss: 1.0082 | Train_Acc: 0.6452\n",
      "  Val_Loss: 0.9264 | Val_Acc: 0.6698\n",
      "\n",
      "Epoch 3/30\n",
      "  Train_Loss: 0.8402 | Train_Acc: 0.7031\n",
      "  Val_Loss: 0.8985 | Val_Acc: 0.6838\n",
      "\n",
      "Epoch 4/30\n",
      "  Train_Loss: 0.7133 | Train_Acc: 0.7482\n",
      "  Val_Loss: 0.8832 | Val_Acc: 0.6910\n",
      "\n",
      "Epoch 5/30\n",
      "  Train_Loss: 0.6033 | Train_Acc: 0.7853\n",
      "  Val_Loss: 0.8929 | Val_Acc: 0.6946\n",
      "\n",
      "Epoch 6/30\n",
      "  Train_Loss: 0.5011 | Train_Acc: 0.8198\n",
      "  Val_Loss: 0.9382 | Val_Acc: 0.7044\n",
      "\n",
      "⚠️WARNING:Change in the trend of value  val_loss: best value= 0.8832 | current value= 0.9382\n",
      "Epoch 7/30\n",
      "  Train_Loss: 0.4110 | Train_Acc: 0.8544\n",
      "  Val_Loss: 0.9748 | Val_Acc: 0.7054\n",
      "\n",
      "⚠️WARNING:Change in the trend of value  val_loss: best value= 0.8832 | current value= 0.9748\n",
      "Epoch 8/30\n",
      "  Train_Loss: 0.3436 | Train_Acc: 0.8775\n",
      "  Val_Loss: 1.0267 | Val_Acc: 0.6936\n",
      "\n",
      "⚠️WARNING:Change in the trend of value  val_loss: best value= 0.8832 | current value= 1.0267\n",
      "Epoch 9/30\n",
      "  Train_Loss: 0.2843 | Train_Acc: 0.8985\n",
      "  Val_Loss: 1.0994 | Val_Acc: 0.6914\n",
      "\n",
      "⚠️WARNING:Change in the trend of value  val_loss: best value= 0.8832 | current value= 1.0994\n",
      "Epoch 10/30\n",
      "  Train_Loss: 0.2445 | Train_Acc: 0.9125\n",
      "  Val_Loss: 1.1416 | Val_Acc: 0.7010\n",
      "\n",
      "⚠️WARNING:Change in the trend of value  val_loss: best value= 0.8832 | current value= 1.1416\n",
      "Epoch 11/30\n",
      "  Train_Loss: 0.2114 | Train_Acc: 0.9236\n",
      "  Val_Loss: 1.3054 | Val_Acc: 0.6980\n",
      "\n",
      "⚠️WARNING:Change in the trend of value  val_loss: best value= 0.8832 | current value= 1.3054\n",
      "Epoch 12/30\n",
      "  Train_Loss: 0.1877 | Train_Acc: 0.9334\n",
      "  Val_Loss: 1.3600 | Val_Acc: 0.6974\n",
      "\n",
      "⚠️WARNING:Change in the trend of value  val_loss: best value= 0.8832 | current value= 1.3600\n",
      "Epoch 13/30\n",
      "  Train_Loss: 0.1734 | Train_Acc: 0.9379\n",
      "  Val_Loss: 1.4206 | Val_Acc: 0.6872\n",
      "\n",
      "⚠️WARNING:Change in the trend of value  val_loss: best value= 0.8832 | current value= 1.4206\n",
      "🛑Early stopping due to high risk of OVERFITTING\n",
      "Epoch 13: val_loss is INCREASING for 8 epochs\n"
     ]
    },
    {
     "data": {
      "text/html": [],
      "text/plain": [
       "<IPython.core.display.HTML object>"
      ]
     },
     "metadata": {},
     "output_type": "display_data"
    },
    {
     "data": {
      "text/html": [
       "<br>    <style><br>        .wandb-row {<br>            display: flex;<br>            flex-direction: row;<br>            flex-wrap: wrap;<br>            justify-content: flex-start;<br>            width: 100%;<br>        }<br>        .wandb-col {<br>            display: flex;<br>            flex-direction: column;<br>            flex-basis: 100%;<br>            flex: 1;<br>            padding: 10px;<br>        }<br>    </style><br><div class=\"wandb-row\"><div class=\"wandb-col\"><h3>Run history:</h3><br/><table class=\"wandb\"><tr><td>epoch</td><td>▁▂▂▃▃▄▅▅▆▆▇▇█</td></tr><tr><td>train_acc</td><td>▁▃▄▅▆▆▇▇▇████</td></tr><tr><td>train_loss</td><td>█▆▅▄▃▃▂▂▂▁▁▁▁</td></tr><tr><td>val_acc</td><td>▁▅▆▇▇██▇▇█▇▇▇</td></tr><tr><td>val_loss</td><td>▃▂▁▁▁▂▂▃▄▄▆▇█</td></tr></table><br/></div><div class=\"wandb-col\"><h3>Run summary:</h3><br/><table class=\"wandb\"><tr><td>epoch</td><td>13</td></tr><tr><td>train_acc</td><td>0.93787</td></tr><tr><td>train_loss</td><td>0.17336</td></tr><tr><td>val_acc</td><td>0.6872</td></tr><tr><td>val_loss</td><td>1.42057</td></tr></table><br/></div></div>"
      ],
      "text/plain": [
       "<IPython.core.display.HTML object>"
      ]
     },
     "metadata": {},
     "output_type": "display_data"
    },
    {
     "data": {
      "text/html": [
       " View run <strong style=\"color:#cdcd00\">SimpleCNN_2Layers</strong> at: <a href='https://wandb.ai/emile-agbedanu-none/SimpleCNN%20Vs%20ResCNN/runs/elor89fr' target=\"_blank\">https://wandb.ai/emile-agbedanu-none/SimpleCNN%20Vs%20ResCNN/runs/elor89fr</a><br> View project at: <a href='https://wandb.ai/emile-agbedanu-none/SimpleCNN%20Vs%20ResCNN' target=\"_blank\">https://wandb.ai/emile-agbedanu-none/SimpleCNN%20Vs%20ResCNN</a><br>Synced 5 W&B file(s), 0 media file(s), 0 artifact file(s) and 0 other file(s)"
      ],
      "text/plain": [
       "<IPython.core.display.HTML object>"
      ]
     },
     "metadata": {},
     "output_type": "display_data"
    },
    {
     "data": {
      "text/html": [
       "Find logs at: <code>.\\wandb\\run-20250805_094714-elor89fr\\logs</code>"
      ],
      "text/plain": [
       "<IPython.core.display.HTML object>"
      ]
     },
     "metadata": {},
     "output_type": "display_data"
    },
    {
     "data": {
      "text/html": [
       "Tracking run with wandb version 0.19.8"
      ],
      "text/plain": [
       "<IPython.core.display.HTML object>"
      ]
     },
     "metadata": {},
     "output_type": "display_data"
    },
    {
     "data": {
      "text/html": [
       "Run data is saved locally in <code>c:\\UNIFI\\LM Bio UniFi\\II ANNO\\SECONDO SEMESTRE\\APPLI OF MACHINE LEARNING\\AML_Labs\\Exercise\\wandb\\run-20250805_095933-9l4d16nm</code>"
      ],
      "text/plain": [
       "<IPython.core.display.HTML object>"
      ]
     },
     "metadata": {},
     "output_type": "display_data"
    },
    {
     "data": {
      "text/html": [
       "Syncing run <strong><a href='https://wandb.ai/emile-agbedanu-none/SimpleCNN%20Vs%20ResCNN/runs/9l4d16nm' target=\"_blank\">ResidualCNN_2Blocks</a></strong> to <a href='https://wandb.ai/emile-agbedanu-none/SimpleCNN%20Vs%20ResCNN' target=\"_blank\">Weights & Biases</a> (<a href='https://wandb.me/developer-guide' target=\"_blank\">docs</a>)<br>"
      ],
      "text/plain": [
       "<IPython.core.display.HTML object>"
      ]
     },
     "metadata": {},
     "output_type": "display_data"
    },
    {
     "data": {
      "text/html": [
       " View project at <a href='https://wandb.ai/emile-agbedanu-none/SimpleCNN%20Vs%20ResCNN' target=\"_blank\">https://wandb.ai/emile-agbedanu-none/SimpleCNN%20Vs%20ResCNN</a>"
      ],
      "text/plain": [
       "<IPython.core.display.HTML object>"
      ]
     },
     "metadata": {},
     "output_type": "display_data"
    },
    {
     "data": {
      "text/html": [
       " View run at <a href='https://wandb.ai/emile-agbedanu-none/SimpleCNN%20Vs%20ResCNN/runs/9l4d16nm' target=\"_blank\">https://wandb.ai/emile-agbedanu-none/SimpleCNN%20Vs%20ResCNN/runs/9l4d16nm</a>"
      ],
      "text/plain": [
       "<IPython.core.display.HTML object>"
      ]
     },
     "metadata": {},
     "output_type": "display_data"
    },
    {
     "name": "stdout",
     "output_type": "stream",
     "text": [
      "Epoch 1/30\n",
      "  Train_Loss: 1.6673 | Train_Acc: 0.3786\n",
      "  Val_Loss: 1.5608 | Val_Acc: 0.4268\n",
      "\n",
      "Epoch 2/30\n",
      "  Train_Loss: 1.3708 | Train_Acc: 0.5002\n",
      "  Val_Loss: 1.4736 | Val_Acc: 0.4746\n",
      "\n",
      "Epoch 3/30\n",
      "  Train_Loss: 1.2408 | Train_Acc: 0.5534\n",
      "  Val_Loss: 1.2450 | Val_Acc: 0.5632\n",
      "\n",
      "Epoch 4/30\n",
      "  Train_Loss: 1.1588 | Train_Acc: 0.5844\n",
      "  Val_Loss: 1.0771 | Val_Acc: 0.6240\n",
      "\n",
      "Epoch 5/30\n",
      "  Train_Loss: 1.0889 | Train_Acc: 0.6121\n",
      "  Val_Loss: 1.1883 | Val_Acc: 0.5830\n",
      "\n",
      "⚠️WARNING:Change in the trend of value  val_loss: best value= 1.0771 | current value= 1.1883\n",
      "Epoch 6/30\n",
      "  Train_Loss: 1.0367 | Train_Acc: 0.6297\n",
      "  Val_Loss: 1.0939 | Val_Acc: 0.6082\n",
      "\n",
      "⚠️WARNING:Change in the trend of value  val_loss: best value= 1.0771 | current value= 1.0939\n",
      "Epoch 7/30\n",
      "  Train_Loss: 0.9841 | Train_Acc: 0.6527\n",
      "  Val_Loss: 0.9344 | Val_Acc: 0.6624\n",
      "\n",
      "Epoch 8/30\n",
      "  Train_Loss: 0.9452 | Train_Acc: 0.6626\n",
      "  Val_Loss: 1.0158 | Val_Acc: 0.6488\n",
      "\n",
      "⚠️WARNING:Change in the trend of value  val_loss: best value= 0.9344 | current value= 1.0158\n",
      "Epoch 9/30\n",
      "  Train_Loss: 0.9091 | Train_Acc: 0.6781\n",
      "  Val_Loss: 0.9973 | Val_Acc: 0.6420\n",
      "\n",
      "⚠️WARNING:Change in the trend of value  val_loss: best value= 0.9344 | current value= 0.9973\n",
      "Epoch 10/30\n",
      "  Train_Loss: 0.8801 | Train_Acc: 0.6888\n",
      "  Val_Loss: 1.3211 | Val_Acc: 0.5606\n",
      "\n",
      "⚠️WARNING:Change in the trend of value  val_loss: best value= 0.9344 | current value= 1.3211\n",
      "Epoch 11/30\n",
      "  Train_Loss: 0.8528 | Train_Acc: 0.6957\n",
      "  Val_Loss: 0.7706 | Val_Acc: 0.7300\n",
      "\n",
      "Epoch 12/30\n",
      "  Train_Loss: 0.8280 | Train_Acc: 0.7078\n",
      "  Val_Loss: 0.7950 | Val_Acc: 0.7180\n",
      "\n",
      "⚠️WARNING:Change in the trend of value  val_loss: best value= 0.7706 | current value= 0.7950\n",
      "Epoch 13/30\n",
      "  Train_Loss: 0.8076 | Train_Acc: 0.7143\n",
      "  Val_Loss: 0.8550 | Val_Acc: 0.6934\n",
      "\n",
      "⚠️WARNING:Change in the trend of value  val_loss: best value= 0.7706 | current value= 0.8550\n",
      "Epoch 14/30\n",
      "  Train_Loss: 0.7807 | Train_Acc: 0.7247\n",
      "  Val_Loss: 0.7754 | Val_Acc: 0.7268\n",
      "\n",
      "Epoch 15/30\n",
      "  Train_Loss: 0.7601 | Train_Acc: 0.7340\n",
      "  Val_Loss: 0.7309 | Val_Acc: 0.7420\n",
      "\n",
      "Epoch 16/30\n",
      "  Train_Loss: 0.7421 | Train_Acc: 0.7386\n",
      "  Val_Loss: 0.8179 | Val_Acc: 0.7116\n",
      "\n",
      "⚠️WARNING:Change in the trend of value  val_loss: best value= 0.7309 | current value= 0.8179\n",
      "Epoch 17/30\n",
      "  Train_Loss: 0.7301 | Train_Acc: 0.7431\n",
      "  Val_Loss: 0.6932 | Val_Acc: 0.7650\n",
      "\n",
      "Epoch 18/30\n",
      "  Train_Loss: 0.7109 | Train_Acc: 0.7512\n",
      "  Val_Loss: 0.7449 | Val_Acc: 0.7402\n",
      "\n",
      "⚠️WARNING:Change in the trend of value  val_loss: best value= 0.6932 | current value= 0.7449\n",
      "Epoch 19/30\n",
      "  Train_Loss: 0.6916 | Train_Acc: 0.7581\n",
      "  Val_Loss: 0.7451 | Val_Acc: 0.7390\n",
      "\n",
      "⚠️WARNING:Change in the trend of value  val_loss: best value= 0.6932 | current value= 0.7451\n",
      "⚠️Δ(val_loss) < 0.001 for 1 consecutive epoch(s)\n",
      "Epoch 20/30\n",
      "  Train_Loss: 0.6832 | Train_Acc: 0.7616\n",
      "  Val_Loss: 0.7750 | Val_Acc: 0.7272\n",
      "\n",
      "⚠️WARNING:Change in the trend of value  val_loss: best value= 0.6932 | current value= 0.7750\n",
      "Epoch 21/30\n",
      "  Train_Loss: 0.6617 | Train_Acc: 0.7693\n",
      "  Val_Loss: 0.6666 | Val_Acc: 0.7656\n",
      "\n",
      "Epoch 22/30\n",
      "  Train_Loss: 0.6436 | Train_Acc: 0.7731\n",
      "  Val_Loss: 0.6769 | Val_Acc: 0.7660\n",
      "\n",
      "⚠️WARNING:Change in the trend of value  val_loss: best value= 0.6666 | current value= 0.6769\n",
      "Epoch 23/30\n",
      "  Train_Loss: 0.6399 | Train_Acc: 0.7783\n",
      "  Val_Loss: 0.6620 | Val_Acc: 0.7684\n",
      "\n",
      "Epoch 24/30\n",
      "  Train_Loss: 0.6267 | Train_Acc: 0.7812\n",
      "  Val_Loss: 0.6794 | Val_Acc: 0.7670\n",
      "\n",
      "⚠️WARNING:Change in the trend of value  val_loss: best value= 0.6620 | current value= 0.6794\n",
      "Epoch 25/30\n",
      "  Train_Loss: 0.6186 | Train_Acc: 0.7838\n",
      "  Val_Loss: 0.6164 | Val_Acc: 0.7862\n",
      "\n",
      "Epoch 26/30\n",
      "  Train_Loss: 0.6021 | Train_Acc: 0.7914\n",
      "  Val_Loss: 0.6050 | Val_Acc: 0.7944\n",
      "\n",
      "Epoch 27/30\n",
      "  Train_Loss: 0.5958 | Train_Acc: 0.7910\n",
      "  Val_Loss: 0.6270 | Val_Acc: 0.7810\n",
      "\n",
      "⚠️WARNING:Change in the trend of value  val_loss: best value= 0.6050 | current value= 0.6270\n",
      "Epoch 28/30\n",
      "  Train_Loss: 0.5773 | Train_Acc: 0.7979\n",
      "  Val_Loss: 0.8500 | Val_Acc: 0.7172\n",
      "\n",
      "⚠️WARNING:Change in the trend of value  val_loss: best value= 0.6050 | current value= 0.8500\n",
      "Epoch 29/30\n",
      "  Train_Loss: 0.5671 | Train_Acc: 0.8029\n",
      "  Val_Loss: 0.6481 | Val_Acc: 0.7750\n",
      "\n",
      "⚠️WARNING:Change in the trend of value  val_loss: best value= 0.6050 | current value= 0.6481\n",
      "Epoch 30/30\n",
      "  Train_Loss: 0.5590 | Train_Acc: 0.8056\n",
      "  Val_Loss: 0.6628 | Val_Acc: 0.7696\n",
      "\n",
      "⚠️WARNING:Change in the trend of value  val_loss: best value= 0.6050 | current value= 0.6628\n"
     ]
    },
    {
     "data": {
      "text/html": [],
      "text/plain": [
       "<IPython.core.display.HTML object>"
      ]
     },
     "metadata": {},
     "output_type": "display_data"
    },
    {
     "data": {
      "text/html": [
       "<br>    <style><br>        .wandb-row {<br>            display: flex;<br>            flex-direction: row;<br>            flex-wrap: wrap;<br>            justify-content: flex-start;<br>            width: 100%;<br>        }<br>        .wandb-col {<br>            display: flex;<br>            flex-direction: column;<br>            flex-basis: 100%;<br>            flex: 1;<br>            padding: 10px;<br>        }<br>    </style><br><div class=\"wandb-row\"><div class=\"wandb-col\"><h3>Run history:</h3><br/><table class=\"wandb\"><tr><td>epoch</td><td>▁▁▁▂▂▂▂▃▃▃▃▄▄▄▄▅▅▅▅▆▆▆▆▇▇▇▇███</td></tr><tr><td>train_acc</td><td>▁▃▄▄▅▅▅▆▆▆▆▆▇▇▇▇▇▇▇▇▇▇████████</td></tr><tr><td>train_loss</td><td>█▆▅▅▄▄▄▃▃▃▃▃▃▂▂▂▂▂▂▂▂▂▂▁▁▁▁▁▁▁</td></tr><tr><td>val_acc</td><td>▁▂▄▅▄▄▅▅▅▄▇▇▆▇▇▆▇▇▇▇▇▇█▇███▇██</td></tr><tr><td>val_loss</td><td>█▇▆▄▅▅▃▄▄▆▂▂▃▂▂▃▂▂▂▂▁▂▁▂▁▁▁▃▁▁</td></tr></table><br/></div><div class=\"wandb-col\"><h3>Run summary:</h3><br/><table class=\"wandb\"><tr><td>epoch</td><td>30</td></tr><tr><td>train_acc</td><td>0.80564</td></tr><tr><td>train_loss</td><td>0.55903</td></tr><tr><td>val_acc</td><td>0.7696</td></tr><tr><td>val_loss</td><td>0.66281</td></tr></table><br/></div></div>"
      ],
      "text/plain": [
       "<IPython.core.display.HTML object>"
      ]
     },
     "metadata": {},
     "output_type": "display_data"
    },
    {
     "data": {
      "text/html": [
       " View run <strong style=\"color:#cdcd00\">ResidualCNN_2Blocks</strong> at: <a href='https://wandb.ai/emile-agbedanu-none/SimpleCNN%20Vs%20ResCNN/runs/9l4d16nm' target=\"_blank\">https://wandb.ai/emile-agbedanu-none/SimpleCNN%20Vs%20ResCNN/runs/9l4d16nm</a><br> View project at: <a href='https://wandb.ai/emile-agbedanu-none/SimpleCNN%20Vs%20ResCNN' target=\"_blank\">https://wandb.ai/emile-agbedanu-none/SimpleCNN%20Vs%20ResCNN</a><br>Synced 5 W&B file(s), 0 media file(s), 0 artifact file(s) and 0 other file(s)"
      ],
      "text/plain": [
       "<IPython.core.display.HTML object>"
      ]
     },
     "metadata": {},
     "output_type": "display_data"
    },
    {
     "data": {
      "text/html": [
       "Find logs at: <code>.\\wandb\\run-20250805_095933-9l4d16nm\\logs</code>"
      ],
      "text/plain": [
       "<IPython.core.display.HTML object>"
      ]
     },
     "metadata": {},
     "output_type": "display_data"
    },
    {
     "name": "stdout",
     "output_type": "stream",
     "text": [
      "\n",
      "=== Testing depth = 3 ===\n"
     ]
    },
    {
     "data": {
      "text/html": [
       "Tracking run with wandb version 0.19.8"
      ],
      "text/plain": [
       "<IPython.core.display.HTML object>"
      ]
     },
     "metadata": {},
     "output_type": "display_data"
    },
    {
     "data": {
      "text/html": [
       "Run data is saved locally in <code>c:\\UNIFI\\LM Bio UniFi\\II ANNO\\SECONDO SEMESTRE\\APPLI OF MACHINE LEARNING\\AML_Labs\\Exercise\\wandb\\run-20250805_102105-aj4t530p</code>"
      ],
      "text/plain": [
       "<IPython.core.display.HTML object>"
      ]
     },
     "metadata": {},
     "output_type": "display_data"
    },
    {
     "data": {
      "text/html": [
       "Syncing run <strong><a href='https://wandb.ai/emile-agbedanu-none/SimpleCNN%20Vs%20ResCNN/runs/aj4t530p' target=\"_blank\">SimpleCNN_3Layers</a></strong> to <a href='https://wandb.ai/emile-agbedanu-none/SimpleCNN%20Vs%20ResCNN' target=\"_blank\">Weights & Biases</a> (<a href='https://wandb.me/developer-guide' target=\"_blank\">docs</a>)<br>"
      ],
      "text/plain": [
       "<IPython.core.display.HTML object>"
      ]
     },
     "metadata": {},
     "output_type": "display_data"
    },
    {
     "data": {
      "text/html": [
       " View project at <a href='https://wandb.ai/emile-agbedanu-none/SimpleCNN%20Vs%20ResCNN' target=\"_blank\">https://wandb.ai/emile-agbedanu-none/SimpleCNN%20Vs%20ResCNN</a>"
      ],
      "text/plain": [
       "<IPython.core.display.HTML object>"
      ]
     },
     "metadata": {},
     "output_type": "display_data"
    },
    {
     "data": {
      "text/html": [
       " View run at <a href='https://wandb.ai/emile-agbedanu-none/SimpleCNN%20Vs%20ResCNN/runs/aj4t530p' target=\"_blank\">https://wandb.ai/emile-agbedanu-none/SimpleCNN%20Vs%20ResCNN/runs/aj4t530p</a>"
      ],
      "text/plain": [
       "<IPython.core.display.HTML object>"
      ]
     },
     "metadata": {},
     "output_type": "display_data"
    },
    {
     "name": "stdout",
     "output_type": "stream",
     "text": [
      "Epoch 1/30\n",
      "  Train_Loss: 1.4060 | Train_Acc: 0.4964\n",
      "  Val_Loss: 1.0567 | Val_Acc: 0.6244\n",
      "\n",
      "Epoch 2/30\n",
      "  Train_Loss: 0.9609 | Train_Acc: 0.6626\n",
      "  Val_Loss: 0.8374 | Val_Acc: 0.7120\n",
      "\n",
      "Epoch 3/30\n",
      "  Train_Loss: 0.7694 | Train_Acc: 0.7311\n",
      "  Val_Loss: 0.7628 | Val_Acc: 0.7350\n",
      "\n",
      "Epoch 4/30\n",
      "  Train_Loss: 0.6249 | Train_Acc: 0.7808\n",
      "  Val_Loss: 0.7433 | Val_Acc: 0.7468\n",
      "\n",
      "Epoch 5/30\n",
      "  Train_Loss: 0.4909 | Train_Acc: 0.8266\n",
      "  Val_Loss: 0.7591 | Val_Acc: 0.7488\n",
      "\n",
      "⚠️WARNING:Change in the trend of value  val_loss: best value= 0.7433 | current value= 0.7591\n",
      "Epoch 6/30\n",
      "  Train_Loss: 0.3866 | Train_Acc: 0.8592\n",
      "  Val_Loss: 0.7981 | Val_Acc: 0.7546\n",
      "\n",
      "⚠️WARNING:Change in the trend of value  val_loss: best value= 0.7433 | current value= 0.7981\n",
      "Epoch 7/30\n",
      "  Train_Loss: 0.3002 | Train_Acc: 0.8940\n",
      "  Val_Loss: 0.8758 | Val_Acc: 0.7486\n",
      "\n",
      "⚠️WARNING:Change in the trend of value  val_loss: best value= 0.7433 | current value= 0.8758\n",
      "Epoch 8/30\n",
      "  Train_Loss: 0.2366 | Train_Acc: 0.9163\n",
      "  Val_Loss: 0.9912 | Val_Acc: 0.7440\n",
      "\n",
      "⚠️WARNING:Change in the trend of value  val_loss: best value= 0.7433 | current value= 0.9912\n",
      "Epoch 9/30\n",
      "  Train_Loss: 0.1879 | Train_Acc: 0.9328\n",
      "  Val_Loss: 1.0209 | Val_Acc: 0.7558\n",
      "\n",
      "⚠️WARNING:Change in the trend of value  val_loss: best value= 0.7433 | current value= 1.0209\n",
      "Epoch 10/30\n",
      "  Train_Loss: 0.1605 | Train_Acc: 0.9415\n",
      "  Val_Loss: 1.0791 | Val_Acc: 0.7498\n",
      "\n",
      "⚠️WARNING:Change in the trend of value  val_loss: best value= 0.7433 | current value= 1.0791\n",
      "Epoch 11/30\n",
      "  Train_Loss: 0.1420 | Train_Acc: 0.9490\n",
      "  Val_Loss: 1.1386 | Val_Acc: 0.7448\n",
      "\n",
      "⚠️WARNING:Change in the trend of value  val_loss: best value= 0.7433 | current value= 1.1386\n",
      "Epoch 12/30\n",
      "  Train_Loss: 0.1272 | Train_Acc: 0.9543\n",
      "  Val_Loss: 1.1658 | Val_Acc: 0.7552\n",
      "\n",
      "⚠️WARNING:Change in the trend of value  val_loss: best value= 0.7433 | current value= 1.1658\n",
      "🛑Early stopping due to high risk of OVERFITTING\n",
      "Epoch 12: val_loss is INCREASING for 8 epochs\n"
     ]
    },
    {
     "data": {
      "text/html": [],
      "text/plain": [
       "<IPython.core.display.HTML object>"
      ]
     },
     "metadata": {},
     "output_type": "display_data"
    },
    {
     "data": {
      "text/html": [
       "<br>    <style><br>        .wandb-row {<br>            display: flex;<br>            flex-direction: row;<br>            flex-wrap: wrap;<br>            justify-content: flex-start;<br>            width: 100%;<br>        }<br>        .wandb-col {<br>            display: flex;<br>            flex-direction: column;<br>            flex-basis: 100%;<br>            flex: 1;<br>            padding: 10px;<br>        }<br>    </style><br><div class=\"wandb-row\"><div class=\"wandb-col\"><h3>Run history:</h3><br/><table class=\"wandb\"><tr><td>epoch</td><td>▁▂▂▃▄▄▅▅▆▇▇█</td></tr><tr><td>train_acc</td><td>▁▄▅▅▆▇▇▇████</td></tr><tr><td>train_loss</td><td>█▆▅▄▃▂▂▂▁▁▁▁</td></tr><tr><td>val_acc</td><td>▁▆▇████▇██▇█</td></tr><tr><td>val_loss</td><td>▆▃▁▁▁▂▃▅▆▇██</td></tr></table><br/></div><div class=\"wandb-col\"><h3>Run summary:</h3><br/><table class=\"wandb\"><tr><td>epoch</td><td>12</td></tr><tr><td>train_acc</td><td>0.95431</td></tr><tr><td>train_loss</td><td>0.12718</td></tr><tr><td>val_acc</td><td>0.7552</td></tr><tr><td>val_loss</td><td>1.16578</td></tr></table><br/></div></div>"
      ],
      "text/plain": [
       "<IPython.core.display.HTML object>"
      ]
     },
     "metadata": {},
     "output_type": "display_data"
    },
    {
     "data": {
      "text/html": [
       " View run <strong style=\"color:#cdcd00\">SimpleCNN_3Layers</strong> at: <a href='https://wandb.ai/emile-agbedanu-none/SimpleCNN%20Vs%20ResCNN/runs/aj4t530p' target=\"_blank\">https://wandb.ai/emile-agbedanu-none/SimpleCNN%20Vs%20ResCNN/runs/aj4t530p</a><br> View project at: <a href='https://wandb.ai/emile-agbedanu-none/SimpleCNN%20Vs%20ResCNN' target=\"_blank\">https://wandb.ai/emile-agbedanu-none/SimpleCNN%20Vs%20ResCNN</a><br>Synced 5 W&B file(s), 0 media file(s), 0 artifact file(s) and 0 other file(s)"
      ],
      "text/plain": [
       "<IPython.core.display.HTML object>"
      ]
     },
     "metadata": {},
     "output_type": "display_data"
    },
    {
     "data": {
      "text/html": [
       "Find logs at: <code>.\\wandb\\run-20250805_102105-aj4t530p\\logs</code>"
      ],
      "text/plain": [
       "<IPython.core.display.HTML object>"
      ]
     },
     "metadata": {},
     "output_type": "display_data"
    },
    {
     "data": {
      "text/html": [],
      "text/plain": [
       "<IPython.core.display.HTML object>"
      ]
     },
     "metadata": {},
     "output_type": "display_data"
    },
    {
     "data": {
      "text/html": [
       "Tracking run with wandb version 0.19.8"
      ],
      "text/plain": [
       "<IPython.core.display.HTML object>"
      ]
     },
     "metadata": {},
     "output_type": "display_data"
    },
    {
     "data": {
      "text/html": [
       "Run data is saved locally in <code>c:\\UNIFI\\LM Bio UniFi\\II ANNO\\SECONDO SEMESTRE\\APPLI OF MACHINE LEARNING\\AML_Labs\\Exercise\\wandb\\run-20250805_102720-2d52rqx3</code>"
      ],
      "text/plain": [
       "<IPython.core.display.HTML object>"
      ]
     },
     "metadata": {},
     "output_type": "display_data"
    },
    {
     "data": {
      "text/html": [
       "Syncing run <strong><a href='https://wandb.ai/emile-agbedanu-none/SimpleCNN%20Vs%20ResCNN/runs/2d52rqx3' target=\"_blank\">ResidualCNN_3Blocks</a></strong> to <a href='https://wandb.ai/emile-agbedanu-none/SimpleCNN%20Vs%20ResCNN' target=\"_blank\">Weights & Biases</a> (<a href='https://wandb.me/developer-guide' target=\"_blank\">docs</a>)<br>"
      ],
      "text/plain": [
       "<IPython.core.display.HTML object>"
      ]
     },
     "metadata": {},
     "output_type": "display_data"
    },
    {
     "data": {
      "text/html": [
       " View project at <a href='https://wandb.ai/emile-agbedanu-none/SimpleCNN%20Vs%20ResCNN' target=\"_blank\">https://wandb.ai/emile-agbedanu-none/SimpleCNN%20Vs%20ResCNN</a>"
      ],
      "text/plain": [
       "<IPython.core.display.HTML object>"
      ]
     },
     "metadata": {},
     "output_type": "display_data"
    },
    {
     "data": {
      "text/html": [
       " View run at <a href='https://wandb.ai/emile-agbedanu-none/SimpleCNN%20Vs%20ResCNN/runs/2d52rqx3' target=\"_blank\">https://wandb.ai/emile-agbedanu-none/SimpleCNN%20Vs%20ResCNN/runs/2d52rqx3</a>"
      ],
      "text/plain": [
       "<IPython.core.display.HTML object>"
      ]
     },
     "metadata": {},
     "output_type": "display_data"
    },
    {
     "name": "stdout",
     "output_type": "stream",
     "text": [
      "Epoch 1/30\n",
      "  Train_Loss: 1.5976 | Train_Acc: 0.4097\n",
      "  Val_Loss: 1.4336 | Val_Acc: 0.4798\n",
      "\n",
      "Epoch 2/30\n",
      "  Train_Loss: 1.2760 | Train_Acc: 0.5366\n",
      "  Val_Loss: 1.1264 | Val_Acc: 0.6002\n",
      "\n",
      "Epoch 3/30\n",
      "  Train_Loss: 1.1292 | Train_Acc: 0.5934\n",
      "  Val_Loss: 1.0962 | Val_Acc: 0.6108\n",
      "\n",
      "Epoch 4/30\n",
      "  Train_Loss: 1.0394 | Train_Acc: 0.6308\n",
      "  Val_Loss: 0.9689 | Val_Acc: 0.6528\n",
      "\n",
      "Epoch 5/30\n",
      "  Train_Loss: 0.9621 | Train_Acc: 0.6568\n",
      "  Val_Loss: 0.9789 | Val_Acc: 0.6548\n",
      "\n",
      "⚠️WARNING:Change in the trend of value  val_loss: best value= 0.9689 | current value= 0.9789\n",
      "Epoch 6/30\n",
      "  Train_Loss: 0.9062 | Train_Acc: 0.6789\n",
      "  Val_Loss: 1.0961 | Val_Acc: 0.6056\n",
      "\n",
      "⚠️WARNING:Change in the trend of value  val_loss: best value= 0.9689 | current value= 1.0961\n",
      "Epoch 7/30\n",
      "  Train_Loss: 0.8573 | Train_Acc: 0.6985\n",
      "  Val_Loss: 0.8109 | Val_Acc: 0.7166\n",
      "\n",
      "Epoch 8/30\n",
      "  Train_Loss: 0.8148 | Train_Acc: 0.7127\n",
      "  Val_Loss: 0.8214 | Val_Acc: 0.7100\n",
      "\n",
      "⚠️WARNING:Change in the trend of value  val_loss: best value= 0.8109 | current value= 0.8214\n",
      "Epoch 9/30\n",
      "  Train_Loss: 0.7773 | Train_Acc: 0.7290\n",
      "  Val_Loss: 0.7679 | Val_Acc: 0.7372\n",
      "\n",
      "Epoch 10/30\n",
      "  Train_Loss: 0.7435 | Train_Acc: 0.7415\n",
      "  Val_Loss: 0.7929 | Val_Acc: 0.7160\n",
      "\n",
      "⚠️WARNING:Change in the trend of value  val_loss: best value= 0.7679 | current value= 0.7929\n",
      "Epoch 11/30\n",
      "  Train_Loss: 0.7089 | Train_Acc: 0.7524\n",
      "  Val_Loss: 0.9525 | Val_Acc: 0.6776\n",
      "\n",
      "⚠️WARNING:Change in the trend of value  val_loss: best value= 0.7679 | current value= 0.9525\n",
      "Epoch 12/30\n",
      "  Train_Loss: 0.6814 | Train_Acc: 0.7632\n",
      "  Val_Loss: 0.8322 | Val_Acc: 0.7180\n",
      "\n",
      "⚠️WARNING:Change in the trend of value  val_loss: best value= 0.7679 | current value= 0.8322\n",
      "Epoch 13/30\n",
      "  Train_Loss: 0.6564 | Train_Acc: 0.7710\n",
      "  Val_Loss: 0.7715 | Val_Acc: 0.7400\n",
      "\n",
      "Epoch 14/30\n",
      "  Train_Loss: 0.6264 | Train_Acc: 0.7811\n",
      "  Val_Loss: 0.8224 | Val_Acc: 0.7042\n",
      "\n",
      "⚠️WARNING:Change in the trend of value  val_loss: best value= 0.7679 | current value= 0.8224\n",
      "Epoch 15/30\n",
      "  Train_Loss: 0.5994 | Train_Acc: 0.7944\n",
      "  Val_Loss: 0.6143 | Val_Acc: 0.7866\n",
      "\n",
      "Epoch 16/30\n",
      "  Train_Loss: 0.5815 | Train_Acc: 0.7983\n",
      "  Val_Loss: 0.6015 | Val_Acc: 0.7946\n",
      "\n",
      "Epoch 17/30\n",
      "  Train_Loss: 0.5555 | Train_Acc: 0.8054\n",
      "  Val_Loss: 0.7052 | Val_Acc: 0.7640\n",
      "\n",
      "⚠️WARNING:Change in the trend of value  val_loss: best value= 0.6015 | current value= 0.7052\n",
      "Epoch 18/30\n",
      "  Train_Loss: 0.5372 | Train_Acc: 0.8130\n",
      "  Val_Loss: 0.6505 | Val_Acc: 0.7774\n",
      "\n",
      "⚠️WARNING:Change in the trend of value  val_loss: best value= 0.6015 | current value= 0.6505\n",
      "Epoch 19/30\n",
      "  Train_Loss: 0.5202 | Train_Acc: 0.8191\n",
      "  Val_Loss: 0.6620 | Val_Acc: 0.7716\n",
      "\n",
      "⚠️WARNING:Change in the trend of value  val_loss: best value= 0.6015 | current value= 0.6620\n",
      "Epoch 20/30\n",
      "  Train_Loss: 0.5041 | Train_Acc: 0.8262\n",
      "  Val_Loss: 0.6185 | Val_Acc: 0.7930\n",
      "\n",
      "⚠️WARNING:Change in the trend of value  val_loss: best value= 0.6015 | current value= 0.6185\n",
      "Epoch 21/30\n",
      "  Train_Loss: 0.4840 | Train_Acc: 0.8316\n",
      "  Val_Loss: 0.6474 | Val_Acc: 0.7804\n",
      "\n",
      "⚠️WARNING:Change in the trend of value  val_loss: best value= 0.6015 | current value= 0.6474\n",
      "Epoch 22/30\n",
      "  Train_Loss: 0.4685 | Train_Acc: 0.8383\n",
      "  Val_Loss: 0.6093 | Val_Acc: 0.7984\n",
      "\n",
      "Epoch 23/30\n",
      "  Train_Loss: 0.4524 | Train_Acc: 0.8442\n",
      "  Val_Loss: 0.5739 | Val_Acc: 0.8028\n",
      "\n",
      "Epoch 24/30\n",
      "  Train_Loss: 0.4387 | Train_Acc: 0.8486\n",
      "  Val_Loss: 0.5287 | Val_Acc: 0.8158\n",
      "\n",
      "Epoch 25/30\n",
      "  Train_Loss: 0.4206 | Train_Acc: 0.8533\n",
      "  Val_Loss: 0.6116 | Val_Acc: 0.7976\n",
      "\n",
      "⚠️WARNING:Change in the trend of value  val_loss: best value= 0.5287 | current value= 0.6116\n",
      "Epoch 26/30\n",
      "  Train_Loss: 0.4141 | Train_Acc: 0.8571\n",
      "  Val_Loss: 0.6727 | Val_Acc: 0.7746\n",
      "\n",
      "⚠️WARNING:Change in the trend of value  val_loss: best value= 0.5287 | current value= 0.6727\n",
      "Epoch 27/30\n",
      "  Train_Loss: 0.3941 | Train_Acc: 0.8629\n",
      "  Val_Loss: 0.5762 | Val_Acc: 0.8080\n",
      "\n",
      "⚠️WARNING:Change in the trend of value  val_loss: best value= 0.5287 | current value= 0.5762\n",
      "Epoch 28/30\n",
      "  Train_Loss: 0.3832 | Train_Acc: 0.8673\n",
      "  Val_Loss: 0.7414 | Val_Acc: 0.7796\n",
      "\n",
      "⚠️WARNING:Change in the trend of value  val_loss: best value= 0.5287 | current value= 0.7414\n",
      "Epoch 29/30\n",
      "  Train_Loss: 0.3666 | Train_Acc: 0.8733\n",
      "  Val_Loss: 0.6184 | Val_Acc: 0.8026\n",
      "\n",
      "⚠️WARNING:Change in the trend of value  val_loss: best value= 0.5287 | current value= 0.6184\n",
      "Epoch 30/30\n",
      "  Train_Loss: 0.3531 | Train_Acc: 0.8783\n",
      "  Val_Loss: 0.6185 | Val_Acc: 0.8070\n",
      "\n",
      "⚠️WARNING:Change in the trend of value  val_loss: best value= 0.5287 | current value= 0.6185\n",
      "⚠️Δ(val_loss) < 0.001 for 1 consecutive epoch(s)\n"
     ]
    },
    {
     "data": {
      "text/html": [],
      "text/plain": [
       "<IPython.core.display.HTML object>"
      ]
     },
     "metadata": {},
     "output_type": "display_data"
    },
    {
     "data": {
      "text/html": [
       "<br>    <style><br>        .wandb-row {<br>            display: flex;<br>            flex-direction: row;<br>            flex-wrap: wrap;<br>            justify-content: flex-start;<br>            width: 100%;<br>        }<br>        .wandb-col {<br>            display: flex;<br>            flex-direction: column;<br>            flex-basis: 100%;<br>            flex: 1;<br>            padding: 10px;<br>        }<br>    </style><br><div class=\"wandb-row\"><div class=\"wandb-col\"><h3>Run history:</h3><br/><table class=\"wandb\"><tr><td>epoch</td><td>▁▁▁▂▂▂▂▃▃▃▃▄▄▄▄▅▅▅▅▆▆▆▆▇▇▇▇███</td></tr><tr><td>train_acc</td><td>▁▃▄▄▅▅▅▆▆▆▆▆▆▇▇▇▇▇▇▇▇▇▇███████</td></tr><tr><td>train_loss</td><td>█▆▅▅▄▄▄▄▃▃▃▃▃▃▂▂▂▂▂▂▂▂▂▁▁▁▁▁▁▁</td></tr><tr><td>val_acc</td><td>▁▄▄▅▅▄▆▆▆▆▅▆▆▆▇█▇▇▇█▇████▇█▇██</td></tr><tr><td>val_loss</td><td>█▆▅▄▄▅▃▃▃▃▄▃▃▃▂▂▂▂▂▂▂▂▁▁▂▂▁▃▂▂</td></tr></table><br/></div><div class=\"wandb-col\"><h3>Run summary:</h3><br/><table class=\"wandb\"><tr><td>epoch</td><td>30</td></tr><tr><td>train_acc</td><td>0.87833</td></tr><tr><td>train_loss</td><td>0.35308</td></tr><tr><td>val_acc</td><td>0.807</td></tr><tr><td>val_loss</td><td>0.61852</td></tr></table><br/></div></div>"
      ],
      "text/plain": [
       "<IPython.core.display.HTML object>"
      ]
     },
     "metadata": {},
     "output_type": "display_data"
    },
    {
     "data": {
      "text/html": [
       " View run <strong style=\"color:#cdcd00\">ResidualCNN_3Blocks</strong> at: <a href='https://wandb.ai/emile-agbedanu-none/SimpleCNN%20Vs%20ResCNN/runs/2d52rqx3' target=\"_blank\">https://wandb.ai/emile-agbedanu-none/SimpleCNN%20Vs%20ResCNN/runs/2d52rqx3</a><br> View project at: <a href='https://wandb.ai/emile-agbedanu-none/SimpleCNN%20Vs%20ResCNN' target=\"_blank\">https://wandb.ai/emile-agbedanu-none/SimpleCNN%20Vs%20ResCNN</a><br>Synced 5 W&B file(s), 0 media file(s), 0 artifact file(s) and 0 other file(s)"
      ],
      "text/plain": [
       "<IPython.core.display.HTML object>"
      ]
     },
     "metadata": {},
     "output_type": "display_data"
    },
    {
     "data": {
      "text/html": [
       "Find logs at: <code>.\\wandb\\run-20250805_102720-2d52rqx3\\logs</code>"
      ],
      "text/plain": [
       "<IPython.core.display.HTML object>"
      ]
     },
     "metadata": {},
     "output_type": "display_data"
    },
    {
     "name": "stdout",
     "output_type": "stream",
     "text": [
      "\n",
      "=== Testing depth = 6 ===\n"
     ]
    },
    {
     "data": {
      "text/html": [
       "Tracking run with wandb version 0.19.8"
      ],
      "text/plain": [
       "<IPython.core.display.HTML object>"
      ]
     },
     "metadata": {},
     "output_type": "display_data"
    },
    {
     "data": {
      "text/html": [
       "Run data is saved locally in <code>c:\\UNIFI\\LM Bio UniFi\\II ANNO\\SECONDO SEMESTRE\\APPLI OF MACHINE LEARNING\\AML_Labs\\Exercise\\wandb\\run-20250805_105332-ht0kvux3</code>"
      ],
      "text/plain": [
       "<IPython.core.display.HTML object>"
      ]
     },
     "metadata": {},
     "output_type": "display_data"
    },
    {
     "data": {
      "text/html": [
       "Syncing run <strong><a href='https://wandb.ai/emile-agbedanu-none/SimpleCNN%20Vs%20ResCNN/runs/ht0kvux3' target=\"_blank\">SimpleCNN_6Layers</a></strong> to <a href='https://wandb.ai/emile-agbedanu-none/SimpleCNN%20Vs%20ResCNN' target=\"_blank\">Weights & Biases</a> (<a href='https://wandb.me/developer-guide' target=\"_blank\">docs</a>)<br>"
      ],
      "text/plain": [
       "<IPython.core.display.HTML object>"
      ]
     },
     "metadata": {},
     "output_type": "display_data"
    },
    {
     "data": {
      "text/html": [
       " View project at <a href='https://wandb.ai/emile-agbedanu-none/SimpleCNN%20Vs%20ResCNN' target=\"_blank\">https://wandb.ai/emile-agbedanu-none/SimpleCNN%20Vs%20ResCNN</a>"
      ],
      "text/plain": [
       "<IPython.core.display.HTML object>"
      ]
     },
     "metadata": {},
     "output_type": "display_data"
    },
    {
     "data": {
      "text/html": [
       " View run at <a href='https://wandb.ai/emile-agbedanu-none/SimpleCNN%20Vs%20ResCNN/runs/ht0kvux3' target=\"_blank\">https://wandb.ai/emile-agbedanu-none/SimpleCNN%20Vs%20ResCNN/runs/ht0kvux3</a>"
      ],
      "text/plain": [
       "<IPython.core.display.HTML object>"
      ]
     },
     "metadata": {},
     "output_type": "display_data"
    },
    {
     "name": "stdout",
     "output_type": "stream",
     "text": [
      "Epoch 1/30\n",
      "  Train_Loss: 1.6141 | Train_Acc: 0.3969\n",
      "  Val_Loss: 1.2392 | Val_Acc: 0.5500\n",
      "\n",
      "Epoch 2/30\n",
      "  Train_Loss: 1.0927 | Train_Acc: 0.6100\n",
      "  Val_Loss: 0.8920 | Val_Acc: 0.6890\n",
      "\n",
      "Epoch 3/30\n",
      "  Train_Loss: 0.8365 | Train_Acc: 0.7085\n",
      "  Val_Loss: 0.8616 | Val_Acc: 0.7062\n",
      "\n",
      "Epoch 4/30\n",
      "  Train_Loss: 0.6781 | Train_Acc: 0.7659\n",
      "  Val_Loss: 0.6529 | Val_Acc: 0.7770\n",
      "\n",
      "Epoch 5/30\n",
      "  Train_Loss: 0.5516 | Train_Acc: 0.8084\n",
      "  Val_Loss: 0.6422 | Val_Acc: 0.7830\n",
      "\n",
      "Epoch 6/30\n",
      "  Train_Loss: 0.4444 | Train_Acc: 0.8453\n",
      "  Val_Loss: 0.6655 | Val_Acc: 0.7800\n",
      "\n",
      "⚠️WARNING:Change in the trend of value  val_loss: best value= 0.6422 | current value= 0.6655\n",
      "Epoch 7/30\n",
      "  Train_Loss: 0.3593 | Train_Acc: 0.8751\n",
      "  Val_Loss: 0.6380 | Val_Acc: 0.7978\n",
      "\n",
      "Epoch 8/30\n",
      "  Train_Loss: 0.2908 | Train_Acc: 0.8982\n",
      "  Val_Loss: 0.6761 | Val_Acc: 0.8018\n",
      "\n",
      "⚠️WARNING:Change in the trend of value  val_loss: best value= 0.6380 | current value= 0.6761\n",
      "Epoch 9/30\n",
      "  Train_Loss: 0.2145 | Train_Acc: 0.9261\n",
      "  Val_Loss: 0.6809 | Val_Acc: 0.8082\n",
      "\n",
      "⚠️WARNING:Change in the trend of value  val_loss: best value= 0.6380 | current value= 0.6809\n",
      "Epoch 10/30\n",
      "  Train_Loss: 0.1825 | Train_Acc: 0.9372\n",
      "  Val_Loss: 0.7725 | Val_Acc: 0.8068\n",
      "\n",
      "⚠️WARNING:Change in the trend of value  val_loss: best value= 0.6380 | current value= 0.7725\n",
      "Epoch 11/30\n",
      "  Train_Loss: 0.1590 | Train_Acc: 0.9454\n",
      "  Val_Loss: 0.8454 | Val_Acc: 0.8034\n",
      "\n",
      "⚠️WARNING:Change in the trend of value  val_loss: best value= 0.6380 | current value= 0.8454\n",
      "Epoch 12/30\n",
      "  Train_Loss: 0.1251 | Train_Acc: 0.9558\n",
      "  Val_Loss: 0.8870 | Val_Acc: 0.8114\n",
      "\n",
      "⚠️WARNING:Change in the trend of value  val_loss: best value= 0.6380 | current value= 0.8870\n",
      "Epoch 13/30\n",
      "  Train_Loss: 0.1176 | Train_Acc: 0.9610\n",
      "  Val_Loss: 0.8998 | Val_Acc: 0.8120\n",
      "\n",
      "⚠️WARNING:Change in the trend of value  val_loss: best value= 0.6380 | current value= 0.8998\n",
      "Epoch 14/30\n",
      "  Train_Loss: 0.1060 | Train_Acc: 0.9643\n",
      "  Val_Loss: 0.9835 | Val_Acc: 0.8030\n",
      "\n",
      "⚠️WARNING:Change in the trend of value  val_loss: best value= 0.6380 | current value= 0.9835\n",
      "Epoch 15/30\n",
      "  Train_Loss: 0.0980 | Train_Acc: 0.9659\n",
      "  Val_Loss: 0.9524 | Val_Acc: 0.8074\n",
      "\n",
      "⚠️WARNING:Change in the trend of value  val_loss: best value= 0.6380 | current value= 0.9524\n",
      "🛑Early stopping due to high risk of OVERFITTING\n",
      "Epoch 15: val_loss is INCREASING for 8 epochs\n"
     ]
    },
    {
     "data": {
      "text/html": [],
      "text/plain": [
       "<IPython.core.display.HTML object>"
      ]
     },
     "metadata": {},
     "output_type": "display_data"
    },
    {
     "data": {
      "text/html": [
       "<br>    <style><br>        .wandb-row {<br>            display: flex;<br>            flex-direction: row;<br>            flex-wrap: wrap;<br>            justify-content: flex-start;<br>            width: 100%;<br>        }<br>        .wandb-col {<br>            display: flex;<br>            flex-direction: column;<br>            flex-basis: 100%;<br>            flex: 1;<br>            padding: 10px;<br>        }<br>    </style><br><div class=\"wandb-row\"><div class=\"wandb-col\"><h3>Run history:</h3><br/><table class=\"wandb\"><tr><td>epoch</td><td>▁▁▂▃▃▃▄▅▅▅▆▇▇▇█</td></tr><tr><td>train_acc</td><td>▁▄▅▆▆▇▇▇███████</td></tr><tr><td>train_loss</td><td>█▆▄▄▃▃▂▂▂▁▁▁▁▁▁</td></tr><tr><td>val_acc</td><td>▁▅▅▇▇▇█████████</td></tr><tr><td>val_loss</td><td>█▄▄▁▁▁▁▁▁▃▃▄▄▅▅</td></tr></table><br/></div><div class=\"wandb-col\"><h3>Run summary:</h3><br/><table class=\"wandb\"><tr><td>epoch</td><td>15</td></tr><tr><td>train_acc</td><td>0.96589</td></tr><tr><td>train_loss</td><td>0.09801</td></tr><tr><td>val_acc</td><td>0.8074</td></tr><tr><td>val_loss</td><td>0.95245</td></tr></table><br/></div></div>"
      ],
      "text/plain": [
       "<IPython.core.display.HTML object>"
      ]
     },
     "metadata": {},
     "output_type": "display_data"
    },
    {
     "data": {
      "text/html": [
       " View run <strong style=\"color:#cdcd00\">SimpleCNN_6Layers</strong> at: <a href='https://wandb.ai/emile-agbedanu-none/SimpleCNN%20Vs%20ResCNN/runs/ht0kvux3' target=\"_blank\">https://wandb.ai/emile-agbedanu-none/SimpleCNN%20Vs%20ResCNN/runs/ht0kvux3</a><br> View project at: <a href='https://wandb.ai/emile-agbedanu-none/SimpleCNN%20Vs%20ResCNN' target=\"_blank\">https://wandb.ai/emile-agbedanu-none/SimpleCNN%20Vs%20ResCNN</a><br>Synced 5 W&B file(s), 0 media file(s), 0 artifact file(s) and 0 other file(s)"
      ],
      "text/plain": [
       "<IPython.core.display.HTML object>"
      ]
     },
     "metadata": {},
     "output_type": "display_data"
    },
    {
     "data": {
      "text/html": [
       "Find logs at: <code>.\\wandb\\run-20250805_105332-ht0kvux3\\logs</code>"
      ],
      "text/plain": [
       "<IPython.core.display.HTML object>"
      ]
     },
     "metadata": {},
     "output_type": "display_data"
    },
    {
     "data": {
      "text/html": [
       "Tracking run with wandb version 0.19.8"
      ],
      "text/plain": [
       "<IPython.core.display.HTML object>"
      ]
     },
     "metadata": {},
     "output_type": "display_data"
    },
    {
     "data": {
      "text/html": [
       "Run data is saved locally in <code>c:\\UNIFI\\LM Bio UniFi\\II ANNO\\SECONDO SEMESTRE\\APPLI OF MACHINE LEARNING\\AML_Labs\\Exercise\\wandb\\run-20250805_110810-2dw0nydb</code>"
      ],
      "text/plain": [
       "<IPython.core.display.HTML object>"
      ]
     },
     "metadata": {},
     "output_type": "display_data"
    },
    {
     "data": {
      "text/html": [
       "Syncing run <strong><a href='https://wandb.ai/emile-agbedanu-none/SimpleCNN%20Vs%20ResCNN/runs/2dw0nydb' target=\"_blank\">ResidualCNN_6Blocks</a></strong> to <a href='https://wandb.ai/emile-agbedanu-none/SimpleCNN%20Vs%20ResCNN' target=\"_blank\">Weights & Biases</a> (<a href='https://wandb.me/developer-guide' target=\"_blank\">docs</a>)<br>"
      ],
      "text/plain": [
       "<IPython.core.display.HTML object>"
      ]
     },
     "metadata": {},
     "output_type": "display_data"
    },
    {
     "data": {
      "text/html": [
       " View project at <a href='https://wandb.ai/emile-agbedanu-none/SimpleCNN%20Vs%20ResCNN' target=\"_blank\">https://wandb.ai/emile-agbedanu-none/SimpleCNN%20Vs%20ResCNN</a>"
      ],
      "text/plain": [
       "<IPython.core.display.HTML object>"
      ]
     },
     "metadata": {},
     "output_type": "display_data"
    },
    {
     "data": {
      "text/html": [
       " View run at <a href='https://wandb.ai/emile-agbedanu-none/SimpleCNN%20Vs%20ResCNN/runs/2dw0nydb' target=\"_blank\">https://wandb.ai/emile-agbedanu-none/SimpleCNN%20Vs%20ResCNN/runs/2dw0nydb</a>"
      ],
      "text/plain": [
       "<IPython.core.display.HTML object>"
      ]
     },
     "metadata": {},
     "output_type": "display_data"
    },
    {
     "name": "stdout",
     "output_type": "stream",
     "text": [
      "Epoch 1/30\n",
      "  Train_Loss: 1.5973 | Train_Acc: 0.4086\n",
      "  Val_Loss: 1.4196 | Val_Acc: 0.4854\n",
      "\n",
      "Epoch 2/30\n",
      "  Train_Loss: 1.2333 | Train_Acc: 0.5537\n",
      "  Val_Loss: 1.1994 | Val_Acc: 0.5684\n",
      "\n",
      "Epoch 3/30\n",
      "  Train_Loss: 1.0717 | Train_Acc: 0.6143\n",
      "  Val_Loss: 1.0683 | Val_Acc: 0.6210\n",
      "\n",
      "Epoch 4/30\n",
      "  Train_Loss: 0.9706 | Train_Acc: 0.6548\n",
      "  Val_Loss: 0.9374 | Val_Acc: 0.6610\n",
      "\n",
      "Epoch 5/30\n",
      "  Train_Loss: 0.8819 | Train_Acc: 0.6878\n",
      "  Val_Loss: 1.7216 | Val_Acc: 0.4964\n",
      "\n",
      "⚠️WARNING:Change in the trend of value  val_loss: best value= 0.9374 | current value= 1.7216\n",
      "Epoch 6/30\n",
      "  Train_Loss: 0.8066 | Train_Acc: 0.7180\n",
      "  Val_Loss: 0.9211 | Val_Acc: 0.6628\n",
      "\n",
      "Epoch 7/30\n",
      "  Train_Loss: 0.7459 | Train_Acc: 0.7380\n",
      "  Val_Loss: 0.9328 | Val_Acc: 0.6790\n",
      "\n",
      "⚠️WARNING:Change in the trend of value  val_loss: best value= 0.9211 | current value= 0.9328\n",
      "Epoch 8/30\n",
      "  Train_Loss: 0.6864 | Train_Acc: 0.7632\n",
      "  Val_Loss: 0.7349 | Val_Acc: 0.7382\n",
      "\n",
      "Epoch 9/30\n",
      "  Train_Loss: 0.6303 | Train_Acc: 0.7843\n",
      "  Val_Loss: 0.8150 | Val_Acc: 0.7248\n",
      "\n",
      "⚠️WARNING:Change in the trend of value  val_loss: best value= 0.7349 | current value= 0.8150\n",
      "Epoch 10/30\n",
      "  Train_Loss: 0.5868 | Train_Acc: 0.8008\n",
      "  Val_Loss: 0.6841 | Val_Acc: 0.7654\n",
      "\n",
      "Epoch 11/30\n",
      "  Train_Loss: 0.5458 | Train_Acc: 0.8167\n",
      "  Val_Loss: 0.7067 | Val_Acc: 0.7576\n",
      "\n",
      "⚠️WARNING:Change in the trend of value  val_loss: best value= 0.6841 | current value= 0.7067\n",
      "Epoch 12/30\n",
      "  Train_Loss: 0.5137 | Train_Acc: 0.8238\n",
      "  Val_Loss: 0.6595 | Val_Acc: 0.7738\n",
      "\n",
      "Epoch 13/30\n",
      "  Train_Loss: 0.4785 | Train_Acc: 0.8357\n",
      "  Val_Loss: 0.5957 | Val_Acc: 0.7932\n",
      "\n",
      "Epoch 14/30\n",
      "  Train_Loss: 0.4470 | Train_Acc: 0.8475\n",
      "  Val_Loss: 0.5615 | Val_Acc: 0.8044\n",
      "\n",
      "Epoch 15/30\n",
      "  Train_Loss: 0.4194 | Train_Acc: 0.8577\n",
      "  Val_Loss: 0.5291 | Val_Acc: 0.8238\n",
      "\n",
      "Epoch 16/30\n",
      "  Train_Loss: 0.4024 | Train_Acc: 0.8632\n",
      "  Val_Loss: 0.6567 | Val_Acc: 0.7964\n",
      "\n",
      "⚠️WARNING:Change in the trend of value  val_loss: best value= 0.5291 | current value= 0.6567\n",
      "Epoch 17/30\n",
      "  Train_Loss: 0.3765 | Train_Acc: 0.8733\n",
      "  Val_Loss: 0.6794 | Val_Acc: 0.7792\n",
      "\n",
      "⚠️WARNING:Change in the trend of value  val_loss: best value= 0.5291 | current value= 0.6794\n",
      "Epoch 18/30\n",
      "  Train_Loss: 0.3594 | Train_Acc: 0.8755\n",
      "  Val_Loss: 0.5455 | Val_Acc: 0.8214\n",
      "\n",
      "⚠️WARNING:Change in the trend of value  val_loss: best value= 0.5291 | current value= 0.5455\n",
      "Epoch 19/30\n",
      "  Train_Loss: 0.3332 | Train_Acc: 0.8853\n",
      "  Val_Loss: 0.5305 | Val_Acc: 0.8266\n",
      "\n",
      "Epoch 20/30\n",
      "  Train_Loss: 0.3196 | Train_Acc: 0.8920\n",
      "  Val_Loss: 0.5258 | Val_Acc: 0.8236\n",
      "\n",
      "Epoch 21/30\n",
      "  Train_Loss: 0.3010 | Train_Acc: 0.8976\n",
      "  Val_Loss: 0.4671 | Val_Acc: 0.8456\n",
      "\n",
      "Epoch 22/30\n",
      "  Train_Loss: 0.2802 | Train_Acc: 0.9036\n",
      "  Val_Loss: 0.6857 | Val_Acc: 0.8160\n",
      "\n",
      "⚠️WARNING:Change in the trend of value  val_loss: best value= 0.4671 | current value= 0.6857\n",
      "Epoch 23/30\n",
      "  Train_Loss: 0.2707 | Train_Acc: 0.9074\n",
      "  Val_Loss: 0.5566 | Val_Acc: 0.8304\n",
      "\n",
      "⚠️WARNING:Change in the trend of value  val_loss: best value= 0.4671 | current value= 0.5566\n",
      "Epoch 24/30\n",
      "  Train_Loss: 0.2543 | Train_Acc: 0.9135\n",
      "  Val_Loss: 0.5508 | Val_Acc: 0.8300\n",
      "\n",
      "⚠️WARNING:Change in the trend of value  val_loss: best value= 0.4671 | current value= 0.5508\n",
      "Epoch 25/30\n",
      "  Train_Loss: 0.2403 | Train_Acc: 0.9189\n",
      "  Val_Loss: 0.6109 | Val_Acc: 0.8204\n",
      "\n",
      "⚠️WARNING:Change in the trend of value  val_loss: best value= 0.4671 | current value= 0.6109\n",
      "Epoch 26/30\n",
      "  Train_Loss: 0.2343 | Train_Acc: 0.9187\n",
      "  Val_Loss: 0.6167 | Val_Acc: 0.8288\n",
      "\n",
      "⚠️WARNING:Change in the trend of value  val_loss: best value= 0.4671 | current value= 0.6167\n",
      "Epoch 27/30\n",
      "  Train_Loss: 0.2136 | Train_Acc: 0.9260\n",
      "  Val_Loss: 0.9146 | Val_Acc: 0.7602\n",
      "\n",
      "⚠️WARNING:Change in the trend of value  val_loss: best value= 0.4671 | current value= 0.9146\n",
      "Epoch 28/30\n",
      "  Train_Loss: 0.2063 | Train_Acc: 0.9295\n",
      "  Val_Loss: 0.5257 | Val_Acc: 0.8438\n",
      "\n",
      "⚠️WARNING:Change in the trend of value  val_loss: best value= 0.4671 | current value= 0.5257\n",
      "Epoch 29/30\n",
      "  Train_Loss: 0.1996 | Train_Acc: 0.9326\n",
      "  Val_Loss: 0.5831 | Val_Acc: 0.8340\n",
      "\n",
      "⚠️WARNING:Change in the trend of value  val_loss: best value= 0.4671 | current value= 0.5831\n",
      "🛑Early stopping due to high risk of OVERFITTING\n",
      "Epoch 29: val_loss is INCREASING for 8 epochs\n"
     ]
    },
    {
     "data": {
      "text/html": [],
      "text/plain": [
       "<IPython.core.display.HTML object>"
      ]
     },
     "metadata": {},
     "output_type": "display_data"
    },
    {
     "data": {
      "text/html": [
       "<br>    <style><br>        .wandb-row {<br>            display: flex;<br>            flex-direction: row;<br>            flex-wrap: wrap;<br>            justify-content: flex-start;<br>            width: 100%;<br>        }<br>        .wandb-col {<br>            display: flex;<br>            flex-direction: column;<br>            flex-basis: 100%;<br>            flex: 1;<br>            padding: 10px;<br>        }<br>    </style><br><div class=\"wandb-row\"><div class=\"wandb-col\"><h3>Run history:</h3><br/><table class=\"wandb\"><tr><td>epoch</td><td>▁▁▁▂▂▂▃▃▃▃▃▄▄▄▅▅▅▅▅▆▆▆▇▇▇▇▇██</td></tr><tr><td>train_acc</td><td>▁▃▄▄▅▅▅▆▆▆▆▇▇▇▇▇▇▇▇▇█████████</td></tr><tr><td>train_loss</td><td>█▆▅▅▄▄▄▃▃▃▃▃▂▂▂▂▂▂▂▂▂▁▁▁▁▁▁▁▁</td></tr><tr><td>val_acc</td><td>▁▃▄▄▁▄▅▆▆▆▆▇▇▇█▇▇████▇████▆██</td></tr><tr><td>val_loss</td><td>▆▅▄▄█▄▄▂▃▂▂▂▂▂▁▂▂▁▁▁▁▂▁▁▂▂▃▁▂</td></tr></table><br/></div><div class=\"wandb-col\"><h3>Run summary:</h3><br/><table class=\"wandb\"><tr><td>epoch</td><td>29</td></tr><tr><td>train_acc</td><td>0.93258</td></tr><tr><td>train_loss</td><td>0.19962</td></tr><tr><td>val_acc</td><td>0.834</td></tr><tr><td>val_loss</td><td>0.58309</td></tr></table><br/></div></div>"
      ],
      "text/plain": [
       "<IPython.core.display.HTML object>"
      ]
     },
     "metadata": {},
     "output_type": "display_data"
    },
    {
     "data": {
      "text/html": [
       " View run <strong style=\"color:#cdcd00\">ResidualCNN_6Blocks</strong> at: <a href='https://wandb.ai/emile-agbedanu-none/SimpleCNN%20Vs%20ResCNN/runs/2dw0nydb' target=\"_blank\">https://wandb.ai/emile-agbedanu-none/SimpleCNN%20Vs%20ResCNN/runs/2dw0nydb</a><br> View project at: <a href='https://wandb.ai/emile-agbedanu-none/SimpleCNN%20Vs%20ResCNN' target=\"_blank\">https://wandb.ai/emile-agbedanu-none/SimpleCNN%20Vs%20ResCNN</a><br>Synced 5 W&B file(s), 0 media file(s), 0 artifact file(s) and 0 other file(s)"
      ],
      "text/plain": [
       "<IPython.core.display.HTML object>"
      ]
     },
     "metadata": {},
     "output_type": "display_data"
    },
    {
     "data": {
      "text/html": [
       "Find logs at: <code>.\\wandb\\run-20250805_110810-2dw0nydb\\logs</code>"
      ],
      "text/plain": [
       "<IPython.core.display.HTML object>"
      ]
     },
     "metadata": {},
     "output_type": "display_data"
    }
   ],
   "source": [
    "# # Depth values to test\n",
    "# depth_values = [2, 3, 6]\n",
    "# num_epochs = 30    \n",
    "\n",
    "# # List to store results\n",
    "# results = []\n",
    "\n",
    "# for depth in depth_values:\n",
    "#     print(f\"\\n=== Testing depth = {depth} ===\")\n",
    "\n",
    "#     # ----- Simple CNN -----\n",
    "#     cnn_model = VariableDepthCNN(\n",
    "#         num_layers=depth,\n",
    "#         num_classes=10,\n",
    "#         base_channels=32,\n",
    "#         dropout_rate=0.3,\n",
    "#         in_channels=3,\n",
    "#         padding=1\n",
    "#     ).to(device)\n",
    "\n",
    "#     cnn_optimizer = torch.optim.Adam(cnn_model.parameters(), lr=0.001)\n",
    "#     criterion = nn.CrossEntropyLoss()\n",
    "\n",
    "#     train_losses_cnn, val_losses_cnn, epochs_cnn = train_model(\n",
    "#         cnn_model,\n",
    "#         train_loader,\n",
    "#         val_loader,\n",
    "#         cnn_optimizer,\n",
    "#         criterion,\n",
    "#         num_epochs=30,\n",
    "#         device=device,\n",
    "#         patience=8,\n",
    "#         min_delta=0.001,\n",
    "#         delta_overfit=0.01,\n",
    "#         overfit_patience=8,\n",
    "#         wandb_project='SimpleCNN Vs ResCNN',\n",
    "#         wandb_run_name=f\"SimpleCNN_{depth}Layers\"\n",
    "#     )\n",
    "\n",
    "#     test_loss_cnn, test_acc_cnn, test_prec_cnn = evaluate(\n",
    "#         cnn_model, test_loader, criterion, device\n",
    "#     )\n",
    "\n",
    "#     results.append((\"SimpleCNN\", depth, epochs_cnn, test_loss_cnn, test_acc_cnn, test_prec_cnn))\n",
    "\n",
    "#     # ----- Residual CNN -----\n",
    "#     rescnn_model = VariableDepthResNet(\n",
    "#         num_blocks=depth,\n",
    "#         num_classes=10,\n",
    "#         base_channels=64,\n",
    "#         dropout_rate=0.3,\n",
    "#         in_channels=3,\n",
    "#         padding=1\n",
    "#     ).to(device)\n",
    "\n",
    "#     rescnn_optimizer = torch.optim.Adam(rescnn_model.parameters(), lr=0.001)\n",
    "\n",
    "#     train_losses_rescnn, val_losses_rescnn, epochs_rescnn = train_model(\n",
    "#         rescnn_model,\n",
    "#         train_loader,\n",
    "#         val_loader,\n",
    "#         rescnn_optimizer,\n",
    "#         criterion,\n",
    "#         num_epochs=30,\n",
    "#         device=device,\n",
    "#         patience=8,\n",
    "#         min_delta=0.001,\n",
    "#         delta_overfit=0.01,\n",
    "#         overfit_patience=8,\n",
    "#         wandb_project='SimpleCNN Vs ResCNN',\n",
    "#         wandb_run_name=f\"ResidualCNN_{depth}Blocks\"\n",
    "#     )\n",
    "\n",
    "#     test_loss_rescnn, test_acc_rescnn, test_prec_rescnn = evaluate(\n",
    "#         rescnn_model, test_loader, criterion, device\n",
    "#     )\n",
    "\n",
    "#     results.append((\"ResidualCNN\", depth, epochs_rescnn, test_loss_rescnn, test_acc_rescnn, test_prec_rescnn))\n"
   ]
  },
  {
   "cell_type": "markdown",
   "id": "3061db3b",
   "metadata": {},
   "source": [
    "<h3><span style=\"font-size:24px; font-weight:bold;\">SimpleCNN</span> <span style=\"font-size:36px; font-weight:bold;\">Vs</span> <span style=\"font-size:24px; font-weight:bold;\">ResidualCNN REPORT</span></h3>\n"
   ]
  },
  {
   "cell_type": "code",
   "execution_count": 20,
   "id": "a32ed2c8",
   "metadata": {},
   "outputs": [
    {
     "name": "stdout",
     "output_type": "stream",
     "text": [
      "------------------------------------------------------------------------------\n",
      "\n",
      "Comparison SimpleCNN vs ResidualCNN on TEST SET\n",
      "------------------------------------------------------------------------------\n",
      "|Model              | Depth  | Epochs  | Loss       | Accuracy   | Precision |\n",
      "------------------------------------------------------------------------------\n",
      "|SimpleCNN          | 2      | 13      | 1.4563     | 0.6789     | 0.6816    |\n",
      "|ResidualCNN        | 2      | 30      | 0.6779     | 0.7691     | 0.7880    |\n",
      "|SimpleCNN          | 3      | 12      | 1.2307     | 0.7414     | 0.7444    |\n",
      "|ResidualCNN        | 3      | 30      | 0.6206     | 0.8048     | 0.8158    |\n",
      "|SimpleCNN          | 6      | 15      | 0.9892     | 0.8111     | 0.8121    |\n",
      "|ResidualCNN        | 6      | 29      | 0.5847     | 0.8367     | 0.8450    |\n",
      "------------------------------------------------------------------------------\n"
     ]
    }
   ],
   "source": [
    "print(\"-\" * 78)\n",
    "print(\"\\nComparison SimpleCNN vs ResidualCNN on TEST SET\")\n",
    "print(\"-\" * 78)\n",
    "print(f\"|{'Model':<18} | {'Depth':<6} | {'Epochs':<7} | {'Loss':<10} | {'Accuracy':<10} | {'Precision':<10}|\")\n",
    "print(\"-\" * 78)\n",
    "\n",
    "for model_name, depth, epochs, loss, acc, prec in results:\n",
    "    print(f\"|{model_name:<18} | {depth:<6} | {epochs:<7} | {loss:<10.4f} | {acc:<10.4f} | {prec:<10.4f}|\")\n",
    "\n",
    "print(\"-\" * 78)"
   ]
  },
  {
   "cell_type": "markdown",
   "id": "ef4de2f2-abc5-4f98-9eaf-3497f734a022",
   "metadata": {},
   "source": [
    "-----\n",
    "## Exercise 2: Choose at Least One\n",
    "\n",
    "Below are **three** exercises that ask you to deepen your understanding of Deep Networks for visual recognition. You must choose **at least one** of the below for your final submission -- feel free to do **more**, but at least **ONE** you must submit. Each exercise is designed to require you to dig your hands **deep** into the guts of your models in order to do new and interesting things.\n",
    "\n",
    "**Note**: These exercises are designed to use your small, custom CNNs and small datasets. This is to keep training times reasonable. If you have a decent GPU, feel free to use pretrained ResNets and larger datasets (e.g. the [Imagenette](https://pytorch.org/vision/0.20/generated/torchvision.datasets.Imagenette.html#torchvision.datasets.Imagenette) dataset at 160px)."
   ]
  },
  {
   "cell_type": "markdown",
   "id": "07978e8e-9f2e-4949-9699-495af6cb6349",
   "metadata": {},
   "source": [
    "### Exercise 2.1: *Fine-tune* a pre-trained model\n",
    "Train one of your residual CNN models from Exercise 1.3 on CIFAR-10. Then:\n",
    "1. Use the pre-trained model as a **feature extractor** (i.e. to extract the feature activations of the layer input into the classifier) on CIFAR-100. Use a **classical** approach (e.g. Linear SVM, K-Nearest Neighbor, or Bayesian Generative Classifier) from scikit-learn to establish a **stable baseline** performance on CIFAR-100 using the features extracted using your CNN.\n",
    "2. Fine-tune your CNN on the CIFAR-100 training set and compare with your stable baseline. Experiment with different strategies:\n",
    "    - Unfreeze some of the earlier layers for fine-tuning.\n",
    "    - Test different optimizers (Adam, SGD, etc.).\n",
    "\n",
    "Each of these steps will require you to modify your model definition in some way. For 1, you will need to return the activations of the last fully-connected layer (or the global average pooling layer). For 2, you will need to replace the original, 10-class classifier with a new, randomly-initialized 100-class classifier."
   ]
  },
  {
   "cell_type": "markdown",
   "id": "fa7ecdf1",
   "metadata": {},
   "source": [
    "### **CIFAR-100 Data Loading**"
   ]
  },
  {
   "cell_type": "code",
   "execution_count": 10,
   "id": "469e81a3-08ca-4549-a2f8-f47cf5a0308b",
   "metadata": {
    "tags": []
   },
   "outputs": [
    {
     "name": "stdout",
     "output_type": "stream",
     "text": [
      "Files already downloaded and verified\n",
      "Files already downloaded and verified\n"
     ]
    }
   ],
   "source": [
    "\n",
    "batch_size = 128\n",
    "val_fraction = 0.1\n",
    "\n",
    "# Data transforms (same normalization stats as CIFAR-10)\n",
    "mean = (0.4914, 0.4822, 0.4465)\n",
    "std = (0.2023, 0.1994, 0.2010)\n",
    "\n",
    "def get_cifar100_loaders(batch_size=128, val_fraction=0.1, root='./data'):\n",
    "    transform_train = transforms.Compose([\n",
    "        transforms.RandomCrop(32, padding=4),\n",
    "        transforms.RandomHorizontalFlip(),\n",
    "        transforms.ToTensor(),\n",
    "        transforms.Normalize(mean, std)\n",
    "    ])\n",
    "\n",
    "    transform_test = transforms.Compose([\n",
    "        transforms.ToTensor(),\n",
    "        transforms.Normalize(mean, std)\n",
    "    ])\n",
    "\n",
    "    # Load full training set with train transforms\n",
    "    full_train_dataset = CIFAR100(root=root, train=True, download=True, transform=transform_train)\n",
    "    \n",
    "    # Compute lengths for train/val split\n",
    "    total_train = len(full_train_dataset)\n",
    "    val_size = int(total_train * val_fraction)\n",
    "    train_size = total_train - val_size\n",
    "    \n",
    "    # Split dataset\n",
    "    train_dataset, val_dataset = random_split(full_train_dataset, [train_size, val_size])\n",
    "    \n",
    "    # Override val transform to test transforms (no augmentation)\n",
    "    val_dataset.dataset.transform = transform_test\n",
    "    \n",
    "    # Load test dataset with test transforms\n",
    "    test_dataset = CIFAR100(root=root, train=False, download=True, transform=transform_test)\n",
    "    \n",
    "    # Create DataLoaders\n",
    "    train_loader = DataLoader(train_dataset, batch_size=batch_size, shuffle=True, num_workers=2, pin_memory=True)\n",
    "    val_loader = DataLoader(val_dataset, batch_size=batch_size, shuffle=False, num_workers=2, pin_memory=True)\n",
    "    test_loader = DataLoader(test_dataset, batch_size=batch_size, shuffle=False, num_workers=2, pin_memory=True)\n",
    "\n",
    "    return train_loader, val_loader, test_loader\n",
    "\n",
    "# Instantiate loaders\n",
    "train_loader_100, val_loader_100, test_loader_100 = get_cifar100_loaders(batch_size, val_fraction)\n"
   ]
  },
  {
   "cell_type": "markdown",
   "id": "eee73f99",
   "metadata": {},
   "source": [
    " ### **Load Pre-trained ResidualCNN and Freeze**"
   ]
  },
  {
   "cell_type": "code",
   "execution_count": 11,
   "id": "25cc3ce8",
   "metadata": {},
   "outputs": [
    {
     "name": "stderr",
     "output_type": "stream",
     "text": [
      "C:\\Users\\emile\\AppData\\Local\\Temp\\ipykernel_3384\\697541959.py:14: FutureWarning: You are using `torch.load` with `weights_only=False` (the current default value), which uses the default pickle module implicitly. It is possible to construct malicious pickle data which will execute arbitrary code during unpickling (See https://github.com/pytorch/pytorch/blob/main/SECURITY.md#untrusted-models for more details). In a future release, the default value for `weights_only` will be flipped to `True`. This limits the functions that could be executed during unpickling. Arbitrary objects will no longer be allowed to be loaded via this mode unless they are explicitly allowlisted by the user via `torch.serialization.add_safe_globals`. We recommend you start setting `weights_only=True` for any use case where you don't have full control of the loaded file. Please open an issue on GitHub for any issues related to this experimental feature.\n",
      "  ResCnn_model_100.load_state_dict(torch.load('best_model.pth'))\n"
     ]
    },
    {
     "data": {
      "text/plain": [
       "VariableDepthResNet(\n",
       "  (conv1): Conv2d(3, 32, kernel_size=(3, 3), stride=(1, 1), padding=(1, 1), bias=False)\n",
       "  (bn1): BatchNorm2d(32, eps=1e-05, momentum=0.1, affine=True, track_running_stats=True)\n",
       "  (relu): ReLU(inplace=True)\n",
       "  (res_blocks): Sequential(\n",
       "    (0): BasicBlock(\n",
       "      (conv1): Conv2d(32, 32, kernel_size=(3, 3), stride=(1, 1), padding=(1, 1), bias=False)\n",
       "      (bn1): BatchNorm2d(32, eps=1e-05, momentum=0.1, affine=True, track_running_stats=True)\n",
       "      (relu): ReLU(inplace=True)\n",
       "      (conv2): Conv2d(32, 32, kernel_size=(3, 3), stride=(1, 1), padding=(1, 1), bias=False)\n",
       "      (bn2): BatchNorm2d(32, eps=1e-05, momentum=0.1, affine=True, track_running_stats=True)\n",
       "    )\n",
       "    (1): BasicBlock(\n",
       "      (conv1): Conv2d(32, 32, kernel_size=(3, 3), stride=(1, 1), padding=(1, 1), bias=False)\n",
       "      (bn1): BatchNorm2d(32, eps=1e-05, momentum=0.1, affine=True, track_running_stats=True)\n",
       "      (relu): ReLU(inplace=True)\n",
       "      (conv2): Conv2d(32, 32, kernel_size=(3, 3), stride=(1, 1), padding=(1, 1), bias=False)\n",
       "      (bn2): BatchNorm2d(32, eps=1e-05, momentum=0.1, affine=True, track_running_stats=True)\n",
       "    )\n",
       "    (2): BasicBlock(\n",
       "      (conv1): Conv2d(32, 32, kernel_size=(3, 3), stride=(1, 1), padding=(1, 1), bias=False)\n",
       "      (bn1): BatchNorm2d(32, eps=1e-05, momentum=0.1, affine=True, track_running_stats=True)\n",
       "      (relu): ReLU(inplace=True)\n",
       "      (conv2): Conv2d(32, 32, kernel_size=(3, 3), stride=(1, 1), padding=(1, 1), bias=False)\n",
       "      (bn2): BatchNorm2d(32, eps=1e-05, momentum=0.1, affine=True, track_running_stats=True)\n",
       "    )\n",
       "    (3): BasicBlock(\n",
       "      (conv1): Conv2d(32, 32, kernel_size=(3, 3), stride=(1, 1), padding=(1, 1), bias=False)\n",
       "      (bn1): BatchNorm2d(32, eps=1e-05, momentum=0.1, affine=True, track_running_stats=True)\n",
       "      (relu): ReLU(inplace=True)\n",
       "      (conv2): Conv2d(32, 32, kernel_size=(3, 3), stride=(1, 1), padding=(1, 1), bias=False)\n",
       "      (bn2): BatchNorm2d(32, eps=1e-05, momentum=0.1, affine=True, track_running_stats=True)\n",
       "    )\n",
       "  )\n",
       "  (pool): AdaptiveAvgPool2d(output_size=(1, 1))\n",
       "  (dropout): Dropout(p=0.2, inplace=False)\n",
       "  (fc): Linear(in_features=32, out_features=10, bias=True)\n",
       ")"
      ]
     },
     "execution_count": 11,
     "metadata": {},
     "output_type": "execute_result"
    }
   ],
   "source": [
    "\n",
    "num_classes = 10         \n",
    "base_channels = 32       \n",
    "dropout_rate = 0.2\n",
    "in_channels = 3\n",
    "padding = 1  \n",
    "num_blocks=4  \n",
    "\n",
    "# Load the model from Exercise 1.3 (pre-trained on CIFAR-10)\n",
    "ResCnn_model_100 = VariableDepthResNet(\n",
    "    num_blocks, num_classes, base_channels, dropout_rate, in_channels, padding\n",
    ")\n",
    "\n",
    "# Load pre-trained weights\n",
    "ResCnn_model_100.load_state_dict(torch.load('best_model.pth'))\n",
    "\n",
    "# Freeze all layers\n",
    "for param in ResCnn_model_100.parameters():\n",
    "    param.requires_grad = False\n",
    "\n",
    "ResCnn_model_100.eval()\n"
   ]
  },
  {
   "cell_type": "markdown",
   "id": "e45e2160",
   "metadata": {},
   "source": [
    "### **Feature Extraction Function**"
   ]
  },
  {
   "cell_type": "code",
   "execution_count": 12,
   "id": "90db7d30",
   "metadata": {},
   "outputs": [],
   "source": [
    "def extract_features(model, data_loader, device):\n",
    "    model.to(device)\n",
    "    features_list = []\n",
    "    labels_list = []\n",
    "\n",
    "    # Hook to capture features before the final FC layer\n",
    "    def hook_fn(module, input, output):\n",
    "        features_list.append(output.detach().cpu().numpy())\n",
    "\n",
    "    # Register hook on the layer before classifier\n",
    "    handle = model.fc.register_forward_hook(lambda m, i, o: features_list.append(o.detach().cpu().numpy()))\n",
    "\n",
    "    all_features = []\n",
    "    all_labels = []\n",
    "\n",
    "    with torch.no_grad():\n",
    "        for inputs, labels in data_loader:\n",
    "            inputs = inputs.to(device)\n",
    "            outputs = model(inputs)  # forward pass\n",
    "            all_labels.extend(labels.cpu().numpy())\n",
    "\n",
    "    # Remove hook\n",
    "    handle.remove()\n",
    "\n",
    "    # Concatenate all feature batches\n",
    "    features_array = np.concatenate(features_list, axis=0)\n",
    "    labels_array = np.array(all_labels)\n",
    "    return features_array, labels_array\n"
   ]
  },
  {
   "cell_type": "markdown",
   "id": "78a71f2c",
   "metadata": {},
   "source": [
    "### **Baseline with classical SVM and KNN**"
   ]
  },
  {
   "cell_type": "code",
   "execution_count": 13,
   "id": "6d5c66e6",
   "metadata": {},
   "outputs": [
    {
     "name": "stdout",
     "output_type": "stream",
     "text": [
      "SVM baseline accuracy: 0.1695\n",
      "KNN baseline accuracy: 0.0999\n"
     ]
    }
   ],
   "source": [
    "device = torch.device(\"cuda\" if torch.cuda.is_available() else \"cpu\")\n",
    "\n",
    "# Extract features for train and test\n",
    "train_feats, train_labels = extract_features(ResCnn_model_100, train_loader_100, device)\n",
    "test_feats, test_labels = extract_features(ResCnn_model_100, test_loader_100, device)\n",
    "\n",
    "# Example 1: Linear SVM\n",
    "svm_clf = SVC(kernel='linear')\n",
    "svm_clf.fit(train_feats, train_labels)\n",
    "svm_acc = accuracy_score(test_labels, svm_clf.predict(test_feats))\n",
    "print(f\"SVM baseline accuracy: {svm_acc:.4f}\")\n",
    "\n",
    "# Example 2: KNN\n",
    "knn_clf = KNeighborsClassifier(n_neighbors=5)\n",
    "knn_clf.fit(train_feats, train_labels)\n",
    "knn_acc = accuracy_score(test_labels, knn_clf.predict(test_feats))\n",
    "print(f\"KNN baseline accuracy: {knn_acc:.4f}\")\n"
   ]
  },
  {
   "cell_type": "markdown",
   "id": "14a34057",
   "metadata": {},
   "source": [
    "### **Fine-tuning and traning**"
   ]
  },
  {
   "cell_type": "code",
   "execution_count": 14,
   "id": "f40d1834",
   "metadata": {},
   "outputs": [
    {
     "name": "stdout",
     "output_type": "stream",
     "text": [
      "Device: cuda\n"
     ]
    },
    {
     "data": {
      "text/html": [
       "Tracking run with wandb version 0.19.8"
      ],
      "text/plain": [
       "<IPython.core.display.HTML object>"
      ]
     },
     "metadata": {},
     "output_type": "display_data"
    },
    {
     "data": {
      "text/html": [
       "Run data is saved locally in <code>c:\\UNIFI\\LM Bio UniFi\\II ANNO\\SECONDO SEMESTRE\\APPLI OF MACHINE LEARNING\\AML_Labs\\Exercise_1\\wandb\\run-20250805_202832-mn0c8vkw</code>"
      ],
      "text/plain": [
       "<IPython.core.display.HTML object>"
      ]
     },
     "metadata": {},
     "output_type": "display_data"
    },
    {
     "data": {
      "text/html": [
       "Syncing run <strong><a href='https://wandb.ai/emile-agbedanu-none/Fine-tuning_model/runs/mn0c8vkw' target=\"_blank\">ResCNN_on_CIFAR100</a></strong> to <a href='https://wandb.ai/emile-agbedanu-none/Fine-tuning_model' target=\"_blank\">Weights & Biases</a> (<a href='https://wandb.me/developer-guide' target=\"_blank\">docs</a>)<br>"
      ],
      "text/plain": [
       "<IPython.core.display.HTML object>"
      ]
     },
     "metadata": {},
     "output_type": "display_data"
    },
    {
     "data": {
      "text/html": [
       " View project at <a href='https://wandb.ai/emile-agbedanu-none/Fine-tuning_model' target=\"_blank\">https://wandb.ai/emile-agbedanu-none/Fine-tuning_model</a>"
      ],
      "text/plain": [
       "<IPython.core.display.HTML object>"
      ]
     },
     "metadata": {},
     "output_type": "display_data"
    },
    {
     "data": {
      "text/html": [
       " View run at <a href='https://wandb.ai/emile-agbedanu-none/Fine-tuning_model/runs/mn0c8vkw' target=\"_blank\">https://wandb.ai/emile-agbedanu-none/Fine-tuning_model/runs/mn0c8vkw</a>"
      ],
      "text/plain": [
       "<IPython.core.display.HTML object>"
      ]
     },
     "metadata": {},
     "output_type": "display_data"
    },
    {
     "name": "stdout",
     "output_type": "stream",
     "text": [
      "Epoch 1/50\n",
      "  Train_Loss: 4.0012 | Train_Acc: 0.0804\n",
      "  Val_Loss: 3.4230 | Val_Acc: 0.1724\n",
      "\n",
      "Epoch 2/50\n",
      "  Train_Loss: 3.3271 | Train_Acc: 0.1604\n",
      "  Val_Loss: 3.0887 | Val_Acc: 0.2230\n",
      "\n",
      "Epoch 3/50\n",
      "  Train_Loss: 3.0919 | Train_Acc: 0.1995\n",
      "  Val_Loss: 3.0568 | Val_Acc: 0.2172\n",
      "\n",
      "Epoch 4/50\n",
      "  Train_Loss: 2.9518 | Train_Acc: 0.2304\n",
      "  Val_Loss: 2.8430 | Val_Acc: 0.2676\n",
      "\n",
      "Epoch 5/50\n",
      "  Train_Loss: 2.8624 | Train_Acc: 0.2486\n",
      "  Val_Loss: 2.7775 | Val_Acc: 0.2760\n",
      "\n",
      "Epoch 6/50\n",
      "  Train_Loss: 2.7913 | Train_Acc: 0.2652\n",
      "  Val_Loss: 2.7139 | Val_Acc: 0.2918\n",
      "\n",
      "Epoch 7/50\n",
      "  Train_Loss: 2.7372 | Train_Acc: 0.2725\n",
      "  Val_Loss: 2.7491 | Val_Acc: 0.2844\n",
      "\n",
      "⚠️WARNING:Change in the trend of value  val_loss: best value= 2.7139 | current value= 2.7491\n",
      "Epoch 8/50\n",
      "  Train_Loss: 2.6828 | Train_Acc: 0.2828\n",
      "  Val_Loss: 2.7953 | Val_Acc: 0.2858\n",
      "\n",
      "⚠️WARNING:Change in the trend of value  val_loss: best value= 2.7139 | current value= 2.7953\n",
      "Epoch 9/50\n",
      "  Train_Loss: 2.6413 | Train_Acc: 0.2936\n",
      "  Val_Loss: 2.7367 | Val_Acc: 0.3032\n",
      "\n",
      "⚠️WARNING:Change in the trend of value  val_loss: best value= 2.7139 | current value= 2.7367\n",
      "Epoch 10/50\n",
      "  Train_Loss: 2.6010 | Train_Acc: 0.3046\n",
      "  Val_Loss: 2.6475 | Val_Acc: 0.3098\n",
      "\n",
      "Epoch 11/50\n",
      "  Train_Loss: 2.5702 | Train_Acc: 0.3087\n",
      "  Val_Loss: 2.5677 | Val_Acc: 0.3218\n",
      "\n",
      "Epoch 12/50\n",
      "  Train_Loss: 2.5409 | Train_Acc: 0.3120\n",
      "  Val_Loss: 2.6394 | Val_Acc: 0.3196\n",
      "\n",
      "⚠️WARNING:Change in the trend of value  val_loss: best value= 2.5677 | current value= 2.6394\n",
      "Epoch 13/50\n",
      "  Train_Loss: 2.5146 | Train_Acc: 0.3248\n",
      "  Val_Loss: 2.4899 | Val_Acc: 0.3424\n",
      "\n",
      "Epoch 14/50\n",
      "  Train_Loss: 2.4908 | Train_Acc: 0.3236\n",
      "  Val_Loss: 2.5568 | Val_Acc: 0.3276\n",
      "\n",
      "⚠️WARNING:Change in the trend of value  val_loss: best value= 2.4899 | current value= 2.5568\n",
      "Epoch 15/50\n",
      "  Train_Loss: 2.4650 | Train_Acc: 0.3317\n",
      "  Val_Loss: 2.3952 | Val_Acc: 0.3598\n",
      "\n",
      "Epoch 16/50\n",
      "  Train_Loss: 2.4438 | Train_Acc: 0.3375\n",
      "  Val_Loss: 2.6239 | Val_Acc: 0.3182\n",
      "\n",
      "⚠️WARNING:Change in the trend of value  val_loss: best value= 2.3952 | current value= 2.6239\n",
      "Epoch 17/50\n",
      "  Train_Loss: 2.4224 | Train_Acc: 0.3413\n",
      "  Val_Loss: 2.4134 | Val_Acc: 0.3588\n",
      "\n",
      "⚠️WARNING:Change in the trend of value  val_loss: best value= 2.3952 | current value= 2.4134\n",
      "Epoch 18/50\n",
      "  Train_Loss: 2.4063 | Train_Acc: 0.3468\n",
      "  Val_Loss: 2.3885 | Val_Acc: 0.3608\n",
      "\n",
      "Epoch 19/50\n",
      "  Train_Loss: 2.3877 | Train_Acc: 0.3519\n",
      "  Val_Loss: 2.4343 | Val_Acc: 0.3566\n",
      "\n",
      "⚠️WARNING:Change in the trend of value  val_loss: best value= 2.3885 | current value= 2.4343\n",
      "Epoch 20/50\n",
      "  Train_Loss: 2.3644 | Train_Acc: 0.3545\n",
      "  Val_Loss: 2.4180 | Val_Acc: 0.3570\n",
      "\n",
      "⚠️WARNING:Change in the trend of value  val_loss: best value= 2.3885 | current value= 2.4180\n",
      "Epoch 21/50\n",
      "  Train_Loss: 2.3454 | Train_Acc: 0.3571\n",
      "  Val_Loss: 2.5884 | Val_Acc: 0.3354\n",
      "\n",
      "⚠️WARNING:Change in the trend of value  val_loss: best value= 2.3885 | current value= 2.5884\n",
      "Epoch 22/50\n",
      "  Train_Loss: 2.3296 | Train_Acc: 0.3642\n",
      "  Val_Loss: 2.4113 | Val_Acc: 0.3612\n",
      "\n",
      "⚠️WARNING:Change in the trend of value  val_loss: best value= 2.3885 | current value= 2.4113\n",
      "Epoch 23/50\n",
      "  Train_Loss: 2.3153 | Train_Acc: 0.3644\n",
      "  Val_Loss: 2.3554 | Val_Acc: 0.3764\n",
      "\n",
      "Epoch 24/50\n",
      "  Train_Loss: 2.2999 | Train_Acc: 0.3672\n",
      "  Val_Loss: 2.4078 | Val_Acc: 0.3636\n",
      "\n",
      "⚠️WARNING:Change in the trend of value  val_loss: best value= 2.3554 | current value= 2.4078\n",
      "Epoch 25/50\n",
      "  Train_Loss: 2.2771 | Train_Acc: 0.3723\n",
      "  Val_Loss: 2.3835 | Val_Acc: 0.3650\n",
      "\n",
      "⚠️WARNING:Change in the trend of value  val_loss: best value= 2.3554 | current value= 2.3835\n",
      "Epoch 26/50\n",
      "  Train_Loss: 2.2726 | Train_Acc: 0.3704\n",
      "  Val_Loss: 2.4240 | Val_Acc: 0.3524\n",
      "\n",
      "⚠️WARNING:Change in the trend of value  val_loss: best value= 2.3554 | current value= 2.4240\n",
      "Epoch 27/50\n",
      "  Train_Loss: 2.2666 | Train_Acc: 0.3765\n",
      "  Val_Loss: 2.3834 | Val_Acc: 0.3650\n",
      "\n",
      "⚠️WARNING:Change in the trend of value  val_loss: best value= 2.3554 | current value= 2.3834\n",
      "Epoch 28/50\n",
      "  Train_Loss: 2.2457 | Train_Acc: 0.3813\n",
      "  Val_Loss: 2.3062 | Val_Acc: 0.3808\n",
      "\n",
      "Epoch 29/50\n",
      "  Train_Loss: 2.2387 | Train_Acc: 0.3804\n",
      "  Val_Loss: 2.3223 | Val_Acc: 0.3830\n",
      "\n",
      "⚠️WARNING:Change in the trend of value  val_loss: best value= 2.3062 | current value= 2.3223\n",
      "Epoch 30/50\n",
      "  Train_Loss: 2.2299 | Train_Acc: 0.3830\n",
      "  Val_Loss: 2.3799 | Val_Acc: 0.3734\n",
      "\n",
      "⚠️WARNING:Change in the trend of value  val_loss: best value= 2.3062 | current value= 2.3799\n",
      "Epoch 31/50\n",
      "  Train_Loss: 2.2137 | Train_Acc: 0.3863\n",
      "  Val_Loss: 2.3442 | Val_Acc: 0.3720\n",
      "\n",
      "⚠️WARNING:Change in the trend of value  val_loss: best value= 2.3062 | current value= 2.3442\n",
      "Epoch 32/50\n",
      "  Train_Loss: 2.2130 | Train_Acc: 0.3886\n",
      "  Val_Loss: 2.5403 | Val_Acc: 0.3384\n",
      "\n",
      "⚠️WARNING:Change in the trend of value  val_loss: best value= 2.3062 | current value= 2.5403\n",
      "Epoch 33/50\n",
      "  Train_Loss: 2.1897 | Train_Acc: 0.3922\n",
      "  Val_Loss: 2.3190 | Val_Acc: 0.3824\n",
      "\n",
      "⚠️WARNING:Change in the trend of value  val_loss: best value= 2.3062 | current value= 2.3190\n",
      "🛑Early stopping due to high risk of OVERFITTING\n",
      "Epoch 33: val_loss is INCREASING for 5 epochs\n"
     ]
    },
    {
     "data": {
      "text/html": [],
      "text/plain": [
       "<IPython.core.display.HTML object>"
      ]
     },
     "metadata": {},
     "output_type": "display_data"
    },
    {
     "data": {
      "text/html": [
       "<br>    <style><br>        .wandb-row {<br>            display: flex;<br>            flex-direction: row;<br>            flex-wrap: wrap;<br>            justify-content: flex-start;<br>            width: 100%;<br>        }<br>        .wandb-col {<br>            display: flex;<br>            flex-direction: column;<br>            flex-basis: 100%;<br>            flex: 1;<br>            padding: 10px;<br>        }<br>    </style><br><div class=\"wandb-row\"><div class=\"wandb-col\"><h3>Run history:</h3><br/><table class=\"wandb\"><tr><td>epoch</td><td>▁▁▁▂▂▂▂▃▃▃▃▃▄▄▄▄▅▅▅▅▅▆▆▆▆▆▇▇▇▇███</td></tr><tr><td>train_acc</td><td>▁▃▄▄▅▅▅▆▆▆▆▆▆▆▇▇▇▇▇▇▇▇▇▇█████████</td></tr><tr><td>train_loss</td><td>█▅▄▄▄▃▃▃▃▃▂▂▂▂▂▂▂▂▂▂▂▂▁▁▁▁▁▁▁▁▁▁▁</td></tr><tr><td>val_acc</td><td>▁▃▂▄▄▅▅▅▅▆▆▆▇▆▇▆▇▇▇▇▆▇█▇▇▇▇████▇█</td></tr><tr><td>val_loss</td><td>█▆▆▄▄▄▄▄▄▃▃▃▂▃▂▃▂▂▂▂▃▂▁▂▁▂▁▁▁▁▁▂▁</td></tr></table><br/></div><div class=\"wandb-col\"><h3>Run summary:</h3><br/><table class=\"wandb\"><tr><td>epoch</td><td>33</td></tr><tr><td>train_acc</td><td>0.39218</td></tr><tr><td>train_loss</td><td>2.18969</td></tr><tr><td>val_acc</td><td>0.3824</td></tr><tr><td>val_loss</td><td>2.31901</td></tr></table><br/></div></div>"
      ],
      "text/plain": [
       "<IPython.core.display.HTML object>"
      ]
     },
     "metadata": {},
     "output_type": "display_data"
    },
    {
     "data": {
      "text/html": [
       " View run <strong style=\"color:#cdcd00\">ResCNN_on_CIFAR100</strong> at: <a href='https://wandb.ai/emile-agbedanu-none/Fine-tuning_model/runs/mn0c8vkw' target=\"_blank\">https://wandb.ai/emile-agbedanu-none/Fine-tuning_model/runs/mn0c8vkw</a><br> View project at: <a href='https://wandb.ai/emile-agbedanu-none/Fine-tuning_model' target=\"_blank\">https://wandb.ai/emile-agbedanu-none/Fine-tuning_model</a><br>Synced 5 W&B file(s), 0 media file(s), 0 artifact file(s) and 0 other file(s)"
      ],
      "text/plain": [
       "<IPython.core.display.HTML object>"
      ]
     },
     "metadata": {},
     "output_type": "display_data"
    },
    {
     "data": {
      "text/html": [
       "Find logs at: <code>.\\wandb\\run-20250805_202832-mn0c8vkw\\logs</code>"
      ],
      "text/plain": [
       "<IPython.core.display.HTML object>"
      ]
     },
     "metadata": {},
     "output_type": "display_data"
    }
   ],
   "source": [
    "device = torch.device(\"cuda\" if torch.cuda.is_available() else \"cpu\")\n",
    "\n",
    "# Modify classifier to output 100 classes\n",
    "ResCnn_model.fc = nn.Linear(ResCnn_model.fc.in_features, 100)\n",
    "\n",
    "# Unfreeze some earlier layers if desired (example: last residual block)\n",
    "for name, param in ResCnn_model.named_parameters():\n",
    "    if \"res_blocks\" in name or \"fc\" in name:\n",
    "        param.requires_grad = True\n",
    "\n",
    "ResCnn_model.to(device)\n",
    "\n",
    "optimizer = torch.optim.Adam(filter(lambda p: p.requires_grad, ResCnn_model.parameters()), lr=0.001)\n",
    "criterion = nn.CrossEntropyLoss()\n",
    "\n",
    "# Training Loop\n",
    "train_losses_ft, val_losses_ft, epochs_ft = train_model(\n",
    "    ResCnn_model,\n",
    "    train_loader_100,\n",
    "    val_loader_100,  \n",
    "    optimizer,\n",
    "    criterion,\n",
    "    num_epochs=50,\n",
    "    device=device,\n",
    "    patience=5,\n",
    "    min_delta=0.001,\n",
    "    delta_overfit=0.01,\n",
    "    overfit_patience=5,\n",
    "    wandb_project=\"Fine-tuning_model\", wandb_run_name=\"ResCNN_on_CIFAR100\"\n",
    ")\n"
   ]
  },
  {
   "cell_type": "markdown",
   "id": "2c13331d",
   "metadata": {},
   "source": [
    "### **Fine-tuned Evaluation**"
   ]
  },
  {
   "cell_type": "code",
   "execution_count": 15,
   "id": "2fd922db",
   "metadata": {},
   "outputs": [
    {
     "name": "stdout",
     "output_type": "stream",
     "text": [
      "Baseline SVM: 0.1695\n",
      "Baseline KNN: 0.0999\n",
      "Fine-tuned model accuracy: 0.3948\n"
     ]
    },
    {
     "data": {
      "image/png": "[encoded data removed]",
      "text/plain": [
       "<Figure size 600x400 with 1 Axes>"
      ]
     },
     "metadata": {},
     "output_type": "display_data"
    }
   ],
   "source": [
    "test_loss_ft, test_acc_ft, test_prec_ft = evaluate(\n",
    "    ResCnn_model,\n",
    "    test_loader_100,\n",
    "    criterion,\n",
    "    device\n",
    ")\n",
    "\n",
    "print(\"Baseline SVM:\", svm_acc)\n",
    "print(\"Baseline KNN:\", knn_acc)\n",
    "print(\"Fine-tuned model accuracy:\", test_acc_ft)\n",
    "\n",
    "\n",
    "# Comparison plot: KNN, SVM, Fine-tuned CNN\n",
    "model_names = [\"KNN (feature extractor)\", \"SVM (feature extractor)\", \"Fine-tuned CNN\"]\n",
    "accuracies = [knn_acc, svm_acc, test_acc_ft]\n",
    "\n",
    "plt.figure(figsize=(6, 4))\n",
    "plt.bar(model_names, accuracies, color=[\"gold\", \"darkorange\", \"mediumslateblue\"]) \n",
    "\n",
    "# Set y-axis limits between 0 and 1\n",
    "plt.ylim(0, 1)\n",
    "\n",
    "# Label for the y-axis\n",
    "plt.ylabel(\"Accuracy on CIFAR-100\")\n",
    "\n",
    "# Title of the plot\n",
    "plt.title(\"Comparison: Classical Classifiers vs Fine-Tuning\")\n",
    "\n",
    "# Show horizontal grid lines\n",
    "plt.grid(axis='y')\n",
    "\n",
    "# Display the plot\n",
    "plt.show()\n",
    "\n"
   ]
  }
 ],
 "metadata": {
  "kernelspec": {
   "display_name": "lab1_env",
   "language": "python",
   "name": "python3"
  },
  "language_info": {
   "codemirror_mode": {
    "name": "ipython",
    "version": 3
   },
   "file_extension": ".py",
   "mimetype": "text/x-python",
   "name": "python",
   "nbconvert_exporter": "python",
   "pygments_lexer": "ipython3",
   "version": "3.11.11"
  }
 },
 "nbformat": 4,
 "nbformat_minor": 5
}
