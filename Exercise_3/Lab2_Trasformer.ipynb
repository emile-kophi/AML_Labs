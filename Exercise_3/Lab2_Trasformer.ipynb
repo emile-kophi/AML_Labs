{
 "cells": [
  {
   "cell_type": "markdown",
   "id": "08e91cdb-4693-4632-b7aa-f37eec027131",
   "metadata": {},
   "source": [
    "## Working with Transformers in the HuggingFace Ecosystem\n",
    "\n",
    "In this laboratory exercise we will learn how to work with the HuggingFace ecosystem to adapt models to new tasks. As you will see, much of what is required is *investigation* into the inner-workings of the HuggingFace abstractions. With a little work, a little trial-and-error, it is fairly easy to get a working adaptation pipeline up and running."
   ]
  },
  {
   "cell_type": "markdown",
   "id": "7e556105-269f-43e3-8933-227269afb9ea",
   "metadata": {},
   "source": [
    "### Exercise 1: Sentiment Analysis (warm up)\n",
    "\n",
    "In this first exercise we will start from a pre-trained BERT transformer and build up a model able to perform text sentiment analysis. Transformers are complex beasts, so we will build up our pipeline in several explorative and incremental steps.\n",
    "\n",
    "#### Exercise 1.1: Dataset Splits and Pre-trained model\n",
    "There are a many sentiment analysis datasets, but we will use one of the smallest ones available: the [Cornell Rotten Tomatoes movie review dataset](cornell-movie-review-data/rotten_tomatoes), which consists of 5,331 positive and 5,331 negative processed sentences from the Rotten Tomatoes movie reviews.\n",
    "\n",
    "**Your first task**: Load the dataset and figure out what splits are available and how to get them. Spend some time exploring the dataset to see how it is organized. Note that we will be using the [HuggingFace Datasets](https://huggingface.co/docs/datasets/en/index) library for downloading, accessing, splitting, and batching data for training and evaluation."
   ]
  },
  {
   "cell_type": "markdown",
   "id": "e514482a",
   "metadata": {},
   "source": [
    "## **Import**"
   ]
  },
  {
   "cell_type": "code",
   "execution_count": null,
   "id": "04bf3cd2",
   "metadata": {},
   "outputs": [],
   "source": [
    "# Import standard libraries\n",
    "import numpy as np\n",
    "from sklearn.svm import SVC\n",
    "from sklearn.metrics import accuracy_score\n",
    "\n",
    "#import models\n",
    "from transformers import AutoTokenizer, AutoModel\n",
    "from transformers import pipeline\n",
    "\n",
    "# Import PyTorch\n",
    "import torch\n",
    "\n",
    "#import Datasets\n",
    "from datasets import load_dataset"
   ]
  },
  {
   "cell_type": "markdown",
   "id": "2f34a8c8",
   "metadata": {},
   "source": [
    "\n",
    "### ***Further settings***"
   ]
  },
  {
   "cell_type": "code",
   "execution_count": 2,
   "id": "9dfd1508",
   "metadata": {},
   "outputs": [
    {
     "data": {
      "text/plain": [
       "<torch._C.Generator at 0x2121ce5f5f0>"
      ]
     },
     "execution_count": 2,
     "metadata": {},
     "output_type": "execute_result"
    }
   ],
   "source": [
    "# Set device (GPU if available)\n",
    "device = torch.device(\"cuda\" if torch.cuda.is_available() else \"cpu\")\n",
    "\n",
    "# fix random seed for reproducibility\n",
    "torch.manual_seed(808)"
   ]
  },
  {
   "cell_type": "markdown",
   "id": "1bf8a04f",
   "metadata": {},
   "source": [
    "### **Load the dataset and split checking**"
   ]
  },
  {
   "cell_type": "code",
   "execution_count": 3,
   "id": "15819af4-e850-412b-ab67-61b9b98e3a90",
   "metadata": {},
   "outputs": [
    {
     "name": "stdout",
     "output_type": "stream",
     "text": [
      "Available splits: dict_keys(['train', 'validation', 'test'])\n",
      "Labels in the dataset: [0 1]\n",
      "train: 8530 examples\n",
      "validation: 1066 examples\n",
      "test: 1066 examples\n",
      "\n",
      "Examples from the training set:\n",
      "{'text': 'the rock is destined to be the 21st century\\'s new \" conan \" and that he\\'s going to make a splash even greater than arnold schwarzenegger , jean-claud van damme or steven segal .', 'label': 1}\n",
      "{'text': \"emerges as something rare , an issue movie that's so honest and keenly observed that it doesn't feel like one .\", 'label': 1}\n"
     ]
    }
   ],
   "source": [
    "\n",
    "# Load the dataset from HuggingFace\n",
    "dataset = load_dataset(\"rotten_tomatoes\")\n",
    "dataset_id = \"cornell-movie-review-data/rotten_tomatoes\"\n",
    "ds_train = load_dataset(dataset_id, split=\"train\")\n",
    "ds_test = load_dataset(dataset_id, split=\"test\")\n",
    "ds_validation = load_dataset(dataset_id, split=\"validation\")\n",
    "\n",
    "# available splits\n",
    "print(\"Available splits:\", dataset.keys())\n",
    "print(f\"Labels in the dataset: {np.unique(ds_train['label'])}\")\n",
    "\n",
    "\n",
    "for split_name, split_data in dataset.items():\n",
    "    print(f\"{split_name}: {len(split_data)} examples\")\n",
    "\n",
    "    # some rows from the training set\n",
    "print(\"\\nExamples from the training set:\")\n",
    "print(dataset[\"train\"][0])   # first example\n",
    "print(dataset[\"train\"][4])   # second example\n",
    "\n"
   ]
  },
  {
   "cell_type": "markdown",
   "id": "a27f50a0-0af4-4bdd-9a60-bab26f126c14",
   "metadata": {},
   "source": [
    "#### Exercise 1.2: A Pre-trained BERT and Tokenizer\n",
    "\n",
    "The model we will use is a *very* small BERT transformer called [Distilbert](https://huggingface.co/distilbert/distilbert-base-uncased) this model was trained (using self-supervised learning) on the same corpus as BERT but using the full BERT base model as a *teacher*.\n",
    "\n",
    "**Your next task**: Load the Distilbert model and corresponding tokenizer. Use the tokenizer on a few samples from the dataset and pass the tokens through the model to see what outputs are provided. I suggest you use the [`AutoModel`](https://huggingface.co/transformers/v3.0.2/model_doc/auto.html) class (and the `from_pretrained()` method) to load the model and `AutoTokenizer` to load the tokenizer)."
   ]
  },
  {
   "cell_type": "markdown",
   "id": "2ccc38f5",
   "metadata": {},
   "source": [
    "### ***DistilBERT***"
   ]
  },
  {
   "cell_type": "code",
   "execution_count": null,
   "id": "3eefc651-8551-44c2-8340-37d64660fc58",
   "metadata": {},
   "outputs": [
    {
     "name": "stdout",
     "output_type": "stream",
     "text": [
      "Sample text: steers turns in a snappy screenplay that curls at the edges ; it's so clever you want to hate it . but he somehow pulls it off .\n",
      "\n",
      "model output: odict_keys(['last_hidden_state'])\n",
      "\n",
      "Shape of last hidden states: torch.Size([1, 34, 768])\n",
      "Last hidden states for the sample:\n",
      "tensor([[[-0.1363, -0.0400,  0.0322,  ..., -0.1565,  0.5009,  0.2881],\n",
      "         [ 0.2580,  0.4807,  0.1554,  ...,  0.0087,  0.6204, -0.1539],\n",
      "         [-0.3299, -0.2383,  0.1396,  ..., -0.1244,  0.6183, -0.1483],\n",
      "         ...,\n",
      "         [ 0.0929, -0.4927,  0.1931,  ...,  0.0601,  0.1228, -0.1329],\n",
      "         [ 0.6391,  0.1454, -0.3272,  ..., -0.0744, -0.1469, -0.4849],\n",
      "         [-0.2033,  0.6055,  0.6094,  ..., -0.0866,  0.5897,  0.0293]]])\n"
     ]
    }
   ],
   "source": [
    "\n",
    "# Load the pre-trained DistilBERT tokenizer\n",
    "tokenizer = AutoTokenizer.from_pretrained(\"distilbert-base-uncased\")\n",
    "model = AutoModel.from_pretrained(\"distilbert-base-uncased\")\n",
    "\n",
    "# Take a single sample from the training set\n",
    "sample_text = ds_train[8][\"text\"]\n",
    "print(\"Sample text:\", sample_text)\n",
    "\n",
    "# Tokenize the sample\n",
    "inputs = tokenizer(sample_text, return_tensors=\"pt\", truncation=True, padding=True)\n",
    "\n",
    "# Forward pass without gradient calculation (faster, less memory)\n",
    "with torch.no_grad():\n",
    "    outputs = model(**inputs)\n",
    "\n",
    "print(f\"\\nmodel output: {outputs.keys()}\")\n",
    "\n",
    "# Extract the last hidden states\n",
    "last_hidden_states = outputs.last_hidden_state\n",
    "\n",
    "\n",
    "print(\"\\nShape of last hidden states:\", last_hidden_states.shape)\n",
    "print(\"Last hidden states for the sample:\")\n",
    "print(last_hidden_states)\n"
   ]
  },
  {
   "cell_type": "markdown",
   "id": "ec0f6fd4-b80b-466d-b4ff-9aac0492c062",
   "metadata": {},
   "source": [
    "#### Exercise 1.3: A Stable Baseline\n",
    "\n",
    "In this exercise I want you to:\n",
    "1. Use Distilbert as a *feature extractor* to extract representations of the text strings from the dataset splits;\n",
    "2. Train a classifier (your choice, by an SVM from Scikit-learn is an easy choice).\n",
    "3. Evaluate performance on the validation and test splits.\n",
    "\n",
    "These results are our *stable baseline* -- the **starting** point on which we will (hopefully) improve in the next exercise.\n",
    "\n",
    "**Hint**: There are a number of ways to implement the feature extractor, but probably the best is to use a [feature extraction `pipeline`](https://huggingface.co/tasks/feature-extraction). You will need to interpret the output of the pipeline and extract only the `[CLS]` token from the *last* transformer layer. *How can you figure out which output that is?*"
   ]
  },
  {
   "cell_type": "markdown",
   "id": "e313e616",
   "metadata": {},
   "source": [
    "### **Feature extraction with Distilbert and SVM (Linear) Training**"
   ]
  },
  {
   "cell_type": "markdown",
   "id": "2068b0a2",
   "metadata": {},
   "source": [
    "### *Checking CLS token position*"
   ]
  },
  {
   "cell_type": "code",
   "execution_count": 22,
   "id": "1ed16917",
   "metadata": {},
   "outputs": [
    {
     "name": "stdout",
     "output_type": "stream",
     "text": [
      "Tokens: ['[CLS]', 'welcome', 'to', 'florence', '!', '[SEP]']\n"
     ]
    }
   ],
   "source": [
    "text = \" welcome to Florence!\"\n",
    "encoding = tokenizer(text, return_tensors=\"pt\")\n",
    "tokens = tokenizer.convert_ids_to_tokens(encoding['input_ids'][0])\n",
    "\n",
    "print(\"Tokens:\", tokens)"
   ]
  },
  {
   "cell_type": "code",
   "execution_count": null,
   "id": "ebb961ab-aa24-4d5c-86a1-c9b4237b40fc",
   "metadata": {},
   "outputs": [
    {
     "name": "stderr",
     "output_type": "stream",
     "text": [
      "Device set to use cuda:0\n"
     ]
    }
   ],
   "source": [
    "# Initialize feature-extraction pipeline with DistilBERT\n",
    "feature_extractor = pipeline(\"feature-extraction\", model=model,tokenizer=tokenizer)\n",
    "\n",
    "def extract_cls_embeddings(texts):\n",
    "    \n",
    "    # Extract the CLS token embeddings for a batch of texts\n",
    "    features = feature_extractor(texts, truncation=True, padding=True)\n",
    "\n",
    "    # CLS token is always the first token\n",
    "    cls_embeddings = [f[0] for f in features] \n",
    "    return np.array(cls_embeddings)\n",
    "\n",
    "X_train = extract_cls_embeddings(list(ds_train[\"text\"]))\n",
    "y_train = np.array(ds_train[\"label\"])\n",
    "\n",
    "X_val = extract_cls_embeddings(list(ds_validation[\"text\"]))\n",
    "y_val = np.array(ds_validation[\"label\"])\n",
    "\n",
    "X_test = extract_cls_embeddings(list(ds_test[\"text\"]))\n",
    "y_test = np.array(ds_test[\"label\"])\n",
    "\n",
    "# Train an SVM classifier\n",
    "clf = SVC(kernel='linear') \n",
    "clf.fit(X_train, y_train)\n",
    "\n",
    "# Evaluate on validation and test sets\n",
    "val_preds = clf.predict(X_val)\n",
    "test_preds = clf.predict(X_test)\n",
    "\n",
    "val_acc = accuracy_score(y_val, val_preds)\n",
    "test_acc = accuracy_score(y_test, test_preds)\n",
    "\n",
    "print(f\"Validation accuracy: {val_acc:.4f}\")\n",
    "print(f\"Test accuracy: {test_acc:.4f}\")\n"
   ]
  },
  {
   "cell_type": "code",
   "execution_count": 25,
   "id": "530eb903",
   "metadata": {},
   "outputs": [
    {
     "name": "stderr",
     "output_type": "stream",
     "text": [
      "Device set to use cuda:0\n"
     ]
    },
    {
     "name": "stdout",
     "output_type": "stream",
     "text": [
      "Embedding 0 shape: (47, 768)\n",
      "Embedding 1 shape: (52, 768)\n",
      "Embedding 2 shape: (10, 768)\n",
      "Embedding 3 shape: (24, 768)\n",
      "Embedding 4 shape: (28, 768)\n",
      "Embedding 5 shape: (32, 768)\n",
      "Embedding 6 shape: (11, 768)\n",
      "Embedding 7 shape: (22, 768)\n",
      "Embedding 8 shape: (34, 768)\n",
      "Embedding 9 shape: (17, 768)\n",
      "Embedding 10 shape: (17, 768)\n",
      "Embedding 11 shape: (19, 768)\n",
      "Embedding 12 shape: (28, 768)\n",
      "Embedding 13 shape: (16, 768)\n",
      "Embedding 14 shape: (15, 768)\n",
      "Embedding 15 shape: (26, 768)\n",
      "Embedding 16 shape: (9, 768)\n",
      "Embedding 17 shape: (10, 768)\n",
      "Embedding 18 shape: (26, 768)\n",
      "Embedding 19 shape: (16, 768)\n",
      "Embedding 20 shape: (13, 768)\n",
      "Embedding 21 shape: (42, 768)\n",
      "Embedding 22 shape: (21, 768)\n",
      "Embedding 23 shape: (27, 768)\n",
      "Embedding 24 shape: (21, 768)\n",
      "Embedding 25 shape: (15, 768)\n",
      "Embedding 26 shape: (5, 768)\n",
      "Embedding 27 shape: (22, 768)\n",
      "Embedding 28 shape: (46, 768)\n",
      "Embedding 29 shape: (30, 768)\n",
      "Embedding 30 shape: (15, 768)\n",
      "Embedding 31 shape: (27, 768)\n",
      "Embedding 32 shape: (9, 768)\n",
      "Embedding 33 shape: (35, 768)\n",
      "Embedding 34 shape: (38, 768)\n",
      "Embedding 35 shape: (20, 768)\n",
      "Embedding 36 shape: (27, 768)\n",
      "Embedding 37 shape: (27, 768)\n",
      "Embedding 38 shape: (54, 768)\n",
      "Embedding 39 shape: (43, 768)\n",
      "Embedding 40 shape: (25, 768)\n",
      "Embedding 41 shape: (42, 768)\n",
      "Embedding 42 shape: (21, 768)\n",
      "Embedding 43 shape: (47, 768)\n",
      "Embedding 44 shape: (20, 768)\n",
      "Embedding 45 shape: (35, 768)\n",
      "Embedding 46 shape: (16, 768)\n",
      "Embedding 47 shape: (27, 768)\n",
      "Embedding 48 shape: (11, 768)\n",
      "Embedding 49 shape: (49, 768)\n",
      "Embedding 50 shape: (12, 768)\n",
      "Embedding 51 shape: (17, 768)\n",
      "Embedding 52 shape: (37, 768)\n",
      "Embedding 53 shape: (31, 768)\n",
      "Embedding 54 shape: (30, 768)\n",
      "Embedding 55 shape: (25, 768)\n",
      "Embedding 56 shape: (18, 768)\n",
      "Embedding 57 shape: (44, 768)\n",
      "Embedding 58 shape: (33, 768)\n",
      "Embedding 59 shape: (44, 768)\n"
     ]
    }
   ],
   "source": [
    "# Initialize feature-extraction pipeline with DistilBERT\n",
    "feature_extractor = pipeline(\"feature-extraction\", model=model, tokenizer=tokenizer)\n",
    "\n",
    "def extract_cls_embeddings(texts):\n",
    "    # Extract the CLS token embeddings for a batch of texts\n",
    "    features = feature_extractor(texts, truncation=True, padding=True)\n",
    "    # CLS token is always the first token\n",
    "    cls_embeddings = [f[0] for f in features]\n",
    "    return cls_embeddings  # return list of vectors, not np.array yet\n",
    "\n",
    "# Extract CLS embeddings on a sample batch, e.g. first 5 texts from training set\n",
    "sample_texts = list(ds_train[\"text\"])[:60]\n",
    "cls_embeddings = extract_cls_embeddings(sample_texts)\n",
    "\n",
    "for i, emb in enumerate(cls_embeddings):\n",
    "    print(f\"Embedding {i} shape: {np.array(emb).shape}\")\n"
   ]
  },
  {
   "cell_type": "markdown",
   "id": "37141d1b-935b-425c-804c-b9b487853791",
   "metadata": {},
   "source": [
    "-----\n",
    "### Exercise 2: Fine-tuning Distilbert"
   ]
  },
  {
   "cell_type": "markdown",
   "id": "b9a53f64-0238-42f2-bc20-86e51c77d2e5",
   "metadata": {},
   "source": [
    "In this exercise we will fine-tune the Distilbert model to (hopefully) improve sentiment analysis performance."
   ]
  },
  {
   "cell_type": "markdown",
   "id": "3392b1ed-597b-4a92-90fc-10eb11eac515",
   "metadata": {},
   "source": [
    "#### Exercise 2.1: Token Preprocessing\n",
    "\n",
    "The first thing we need to do is *tokenize* our dataset splits. Our current datasets return a dictionary with *strings*, but we want *input token ids* (i.e. the output of the tokenizer). This is easy enough to do my hand, but the HugginFace `Dataset` class provides convenient, efficient, and *lazy* methods. See the documentation for [`Dataset.map`](https://huggingface.co/docs/datasets/v3.5.0/en/package_reference/main_classes#datasets.Dataset.map).\n",
    "\n",
    "**Tip**: Verify that your new datasets are returning for every element: `text`, `label`, `intput_ids`, and `attention_mask`."
   ]
  },
  {
   "cell_type": "code",
   "execution_count": null,
   "id": "9e6e2a95-5b08-4f81-b824-59a0fb3404e5",
   "metadata": {},
   "outputs": [],
   "source": [
    "# Your code here."
   ]
  },
  {
   "cell_type": "markdown",
   "id": "62a80de2-83c9-4c12-af4e-34babe23ffd1",
   "metadata": {},
   "source": [
    "#### Exercise 2.2: Setting up the Model to be Fine-tuned\n",
    "\n",
    "In this exercise we need to prepare the base Distilbert model for fine-tuning for a *sequence classification task*. This means, at the very least, appending a new, randomly-initialized classification head connected to the `[CLS]` token of the last transformer layer. Luckily, HuggingFace already provides an `AutoModel` for just this type of instantiation: [`AutoModelForSequenceClassification`](https://huggingface.co/transformers/v3.0.2/model_doc/auto.html#automodelforsequenceclassification). You will want you instantiate one of these for fine-tuning."
   ]
  },
  {
   "cell_type": "code",
   "execution_count": 1,
   "id": "a6327d73-3b71-478a-9932-bb062a650c57",
   "metadata": {},
   "outputs": [],
   "source": [
    "# Your code here."
   ]
  },
  {
   "cell_type": "markdown",
   "id": "d109f7bd-955f-4fc4-bc3e-75bd99a17adf",
   "metadata": {},
   "source": [
    "#### Exercise 2.3: Fine-tuning Distilbert\n",
    "\n",
    "Finally. In this exercise you should use a HuggingFace [`Trainer`](https://huggingface.co/docs/transformers/main/en/trainer) to fine-tune your model on the Rotten Tomatoes training split. Setting up the trainer will involve (at least):\n",
    "\n",
    "\n",
    "1. Instantiating a [`DataCollatorWithPadding`](https://huggingface.co/docs/transformers/en/main_classes/data_collator) object which is what *actually* does your batch construction (by padding all sequences to the same length).\n",
    "2. Writing an *evaluation function* that will measure the classification accuracy. This function takes a single argument which is a tuple containing `(logits, labels)` which you should use to compute classification accuracy (and maybe other metrics like F1 score, precision, recall) and return a `dict` with these metrics.  \n",
    "3. Instantiating a [`TrainingArguments`](https://huggingface.co/docs/transformers/v4.51.1/en/main_classes/trainer#transformers.TrainingArguments) object using some reasonable defaults.\n",
    "4. Instantiating a `Trainer` object using your train and validation splits, you data collator, and function to compute performance metrics.\n",
    "5. Calling `trainer.train()`, waiting, waiting some more, and then calling `trainer.evaluate()` to see how it did.\n",
    "\n",
    "**Tip**: When prototyping this laboratory I discovered the HuggingFace [Evaluate library](https://huggingface.co/docs/evaluate/en/index) which provides evaluation metrics. However I found it to have insufferable layers of abstraction and getting actual metrics computed. I suggest just using the Scikit-learn metrics..."
   ]
  },
  {
   "cell_type": "code",
   "execution_count": 2,
   "id": "ab17178d-5028-47e3-af97-953e8de5aae4",
   "metadata": {},
   "outputs": [],
   "source": [
    "# Your code here."
   ]
  },
  {
   "cell_type": "markdown",
   "id": "fc8376de-8554-4a13-aac3-59257f3eb3fd",
   "metadata": {},
   "source": [
    "-----\n",
    "### Exercise 3: Choose at Least One\n"
   ]
  },
  {
   "cell_type": "markdown",
   "id": "9b55cf4d-e64b-47fc-b8d5-37288b72d90d",
   "metadata": {},
   "source": [
    "#### Exercise 3.1: Efficient Fine-tuning for Sentiment Analysis (easy)"
   ]
  },
  {
   "cell_type": "markdown",
   "id": "6f183856-1111-4fe9-81f1-691fe7c1b706",
   "metadata": {},
   "source": [
    "In Exercise 2 we fine-tuned the *entire* Distilbert model on Rotten Tomatoes. This is expensive, even for a small model. Find an *efficient* way to fine-tune Distilbert on the Rotten Tomatoes dataset (or some other dataset).\n",
    "\n",
    "**Hint**: You could check out the [HuggingFace PEFT library](https://huggingface.co/docs/peft/en/index) for some state-of-the-art approaches that should \"just work\". How else might you go about making fine-tuning more efficient without having to change your training pipeline from above?"
   ]
  },
  {
   "cell_type": "code",
   "execution_count": 3,
   "id": "6ea6bca5-9b36-424e-898c-52c0777eae5e",
   "metadata": {},
   "outputs": [],
   "source": [
    "# Your code here."
   ]
  },
  {
   "cell_type": "markdown",
   "id": "5eeca737-ee00-4d98-a3ae-f4d6eb3d264f",
   "metadata": {},
   "source": [
    "#### Exercise 3.2: Fine-tuning a CLIP Model (harder)\n",
    "\n",
    "Use a (small) CLIP model like [`openai/clip-vit-base-patch16`](https://huggingface.co/openai/clip-vit-base-patch16) and evaluate its zero-shot performance on a small image classification dataset like ImageNette or TinyImageNet. Fine-tune (using a parameter-efficient method!) the CLIP model to see how much improvement you can squeeze out of it.\n",
    "\n",
    "**Note**: There are several ways to adapt the CLIP model; you could fine-tune the image encoder, the text encoder, or both. Or, you could experiment with prompt learning.\n",
    "\n",
    "**Tip**: CLIP probably already works very well on ImageNet and ImageNet-like images. For extra fun, look for an image classification dataset with different image types (e.g. *sketches*)."
   ]
  },
  {
   "cell_type": "code",
   "execution_count": 4,
   "id": "00b59ec2-4fe6-44c6-ab0b-0069f486bbb5",
   "metadata": {},
   "outputs": [],
   "source": [
    "# Your code here."
   ]
  },
  {
   "cell_type": "markdown",
   "id": "fe42ed48-444d-47d4-bd8b-839a99e7996a",
   "metadata": {},
   "source": [
    "#### Exercise 3.3: Choose your Own Adventure"
   ]
  },
  {
   "cell_type": "markdown",
   "id": "196f9129-ef2e-45f7-9e8f-baa697ccd91e",
   "metadata": {},
   "source": [
    "There are a *ton* of interesting and fun models on the HuggingFace hub. Pick one that does something interesting and adapt it in some way to a new task. Or, combine two or more models into something more interesting or fun. The sky's the limit.\n",
    "\n",
    "**Note**: Reach out to me by email or on the Discord if you are unsure about anything."
   ]
  },
  {
   "cell_type": "code",
   "execution_count": 5,
   "id": "c150bd36-6535-4724-a06d-a61632d3132e",
   "metadata": {},
   "outputs": [],
   "source": [
    "# Your code here."
   ]
  }
 ],
 "metadata": {
  "kernelspec": {
   "display_name": "lab1_env",
   "language": "python",
   "name": "python3"
  },
  "language_info": {
   "codemirror_mode": {
    "name": "ipython",
    "version": 3
   },
   "file_extension": ".py",
   "mimetype": "text/x-python",
   "name": "python",
   "nbconvert_exporter": "python",
   "pygments_lexer": "ipython3",
   "version": "3.11.11"
  }
 },
 "nbformat": 4,
 "nbformat_minor": 5
}
