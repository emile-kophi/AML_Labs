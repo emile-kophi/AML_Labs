{
 "cells": [
  {
   "cell_type": "markdown",
   "id": "d97f7c5d-46f3-4cbd-80ad-f1e50cd65096",
   "metadata": {},
   "source": [
    "# Deep Learning Applications: Laboratory #1\n",
    "\n",
    "In this first laboratory we will work relatively simple architectures to get a feel for working with Deep Models. This notebook is designed to work with PyTorch, but as I said in the introductory lecture: please feel free to use and experiment with whatever tools you like.\n",
    "\n",
    "**Important Notes**:\n",
    "1. Be sure to **document** all of your decisions, as well as your intermediate and final results. Make sure your conclusions and analyses are clearly presented. Don't make us dig into your code or walls of printed results to try to draw conclusions from your code.\n",
    "2. If you use code from someone else (e.g. Github, Stack Overflow, ChatGPT, etc) you **must be transparent about it**. Document your sources and explain how you adapted any partial solutions to creat **your** solution.\n",
    "\n"
   ]
  },
  {
   "cell_type": "markdown",
   "id": "17ed8906-bd19-4b4f-8b79-4feae355ffd6",
   "metadata": {},
   "source": [
    "## Exercise 1: Warming Up\n",
    "In this series of exercises I want you to try to duplicate (on a small scale) the results of the ResNet paper:\n",
    "\n",
    "> [Deep Residual Learning for Image Recognition](https://arxiv.org/abs/1512.03385), Kaiming He, Xiangyu Zhang, Shaoqing Ren, Jian Sun, CVPR 2016.\n",
    "\n",
    "We will do this in steps using a Multilayer Perceptron on MNIST.\n",
    "\n",
    "Recall that the main message of the ResNet paper is that **deeper** networks do not **guarantee** more reduction in training loss (or in validation accuracy). Below you will incrementally build a sequence of experiments to verify this for an MLP. A few guidelines:\n",
    "\n",
    "+ I have provided some **starter** code at the beginning. **NONE** of this code should survive in your solutions. Not only is it **very** badly written, it is also written in my functional style that also obfuscates what it's doing (in part to **discourage** your reuse!). It's just to get you *started*.\n",
    "+ These exercises ask you to compare **multiple** training runs, so it is **really** important that you factor this into your **pipeline**. Using [Tensorboard](https://pytorch.org/tutorials/recipes/recipes/tensorboard_with_pytorch.html) is a **very** good idea -- or, even better [Weights and Biases](https://wandb.ai/site).\n",
    "+ You may work and submit your solutions in **groups of at most two**. Share your ideas with everyone, but the solutions you submit *must be your own*.\n",
    "\n",
    "First some boilerplate to get you started, then on to the actual exercises!"
   ]
  },
  {
   "cell_type": "markdown",
   "id": "edb2b6d1-3df0-464c-9a5f-8c611257a971",
   "metadata": {},
   "source": [
    "### Preface: Some code to get you started\n",
    "\n",
    "What follows is some **very simple** code for training an MLP on MNIST. The point of this code is to get you up and running (and to verify that your Python environment has all needed dependencies).\n",
    "\n",
    "**Note**: As you read through my code and execute it, this would be a good time to think about *abstracting* **your** model definition, and training and evaluation pipelines in order to make it easier to compare performance of different models."
   ]
  },
  {
   "cell_type": "markdown",
   "id": "e9b98e27",
   "metadata": {},
   "source": [
    "#### **Import**"
   ]
  },
  {
   "cell_type": "code",
   "execution_count": 1,
   "id": "ab3a8282-2322-4dca-b76e-2f3863bc75fb",
   "metadata": {
    "tags": []
   },
   "outputs": [],
   "source": [
    "# Import standard libraries\n",
    "import numpy as np\n",
    "import matplotlib.pyplot as plt\n",
    "from functools import reduce\n",
    "import wandb\n",
    "from sklearn.metrics import accuracy_score\n",
    "import matplotlib.pyplot as plt\n",
    "\n",
    "\n",
    "# Import PyTorch and Torchvion\n",
    "import torch\n",
    "from torchvision.datasets import MNIST\n",
    "from torch.utils.data import DataLoader, random_split\n",
    "import torch.nn as nn\n",
    "import torch.nn.functional as F\n",
    "import torchvision.transforms as transforms"
   ]
  },
  {
   "cell_type": "markdown",
   "id": "2f821098",
   "metadata": {},
   "source": [
    "\n",
    "### ***Further settings***"
   ]
  },
  {
   "cell_type": "code",
   "execution_count": 2,
   "id": "555086a9",
   "metadata": {},
   "outputs": [
    {
     "data": {
      "text/plain": [
       "<torch._C.Generator at 0x29d5a353e30>"
      ]
     },
     "execution_count": 2,
     "metadata": {},
     "output_type": "execute_result"
    }
   ],
   "source": [
    "# Set device (GPU if available)\n",
    "device = torch.device(\"cuda\" if torch.cuda.is_available() else \"cpu\")\n",
    "\n",
    "# fix random seed for reproducibility\n",
    "torch.manual_seed(42)"
   ]
  },
  {
   "cell_type": "markdown",
   "id": "875008c3-306c-4e39-a845-d7bda7862621",
   "metadata": {},
   "source": [
    "#### A basic, parameterized MLP\n",
    "\n",
    "This is a very basic implementation of a Multilayer Perceptron. Don't waste too much time trying to figure out how it works -- the important detail is that it allows you to pass in a list of input, hidden layer, and output *widths*. **Your** implementation should also support this for the exercises to come."
   ]
  },
  {
   "cell_type": "markdown",
   "id": "de2cad13-ee2c-4e43-b5c7-31760da8c2df",
   "metadata": {},
   "source": [
    "### Exercise 1.1: A baseline MLP\n",
    "\n",
    "Implement a *simple* Multilayer Perceptron to classify the 10 digits of MNIST (e.g. two *narrow* layers). Use my code above as inspiration, but implement your own training pipeline -- you will need it later. Train this model to convergence, monitoring (at least) the loss and accuracy on the training and validation sets for every epoch. Below I include a basic implementation to get you started -- remember that you should write your *own* pipeline!\n",
    "\n",
    "**Note**: This would be a good time to think about *abstracting* your model definition, and training and evaluation pipelines in order to make it easier to compare performance of different models.\n",
    "\n",
    "**Important**: Given the *many* runs you will need to do, and the need to *compare* performance between them, this would **also** be a great point to study how **Tensorboard** or **Weights and Biases** can be used for performance monitoring."
   ]
  },
  {
   "cell_type": "markdown",
   "id": "d4eb421a",
   "metadata": {},
   "source": [
    "###  **Model architecure**"
   ]
  },
  {
   "cell_type": "code",
   "execution_count": 3,
   "id": "ce58203c",
   "metadata": {},
   "outputs": [],
   "source": [
    "class MLP(nn.Module):\n",
    "    def __init__(self):\n",
    "        super().__init__()\n",
    "        self.fc1 = nn.Linear(28*28, 128)\n",
    "         # Dropout 20%\n",
    "        self.dropout = nn.Dropout(p=0.2)  \n",
    "        self.fc2 = nn.Linear(128, 64)\n",
    "        self.out = nn.Linear(64, 10)\n",
    "\n",
    "    def forward(self, x):\n",
    "        x = x.view(x.size(0), -1)  # Flatten\n",
    "        x = F.relu(self.fc1(x))\n",
    "        x = self.dropout(x)          \n",
    "        x = F.relu(self.fc2(x))\n",
    "        x = self.dropout(x)          \n",
    "        return self.out(x)\n"
   ]
  },
  {
   "cell_type": "markdown",
   "id": "157a67f6",
   "metadata": {},
   "source": [
    "#### **Data preparation**"
   ]
  },
  {
   "cell_type": "code",
   "execution_count": 4,
   "id": "8bac6d93",
   "metadata": {},
   "outputs": [
    {
     "name": "stderr",
     "output_type": "stream",
     "text": [
      "wandb: Using wandb-core as the SDK backend.  Please refer to https://wandb.me/wandb-core for more information.\n",
      "wandb: Currently logged in as: emile-agbedanu (emile-agbedanu-none) to https://api.wandb.ai. Use `wandb login --relogin` to force relogin\n"
     ]
    },
    {
     "data": {
      "text/html": [
       "creating run (0.3s)"
      ],
      "text/plain": [
       "<IPython.core.display.HTML object>"
      ]
     },
     "metadata": {},
     "output_type": "display_data"
    },
    {
     "data": {
      "text/html": [
       "Tracking run with wandb version 0.19.8"
      ],
      "text/plain": [
       "<IPython.core.display.HTML object>"
      ]
     },
     "metadata": {},
     "output_type": "display_data"
    },
    {
     "data": {
      "text/html": [
       "Run data is saved locally in <code>c:\\UNIFI\\LM Bio UniFi\\II ANNO\\SECONDO SEMESTRE\\APPLI OF MACHINE LEARNING\\AML_Labs\\Exercise\\wandb\\run-20250801_181314-c6ecl9pf</code>"
      ],
      "text/plain": [
       "<IPython.core.display.HTML object>"
      ]
     },
     "metadata": {},
     "output_type": "display_data"
    },
    {
     "data": {
      "text/html": [
       "Syncing run <strong><a href='https://wandb.ai/emile-agbedanu-none/AML_Lab1/runs/c6ecl9pf' target=\"_blank\">MNIST_2lp</a></strong> to <a href='https://wandb.ai/emile-agbedanu-none/AML_Lab1' target=\"_blank\">Weights & Biases</a> (<a href='https://wandb.me/developer-guide' target=\"_blank\">docs</a>)<br>"
      ],
      "text/plain": [
       "<IPython.core.display.HTML object>"
      ]
     },
     "metadata": {},
     "output_type": "display_data"
    },
    {
     "data": {
      "text/html": [
       " View project at <a href='https://wandb.ai/emile-agbedanu-none/AML_Lab1' target=\"_blank\">https://wandb.ai/emile-agbedanu-none/AML_Lab1</a>"
      ],
      "text/plain": [
       "<IPython.core.display.HTML object>"
      ]
     },
     "metadata": {},
     "output_type": "display_data"
    },
    {
     "data": {
      "text/html": [
       " View run at <a href='https://wandb.ai/emile-agbedanu-none/AML_Lab1/runs/c6ecl9pf' target=\"_blank\">https://wandb.ai/emile-agbedanu-none/AML_Lab1/runs/c6ecl9pf</a>"
      ],
      "text/plain": [
       "<IPython.core.display.HTML object>"
      ]
     },
     "metadata": {},
     "output_type": "display_data"
    }
   ],
   "source": [
    "#  wandb initialization\n",
    "wandb.init(project=\"AML_Lab1\", name=\"MNIST_2lp\")\n",
    "\n",
    "# Training hyperparameters\n",
    "batch_size = 128\n",
    "val_fraction=0.1\n",
    "\n",
    "# Load the MNIST dataset with standard normalization, and split the training set into training and validation subsets\n",
    "def load_mnist_datasets(data_dir='./data', val_fraction=val_fraction, download=True):\n",
    "    transform = transforms.Compose([\n",
    "        transforms.ToTensor(),\n",
    "        transforms.Normalize((0.1307,), (0.3081,))\n",
    "    ])\n",
    "\n",
    "    full_dataset = MNIST(root=data_dir, train=True, download=download, transform=transform)\n",
    "    test = MNIST(root=data_dir, train=False, download=download, transform=transform)\n",
    "\n",
    "    total_train = len(full_dataset)\n",
    "    val_size = int(total_train * val_fraction)\n",
    "    train_size = total_train - val_size\n",
    "\n",
    "    train, val = torch.utils.data.random_split(full_dataset, [train_size, val_size]) \n",
    "    # Create DataLoaders\n",
    "    train_loader = DataLoader(train, batch_size=batch_size, shuffle=True)\n",
    "    val_loader = DataLoader(val, batch_size=batch_size, shuffle=False)\n",
    "    test_loader = DataLoader(test, batch_size=batch_size, shuffle=False)\n",
    "    return train_loader, val_loader, test_loader\n",
    "train_loader, val_loader, test_loader = load_mnist_datasets()\n"
   ]
  },
  {
   "cell_type": "markdown",
   "id": "44222001",
   "metadata": {},
   "source": [
    "### **Traning configuration**"
   ]
  },
  {
   "cell_type": "code",
   "execution_count": 5,
   "id": "6ca369d2",
   "metadata": {},
   "outputs": [],
   "source": [
    "# Training hyperparameters\n",
    "learning_rate = 1e-3\n",
    "num_epochs = 50\n",
    "\n",
    "# train a model (single epoch) function\n",
    "def train_one_epoch(model, dataloader, optimizer, criterion):\n",
    "    model.train()\n",
    "    running_loss = 0\n",
    "    correct = 0\n",
    "    total = 0\n",
    "\n",
    "    for inputs, targets in dataloader:\n",
    "        inputs, targets = inputs.to(device), targets.to(device)\n",
    "        optimizer.zero_grad()\n",
    "        outputs = model(inputs)\n",
    "        loss = criterion(outputs, targets)\n",
    "        loss.backward()\n",
    "        optimizer.step()\n",
    "\n",
    "        running_loss += loss.item() * inputs.size(0)\n",
    "        preds = outputs.argmax(dim=1)\n",
    "        correct += (preds == targets).sum().item()\n",
    "        total += targets.size(0)\n",
    "\n",
    "    epoch_loss = running_loss / total\n",
    "    epoch_acc = correct / total\n",
    "    return epoch_loss, epoch_acc\n",
    "\n",
    "# Evaluation model Function \n",
    "def evaluate(model, dataloader, criterion):\n",
    "    model.eval()\n",
    "    running_loss = 0\n",
    "    total = 0\n",
    "# saving model prediction for calculate accuracy\n",
    "    all_preds = []\n",
    "    all_targets = []\n",
    "\n",
    "    with torch.no_grad():\n",
    "        for inputs, targets in dataloader:\n",
    "            inputs, targets = inputs.to(device), targets.to(device)\n",
    "            outputs = model(inputs)\n",
    "            loss = criterion(outputs, targets)\n",
    "\n",
    "            running_loss += loss.item() * inputs.size(0)\n",
    "            total += targets.size(0)\n",
    "\n",
    "            preds = outputs.argmax(dim=1)\n",
    "            all_preds.append(preds.cpu())\n",
    "            all_targets.append(targets.cpu())\n",
    "\n",
    "    epoch_loss = running_loss / total\n",
    "    all_preds = torch.cat(all_preds)\n",
    "    all_targets = torch.cat(all_targets)\n",
    "    epoch_acc = accuracy_score(all_targets, all_preds)\n",
    "\n",
    "    return epoch_loss, epoch_acc\n",
    "\n"
   ]
  },
  {
   "cell_type": "markdown",
   "id": "b4512abe",
   "metadata": {},
   "source": [
    "## ***Model Traning*** "
   ]
  },
  {
   "cell_type": "code",
   "execution_count": null,
   "id": "1625bc2f",
   "metadata": {},
   "outputs": [
    {
     "name": "stdout",
     "output_type": "stream",
     "text": [
      "Epoch 1/50\n",
      "  Train_Loss: 0.4148 | Train_Acc: 0.8744\n",
      "  Val_Loss: 0.1948 | Val_Acc: 0.9415\n",
      "Epoch 2/50\n",
      "  Train_Loss: 0.1941 | Train_Acc: 0.9419\n",
      "  Val_Loss: 0.1376 | Val_Acc: 0.9600\n",
      "Epoch 3/50\n",
      "  Train_Loss: 0.1473 | Train_Acc: 0.9557\n",
      "  Val_Loss: 0.1211 | Val_Acc: 0.9652\n",
      "Epoch 4/50\n",
      "  Train_Loss: 0.1214 | Train_Acc: 0.9635\n",
      "  Val_Loss: 0.1045 | Val_Acc: 0.9683\n",
      "Epoch 5/50\n",
      "  Train_Loss: 0.1074 | Train_Acc: 0.9666\n",
      "  Val_Loss: 0.0902 | Val_Acc: 0.9725\n",
      "Epoch 6/50\n",
      "  Train_Loss: 0.0928 | Train_Acc: 0.9701\n",
      "  Val_Loss: 0.0962 | Val_Acc: 0.9712\n",
      "Epoch 7/50\n",
      "  Train_Loss: 0.0854 | Train_Acc: 0.9728\n",
      "  Val_Loss: 0.0961 | Val_Acc: 0.9728\n",
      "  Δ(val_loss) = 0.000188 < min_delta = 0.001 for 1 consecutive epoch(s)\n",
      "Epoch 8/50\n",
      "  Train_Loss: 0.0785 | Train_Acc: 0.9760\n",
      "  Val_Loss: 0.0820 | Val_Acc: 0.9757\n",
      "Epoch 9/50\n",
      "  Train_Loss: 0.0740 | Train_Acc: 0.9767\n",
      "  Val_Loss: 0.0911 | Val_Acc: 0.9743\n",
      "Epoch 10/50\n",
      "  Train_Loss: 0.0709 | Train_Acc: 0.9773\n",
      "  Val_Loss: 0.0815 | Val_Acc: 0.9757\n",
      "Epoch 11/50\n",
      "  Train_Loss: 0.0625 | Train_Acc: 0.9800\n",
      "  Val_Loss: 0.0867 | Val_Acc: 0.9765\n",
      "Epoch 12/50\n",
      "  Train_Loss: 0.0646 | Train_Acc: 0.9791\n",
      "  Val_Loss: 0.0837 | Val_Acc: 0.9763\n",
      "Epoch 13/50\n",
      "  Train_Loss: 0.0578 | Train_Acc: 0.9812\n",
      "  Val_Loss: 0.0876 | Val_Acc: 0.9770\n",
      "Epoch 14/50\n",
      "  Train_Loss: 0.0556 | Train_Acc: 0.9817\n",
      "  Val_Loss: 0.0858 | Val_Acc: 0.9785\n",
      "Epoch 15/50\n",
      "  Train_Loss: 0.0520 | Train_Acc: 0.9832\n",
      "  Val_Loss: 0.0856 | Val_Acc: 0.9783\n",
      "  Δ(val_loss) = 0.000205 < min_delta = 0.001 for 1 consecutive epoch(s)\n",
      "Epoch 16/50\n",
      "  Train_Loss: 0.0506 | Train_Acc: 0.9832\n",
      "  Val_Loss: 0.0852 | Val_Acc: 0.9780\n",
      "  Δ(val_loss) = 0.000430 < min_delta = 0.001 for 2 consecutive epoch(s)\n",
      "Epoch 17/50\n",
      "  Train_Loss: 0.0500 | Train_Acc: 0.9835\n",
      "  Val_Loss: 0.0956 | Val_Acc: 0.9753\n",
      "  Warning: val_loss = 0.0956 > best_val_loss + delta_overfit = 0.0915\n",
      "Epoch 18/50\n",
      "  Train_Loss: 0.0476 | Train_Acc: 0.9838\n",
      "  Val_Loss: 0.0822 | Val_Acc: 0.9780\n",
      "Epoch 19/50\n",
      "  Train_Loss: 0.0471 | Train_Acc: 0.9846\n",
      "  Val_Loss: 0.0851 | Val_Acc: 0.9793\n",
      "Epoch 20/50\n",
      "  Train_Loss: 0.0487 | Train_Acc: 0.9841\n",
      "  Val_Loss: 0.0918 | Val_Acc: 0.9778\n",
      "  Warning: val_loss = 0.0918 > best_val_loss + delta_overfit = 0.0915\n",
      "Epoch 21/50\n",
      "  Train_Loss: 0.0443 | Train_Acc: 0.9849\n",
      "  Val_Loss: 0.0934 | Val_Acc: 0.9763\n",
      "  Warning: val_loss = 0.0934 > best_val_loss + delta_overfit = 0.0915\n",
      "Early stopping due to overfitting\n",
      "Epoch 21: val_loss has been higher than best_val_loss + delta (0.01) for 2 epochs.\n"
     ]
    }
   ],
   "source": [
    "# Instantiate model and optimizer\n",
    "model = MLP().to(device)\n",
    "optimizer = torch.optim.Adam(model.parameters(), lr=learning_rate)\n",
    "criterion = nn.CrossEntropyLoss()\n",
    "\n",
    "# Initialize lists to store loss values\n",
    "train_losses = []\n",
    "val_losses = []\n",
    "\n",
    "# Early stopping configuration\n",
    "patience = 5\n",
    "min_delta = 0.001\n",
    "insufficient_change_epochs = 0\n",
    "prev_val_loss = None\n",
    "\n",
    "# Overfitting control\n",
    "best_val_loss = float('inf')\n",
    "delta_overfit = 0.01\n",
    "overfit_epochs = 0\n",
    "overfit_patience = 2 \n",
    "\n",
    "# Training loop\n",
    "for epoch in range(num_epochs):\n",
    "    train_loss, train_acc = train_one_epoch(model, train_loader, optimizer, criterion)\n",
    "    val_loss, val_acc = evaluate(model, val_loader, criterion)\n",
    "\n",
    "    train_losses.append(train_loss)\n",
    "    val_losses.append(val_loss)\n",
    "\n",
    "    print(f\"Epoch {epoch+1}/{num_epochs}\")\n",
    "    print(f\"  Train_Loss: {train_loss:.4f} | Train_Acc: {train_acc:.4f}\")\n",
    "    print(f\"  Val_Loss: {val_loss:.4f} | Val_Acc: {val_acc:.4f}\")\n",
    "\n",
    "    # Logging to Weights & Biases\n",
    "    wandb.log({\n",
    "        \"epoch\": epoch + 1,\n",
    "        \"train_loss\": train_loss,\n",
    "        \"train_acc\": train_acc,\n",
    "        \"val_loss\": val_loss,\n",
    "        \"val_acc\": val_acc\n",
    "    })\n",
    "\n",
    "    # Track minimum validation loss\n",
    "    if val_loss < best_val_loss:\n",
    "        best_val_loss = val_loss\n",
    "        overfit_epochs = 0  # reset overfitting counter\n",
    "        torch.save(model.state_dict(), 'best_model.pth')\n",
    "    else:\n",
    "        if val_loss > best_val_loss + delta_overfit:\n",
    "            overfit_epochs += 1\n",
    "            print(f\"  Warning: val_loss > best_val_loss + delta_overfit = {best_val_loss + delta_overfit:.4f}\")\n",
    "            if overfit_epochs >= overfit_patience:\n",
    "                print(f\"Early stopping due to overfitting\\nEpoch {epoch+1}: val_loss has been higher than best_val_loss + delta ({delta_overfit}) for {overfit_patience} epochs.\")\n",
    "                break\n",
    "        else:\n",
    "            overfit_epochs = 0  # reset if val_loss drops again below the overfit threshold\n",
    "\n",
    "    # Early stopping based on negligible change in val_loss\n",
    "    if prev_val_loss is None:\n",
    "        prev_val_loss = val_loss\n",
    "        continue\n",
    "\n",
    "    delta = abs(prev_val_loss - val_loss)\n",
    "    if delta >= min_delta:\n",
    "        insufficient_change_epochs = 0\n",
    "    else:\n",
    "        insufficient_change_epochs += 1\n",
    "        print(f\"  Δ(val_loss) < {min_delta} for {insufficient_change_epochs} consecutive epoch(s)\")\n",
    "        if insufficient_change_epochs >= patience:\n",
    "            print(f\"Early stopping due to stagnation\\nEpoch {epoch+1}: No significant change (|Δ| < {min_delta}) for {patience} consecutive epochs.\")\n",
    "            break\n",
    "\n",
    "    prev_val_loss = val_loss\n"
   ]
  },
  {
   "cell_type": "markdown",
   "id": "d6904ff9",
   "metadata": {},
   "source": [
    "## **score on test set and Learning curve plot**"
   ]
  },
  {
   "cell_type": "code",
   "execution_count": 7,
   "id": "74886352",
   "metadata": {},
   "outputs": [
    {
     "name": "stdout",
     "output_type": "stream",
     "text": [
      "Test Loss: 0.0824 | Test Accuracy: 0.9801\n"
     ]
    },
    {
     "data": {
      "image/png": "[encoded data removed]",
      "text/plain": [
       "<Figure size 640x480 with 1 Axes>"
      ]
     },
     "metadata": {},
     "output_type": "display_data"
    }
   ],
   "source": [
    "test_loss, test_acc = evaluate(model, test_loader, criterion)\n",
    "print(f\"Test Loss: {test_loss:.4f} | Test Accuracy: {test_acc:.4f}\")\n",
    "\n",
    "plt.plot(train_losses, label='Train Loss')\n",
    "plt.plot(val_losses, label='Validation Loss')\n",
    "plt.xlabel('Epoch')\n",
    "plt.ylabel('Loss')\n",
    "plt.title('Learning Curve')\n",
    "plt.legend()\n",
    "plt.show()"
   ]
  },
  {
   "cell_type": "markdown",
   "id": "0fb8ad9b-e3ae-4c49-9bec-35aaea149b08",
   "metadata": {},
   "source": [
    "### Exercise 1.2: Adding Residual Connections\n",
    "\n",
    "Implement a variant of your parameterized MLP network to support **residual** connections. Your network should be defined as a composition of **residual MLP** blocks that have one or more linear layers and add a skip connection from the block input to the output of the final linear layer.\n",
    "\n",
    "**Compare** the performance (in training/validation loss and test accuracy) of your MLP and ResidualMLP for a range of depths. Verify that deeper networks **with** residual connections are easier to train than a network of the same depth **without** residual connections.\n",
    "\n",
    "**For extra style points**: See if you can explain by analyzing the gradient magnitudes on a single training batch *why* this is the case. "
   ]
  },
  {
   "cell_type": "code",
   "execution_count": null,
   "id": "90bcff82-756a-4ffa-92ae-a939fa21f5fd",
   "metadata": {
    "tags": []
   },
   "outputs": [],
   "source": [
    "# Your code here."
   ]
  },
  {
   "cell_type": "markdown",
   "id": "3c59bdd8-3377-4311-b45f-511c2fb0b53e",
   "metadata": {},
   "source": [
    "### Exercise 1.3: Rinse and Repeat (but with a CNN)\n",
    "\n",
    "Repeat the verification you did above, but with **Convolutional** Neural Networks. If you were careful about abstracting your model and training code, this should be a simple exercise. Show that **deeper** CNNs *without* residual connections do not always work better and **even deeper** ones *with* residual connections.\n",
    "\n",
    "**Hint**: You probably should do this exercise using CIFAR-10, since MNIST is *very* easy (at least up to about 99% accuracy).\n",
    "\n",
    "**Tip**: Feel free to reuse the ResNet building blocks defined in `torchvision.models.resnet` (e.g. [BasicBlock](https://github.com/pytorch/vision/blob/main/torchvision/models/resnet.py#L59) which handles the cascade of 3x3 convolutions, skip connections, and optional downsampling). This is an excellent exercise in code diving. \n",
    "\n",
    "**Spoiler**: Depending on the optional exercises you plan to do below, you should think *very* carefully about the architectures of your CNNs here (so you can reuse them!)."
   ]
  },
  {
   "cell_type": "code",
   "execution_count": null,
   "id": "3c8baa0e-b17f-4a77-8a88-dadfdc6763ea",
   "metadata": {},
   "outputs": [],
   "source": [
    "# Your code here."
   ]
  },
  {
   "cell_type": "markdown",
   "id": "ef4de2f2-abc5-4f98-9eaf-3497f734a022",
   "metadata": {},
   "source": [
    "-----\n",
    "## Exercise 2: Choose at Least One\n",
    "\n",
    "Below are **three** exercises that ask you to deepen your understanding of Deep Networks for visual recognition. You must choose **at least one** of the below for your final submission -- feel free to do **more**, but at least **ONE** you must submit. Each exercise is designed to require you to dig your hands **deep** into the guts of your models in order to do new and interesting things.\n",
    "\n",
    "**Note**: These exercises are designed to use your small, custom CNNs and small datasets. This is to keep training times reasonable. If you have a decent GPU, feel free to use pretrained ResNets and larger datasets (e.g. the [Imagenette](https://pytorch.org/vision/0.20/generated/torchvision.datasets.Imagenette.html#torchvision.datasets.Imagenette) dataset at 160px)."
   ]
  },
  {
   "cell_type": "markdown",
   "id": "07978e8e-9f2e-4949-9699-495af6cb6349",
   "metadata": {},
   "source": [
    "### Exercise 2.1: *Fine-tune* a pre-trained model\n",
    "Train one of your residual CNN models from Exercise 1.3 on CIFAR-10. Then:\n",
    "1. Use the pre-trained model as a **feature extractor** (i.e. to extract the feature activations of the layer input into the classifier) on CIFAR-100. Use a **classical** approach (e.g. Linear SVM, K-Nearest Neighbor, or Bayesian Generative Classifier) from scikit-learn to establish a **stable baseline** performance on CIFAR-100 using the features extracted using your CNN.\n",
    "2. Fine-tune your CNN on the CIFAR-100 training set and compare with your stable baseline. Experiment with different strategies:\n",
    "    - Unfreeze some of the earlier layers for fine-tuning.\n",
    "    - Test different optimizers (Adam, SGD, etc.).\n",
    "\n",
    "Each of these steps will require you to modify your model definition in some way. For 1, you will need to return the activations of the last fully-connected layer (or the global average pooling layer). For 2, you will need to replace the original, 10-class classifier with a new, randomly-initialized 100-class classifier."
   ]
  },
  {
   "cell_type": "code",
   "execution_count": null,
   "id": "469e81a3-08ca-4549-a2f8-f47cf5a0308b",
   "metadata": {
    "tags": []
   },
   "outputs": [],
   "source": [
    "# Your code here."
   ]
  },
  {
   "cell_type": "markdown",
   "id": "440a3a7b-2ed6-4f58-a1b7-5ab1fc432893",
   "metadata": {},
   "source": [
    "### Exercise 2.2: *Distill* the knowledge from a large model into a smaller one\n",
    "In this exercise you will see if you can derive a *small* model that performs comparably to a larger one on CIFAR-10. To do this, you will use [Knowledge Distillation](https://arxiv.org/abs/1503.02531):\n",
    "\n",
    "> Geoffrey Hinton, Oriol Vinyals, and Jeff Dean. Distilling the Knowledge in a Neural Network, NeurIPS 2015.\n",
    "\n",
    "To do this:\n",
    "1. Train one of your best-performing CNNs on CIFAR-10 from Exercise 1.3 above. This will be your **teacher** model.\n",
    "2. Define a *smaller* variant with about half the number of parameters (change the width and/or depth of the network). Train it on CIFAR-10 and verify that it performs *worse* than your **teacher**. This small network will be your **student** model.\n",
    "3. Train the **student** using a combination of **hard labels** from the CIFAR-10 training set (cross entropy loss) and **soft labels** from predictions of the **teacher** (Kulback-Leibler loss between teacher and student).\n",
    "\n",
    "Try to optimize training parameters in order to maximize the performance of the student. It should at least outperform the student trained only on hard labels in Setp 2.\n",
    "\n",
    "**Tip**: You can save the predictions of the trained teacher network on the training set and adapt your dataloader to provide them together with hard labels. This will **greatly** speed up training compared to performing a forward pass through the teacher for each batch of training."
   ]
  },
  {
   "cell_type": "code",
   "execution_count": null,
   "id": "9e33c912-0716-44ef-a91b-47ca19a2b2cd",
   "metadata": {
    "tags": []
   },
   "outputs": [],
   "source": [
    "# Your code here."
   ]
  },
  {
   "cell_type": "markdown",
   "id": "8243f811-8227-4c6f-b07f-56e8cd91643a",
   "metadata": {},
   "source": [
    "### Exercise 2.3: *Explain* the predictions of a CNN\n",
    "\n",
    "Use the CNN model you trained in Exercise 1.3 and implement [*Class Activation Maps*](http://cnnlocalization.csail.mit.edu/#:~:text=A%20class%20activation%20map%20for,decision%20made%20by%20the%20CNN.):\n",
    "\n",
    "> B. Zhou, A. Khosla, A. Lapedriza, A. Oliva, and A. Torralba. Learning Deep Features for Discriminative Localization. CVPR'16 (arXiv:1512.04150, 2015).\n",
    "\n",
    "Use your CNN implementation to demonstrate how your trained CNN *attends* to specific image features to recognize *specific* classes. Try your implementation out using a pre-trained ResNet-18 model and some images from the [Imagenette](https://pytorch.org/vision/0.20/generated/torchvision.datasets.Imagenette.html#torchvision.datasets.Imagenette) dataset -- I suggest you start with the low resolution version of images at 160px."
   ]
  },
  {
   "cell_type": "code",
   "execution_count": null,
   "id": "d634a700-56c2-48fd-96e0-4c94d1bd0cfe",
   "metadata": {
    "tags": []
   },
   "outputs": [],
   "source": [
    "# Your code here."
   ]
  }
 ],
 "metadata": {
  "kernelspec": {
   "display_name": "lab1_env",
   "language": "python",
   "name": "python3"
  },
  "language_info": {
   "codemirror_mode": {
    "name": "ipython",
    "version": 3
   },
   "file_extension": ".py",
   "mimetype": "text/x-python",
   "name": "python",
   "nbconvert_exporter": "python",
   "pygments_lexer": "ipython3",
   "version": "3.11.11"
  }
 },
 "nbformat": 4,
 "nbformat_minor": 5
}
